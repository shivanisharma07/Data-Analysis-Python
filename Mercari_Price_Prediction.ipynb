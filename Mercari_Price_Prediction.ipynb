{
  "nbformat": 4,
  "nbformat_minor": 0,
  "metadata": {
    "colab": {
      "name": "Mercari_Price_Prediction.ipynb",
      "provenance": [],
      "collapsed_sections": []
    },
    "kernelspec": {
      "display_name": "Python 3",
      "language": "python",
      "name": "python3"
    },
    "language_info": {
      "codemirror_mode": {
        "name": "ipython",
        "version": 3
      },
      "file_extension": ".py",
      "mimetype": "text/x-python",
      "name": "python",
      "nbconvert_exporter": "python",
      "pygments_lexer": "ipython3",
      "version": "3.6.4"
    }
  },
  "cells": [
    {
      "cell_type": "markdown",
      "metadata": {
        "id": "OgToGaEn3MO0"
      },
      "source": [
        "# Mercari Price Prediction"
      ]
    },
    {
      "cell_type": "markdown",
      "metadata": {
        "id": "GUudYkb33ixz"
      },
      "source": [
        "Mercari is Japan's biggest community powered shopping app where people can sell and buy a variety of brand new and used products of different brands, from sweaters to smartphones. Now Mercari would like to suggest the correct prices to the sellers but this is tough because their sellers are enabled to put just about anything, or any bundle of things on Mercari's marketplace.\n",
        "So our objective is to build a model that automatically suggests the right product prices to the sellers. We are provided of the following information for each product:\n",
        "\n",
        "train_id - the id of the product\n",
        "\n",
        "name - the title of the product\n",
        "\n",
        "item_condition_id - the condition of the product provided by the sellers\n",
        "\n",
        "category_name - category of the product\n",
        "\n",
        "brand_name - the product's brand name\n",
        "\n",
        "shipping - 1 if shipping fee is paid by seller and 0 if shipping fee is paid by buyer\n",
        "\n",
        "item_description - the full description of the product\n",
        "\n",
        "price - the price that the product was sold for (This is the target variable that we will predict)\n",
        "\n",
        "This type of problem lies under the category of Supervised Regression Machine Learning:\n",
        "Supervised: We have access to both the features and the target and our goal is to train a model that can learn a mapping between the two.\n",
        "Regression: The target variable, price, is a continuous variable."
      ]
    },
    {
      "cell_type": "code",
      "metadata": {
        "id": "zkx3klS6bAR8"
      },
      "source": [
        "#for connecting to google drive\n",
        "#!pip install -U -q pyDrive              \n",
        "\n",
        "#from pydrive.auth import GoogleAuth\n",
        "#from pydrive.drive import GoogleDrive\n",
        "#from google.colab import auth\n",
        "#from oauth2client.client import GoogleCredentials\n",
        "\n",
        "#auth.authenticate_user()\n",
        "#gauth = GoogleAuth()\n",
        "#gauth.credentials = GoogleCredentials.get_application_default()\n",
        "#drive = GoogleDrive(gauth)"
      ],
      "execution_count": null,
      "outputs": []
    },
    {
      "cell_type": "code",
      "metadata": {
        "id": "8KfI_x8EbLdR"
      },
      "source": [
        "#for accessing the data file through the google drive shareable link\n",
        "#train=drive.CreateFile({'id':'1mN96UKMA2lcYq7vd5_MAPG9ybttjzIIM'})\n",
        "#train.GetContentFile('train.tsv')"
      ],
      "execution_count": null,
      "outputs": []
    },
    {
      "cell_type": "markdown",
      "metadata": {
        "id": "N6rX4zW03-Oh"
      },
      "source": [
        "# **Exploratory Data Analysis**"
      ]
    },
    {
      "cell_type": "code",
      "metadata": {
        "id": "ey1ilPMXa0rw"
      },
      "source": [
        "import numpy as np\n",
        "import pandas as pd\n",
        "import matplotlib.pyplot as plt\n",
        "import seaborn as sns\n",
        "from sklearn.model_selection import train_test_split\n",
        "import warnings\n",
        "warnings.filterwarnings('ignore')"
      ],
      "execution_count": null,
      "outputs": []
    },
    {
      "cell_type": "code",
      "metadata": {
        "id": "uFo4IVYjQkFB",
        "outputId": "043af53e-3ff3-4400-83d7-5589ec6f4c76"
      },
      "source": [
        "data = pd.read_csv('train.tsv', sep='\\t')\n",
        "print(data[10:30])\n",
        "\n",
        "\n",
        "data['item_condition_id'].value_counts()\n",
        "print(data.shape)"
      ],
      "execution_count": null,
      "outputs": [
        {
          "output_type": "stream",
          "text": [
            "    train_id                                     name  item_condition_id  \\\n",
            "10        10                          Smashbox primer                  2   \n",
            "11        11                   New vs pi k body mists                  1   \n",
            "12        12                       Black Skater dress                  2   \n",
            "13        13                     Sharpener and eraser                  1   \n",
            "14        14       HOLD for Dogs2016 Minnetonka boots                  3   \n",
            "15        15              Sephora tarte birthday gift                  1   \n",
            "16        16                        Glitter Eyeshadow                  1   \n",
            "17        17      New: Baby K'tan active baby carrier                  1   \n",
            "18        18      Too Faced Limited \"Merry Macaroons\"                  1   \n",
            "19        19           Cream/ Beige Front Cross Shirt                  2   \n",
            "20        20          Torrid Nautical Peplum Tube Top                  3   \n",
            "21        21         NWT VS ULTIMATE SPORTS BRA 34ddd                  1   \n",
            "22        22           Galaxy S7 Edge (Unlocked) 32GB                  3   \n",
            "23        23                       Triple car charger                  1   \n",
            "24        24               Black and Red Baseball Tee                  2   \n",
            "25        25                    Air Jordan carmine 6s                  3   \n",
            "26        26  Otterbox Defender iPhone 6 Plus/6s Plus                  1   \n",
            "27        27   LuLaRoe OS Black With White Polka Dots                  3   \n",
            "28        28        Forever21 floral romper strapless                  2   \n",
            "29        29                            Kendra bundle                  3   \n",
            "\n",
            "                                        category_name         brand_name  \\\n",
            "10                                 Beauty/Makeup/Face           Smashbox   \n",
            "11                             Beauty/Fragrance/Women  Victoria's Secret   \n",
            "12                     Women/Dresses/Above Knee, Mini                rue   \n",
            "13              Other/Office supplies/School Supplies         Scholastic   \n",
            "14                                  Women/Shoes/Boots      UGG Australia   \n",
            "15                          Beauty/Makeup/Makeup Sets              Tarte   \n",
            "16                                 Beauty/Makeup/Eyes         Wet n Wild   \n",
            "17                     Kids/Gear/Backpacks & Carriers                NaN   \n",
            "18                      Beauty/Makeup/Makeup Palettes          Too Faced   \n",
            "19                        Women/Tops & Blouses/Blouse      Anthropologie   \n",
            "20                    Women/Tops & Blouses/Tank, Cami             Torrid   \n",
            "21                 Women/Athletic Apparel/Sports Bras  Victoria's Secret   \n",
            "22  Electronics/Cell Phones & Accessories/Cell Pho...            Samsung   \n",
            "23  Electronics/Cell Phones & Accessories/Chargers...                NaN   \n",
            "24                      Women/Tops & Blouses/T-Shirts         FOREVER 21   \n",
            "25                                 Men/Shoes/Athletic         Air Jordan   \n",
            "26  Electronics/Cell Phones & Accessories/Cases, C...              Apple   \n",
            "27     Women/Athletic Apparel/Pants, Tights, Leggings            LuLaRoe   \n",
            "28                           Women/Swimwear/One-Piece         FOREVER 21   \n",
            "29                               Women/Jeans/Boot Cut          Hollister   \n",
            "\n",
            "    price  shipping                                   item_description  \n",
            "10    8.0         1       0.25 oz Full size is 1oz for [rm] in Sephora  \n",
            "11   34.0         0  (5) new vs pink body mists (2.5 oz each) Fresh...  \n",
            "12   16.0         0                                Xl, great condition  \n",
            "13    4.0         1                                 No description yet  \n",
            "14   43.0         0  Authentic. Suede fringe boots. Great condition...  \n",
            "15   11.0         1  Brand new. Deluxe travel size products. Contai...  \n",
            "16    6.0         1  2 glitter eyeshadows; one in Brass and one in ...  \n",
            "17   29.0         1  Brand new in box Size: Medium Color: Coral Ret...  \n",
            "18   25.0         1  This AUTHENTIC pallete by Too Faced is brand n...  \n",
            "19   27.0         0  Fancy, dressy or casual! Dress it up or down 1...  \n",
            "20   13.0         1             Size 1. Worn once. Excellent condition  \n",
            "21   20.0         0  NWT Victoria's Secret ULTIMATE SPORT BRA -MAXI...  \n",
            "22  386.0         0  Reasonable offers welcomed. But if you ask \"lo...  \n",
            "23    8.0         1  Brand new never used All colors are available ...  \n",
            "24   10.0         0  lanascloset ~~~ description: never worn! ✨ i d...  \n",
            "25   66.0         0  They are 100 percent authentic. They are beate...  \n",
            "26   13.0         1  Brand new Otterbox Defender iPhone 6 Plus/6s Plus  \n",
            "27   24.0         0                 Worn one time. Excellent condition  \n",
            "28    5.0         1  Beautiful Excellent condition Zips and ties in...  \n",
            "29   16.0         1  29w. X 33l. Social stretch hollister jeans ***...  \n",
            "(1482535, 8)\n"
          ],
          "name": "stdout"
        }
      ]
    },
    {
      "cell_type": "code",
      "metadata": {
        "colab": {
          "base_uri": "https://localhost:8080/",
          "height": 34
        },
        "id": "-xhz31OkbjvM",
        "outputId": "65c401d1-ed0c-437f-f36b-05152642c477"
      },
      "source": [
        "data = pd.read_csv('train.tsv', sep='\\t')\n",
        "train, test = train_test_split(data, test_size=0.2, shuffle=False)\n",
        "print(train.shape, test.shape)\n",
        "print(data.shape)\n",
        "print(data.head(10))\n"
      ],
      "execution_count": null,
      "outputs": [
        {
          "output_type": "stream",
          "text": [
            "(1186028, 8) (296507, 8)\n",
            "(1482535, 8)\n",
            "   train_id                                    name  item_condition_id  \\\n",
            "0         0     MLB Cincinnati Reds T Shirt Size XL                  3   \n",
            "1         1        Razer BlackWidow Chroma Keyboard                  3   \n",
            "2         2                          AVA-VIV Blouse                  1   \n",
            "3         3                   Leather Horse Statues                  1   \n",
            "4         4                    24K GOLD plated rose                  1   \n",
            "5         5        Bundled items requested for Ruie                  3   \n",
            "6         6      Acacia pacific tides santorini top                  3   \n",
            "7         7    Girls cheer and tumbling bundle of 7                  3   \n",
            "8         8                   Girls Nike Pro shorts                  3   \n",
            "9         9  Porcelain clown doll checker pants VTG                  3   \n",
            "\n",
            "                                       category_name       brand_name  price  \\\n",
            "0                                  Men/Tops/T-shirts              NaN   10.0   \n",
            "1  Electronics/Computers & Tablets/Components & P...            Razer   52.0   \n",
            "2                        Women/Tops & Blouses/Blouse           Target   10.0   \n",
            "3                 Home/Home Décor/Home Décor Accents              NaN   35.0   \n",
            "4                            Women/Jewelry/Necklaces              NaN   44.0   \n",
            "5                                  Women/Other/Other              NaN   59.0   \n",
            "6                           Women/Swimwear/Two-Piece  Acacia Swimwear   64.0   \n",
            "7                    Sports & Outdoors/Apparel/Girls            Soffe    6.0   \n",
            "8                    Sports & Outdoors/Apparel/Girls             Nike   19.0   \n",
            "9           Vintage & Collectibles/Collectibles/Doll              NaN    8.0   \n",
            "\n",
            "   shipping                                   item_description  \n",
            "0         1                                 No description yet  \n",
            "1         0  This keyboard is in great condition and works ...  \n",
            "2         1  Adorable top with a hint of lace and a key hol...  \n",
            "3         1  New with tags. Leather horses. Retail for [rm]...  \n",
            "4         0          Complete with certificate of authenticity  \n",
            "5         0  Banana republic bottoms, Candies skirt with ma...  \n",
            "6         0  Size small but straps slightly shortened to fi...  \n",
            "7         1  You get three pairs of Sophie cheer shorts siz...  \n",
            "8         0   Girls Size small Plus green. Three shorts total.  \n",
            "9         0  I realized his pants are on backwards after th...  \n"
          ],
          "name": "stdout"
        }
      ]
    },
    {
      "cell_type": "code",
      "metadata": {
        "id": "NVUU0A2AQkFD"
      },
      "source": [
        "data.head(5)\n",
        "data['item_condition_id'].value_counts()\n",
        "data.isnull().sum()\n",
        "len(data)\n",
        "#data.head(5)\n",
        "df=data"
      ],
      "execution_count": null,
      "outputs": []
    },
    {
      "cell_type": "code",
      "metadata": {
        "id": "D5fYPuXBQkFE",
        "outputId": "48e2d85e-4a13-4c45-d7bc-4ca57dd824ee"
      },
      "source": [
        "df\n",
        "len(df)"
      ],
      "execution_count": null,
      "outputs": [
        {
          "output_type": "execute_result",
          "data": {
            "text/plain": [
              "1482535"
            ]
          },
          "metadata": {
            "tags": []
          },
          "execution_count": 5
        }
      ]
    },
    {
      "cell_type": "code",
      "metadata": {
        "id": "5BPxdizYQkFF"
      },
      "source": [
        " # Total missing values\n",
        "mis_val = df.sum()\n",
        "print(\"missing values\", mis_val)"
      ],
      "execution_count": null,
      "outputs": []
    },
    {
      "cell_type": "code",
      "metadata": {
        "id": "-xqG5WP2ViNt"
      },
      "source": [
        "# Function to calculate missing values by column\n",
        "def missing_values_table(df):\n",
        "        # Total missing values\n",
        "        mis_val = df.isnull().sum()\n",
        "        print(\"missing values\", mis_val)\n",
        "        \n",
        "        # Percentage of missing values\n",
        "        mis_val_percent = 100 * df.isnull().sum() / len(df)\n",
        "        print(\"missing percentage\", mis_val_percent)\n",
        "        \n",
        "        # Make a table with the results\n",
        "        mis_val_table = pd.concat([mis_val, mis_val_percent])\n",
        "        print(type(mis_val_table))\n",
        "       # print(type(df))\n",
        "        # Rename the columns\n",
        "        mis_val_table_ren_columns = mis_val_table.rename(columns = {0 : 'Missing Values', 1 : '% of Total Values'})\n",
        "        \n",
        "        # Sort the table by percentage of missing descending\n",
        "        print(mis_val_table_ren_columns[mis_val_table_ren_columns.iloc[:,1] != 0])\n",
        "        mis_val_table_ren_columns = mis_val_table_ren_columns[mis_val_table_ren_columns.iloc[:,1] != 0].sort_values(\n",
        "        '% of Total Values', ascending=False)\n",
        "        \n",
        "        # Print some summary information\n",
        "        print (\"Your selected dataframe has \" + str(df.shape[1]) + \" columns.\\n\" +    \"There are \" + str(mis_val_table_ren_columns.shape[0]) +\" columns that have missing values.\")\n",
        "        \n",
        "        # Return the dataframe with missing information\n",
        "        return mis_val_table_ren_columns"
      ],
      "execution_count": null,
      "outputs": []
    },
    {
      "cell_type": "code",
      "metadata": {
        "colab": {
          "base_uri": "https://localhost:8080/",
          "height": 176
        },
        "id": "7kzPGVDtVj8R",
        "outputId": "4281b5d4-dfda-4113-893d-465214eba605"
      },
      "source": [
        "\n",
        "missing_values_table(data[0:1000])\n"
      ],
      "execution_count": null,
      "outputs": [
        {
          "output_type": "stream",
          "text": [
            "missing values train_id               0\n",
            "name                   0\n",
            "item_condition_id      0\n",
            "category_name          4\n",
            "brand_name           418\n",
            "price                  0\n",
            "shipping               0\n",
            "item_description       0\n",
            "dtype: int64\n",
            "missing percentage train_id              0.0\n",
            "name                  0.0\n",
            "item_condition_id     0.0\n",
            "category_name         0.4\n",
            "brand_name           41.8\n",
            "price                 0.0\n",
            "shipping              0.0\n",
            "item_description      0.0\n",
            "dtype: float64\n",
            "<class 'pandas.core.frame.DataFrame'>\n",
            "               Missing Values  % of Total Values\n",
            "category_name               4                0.4\n",
            "brand_name                418               41.8\n",
            "Your selected dataframe has 8 columns.\n",
            "There are 2 columns that have missing values.\n"
          ],
          "name": "stdout"
        },
        {
          "output_type": "execute_result",
          "data": {
            "text/html": [
              "<div>\n",
              "<style scoped>\n",
              "    .dataframe tbody tr th:only-of-type {\n",
              "        vertical-align: middle;\n",
              "    }\n",
              "\n",
              "    .dataframe tbody tr th {\n",
              "        vertical-align: top;\n",
              "    }\n",
              "\n",
              "    .dataframe thead th {\n",
              "        text-align: right;\n",
              "    }\n",
              "</style>\n",
              "<table border=\"1\" class=\"dataframe\">\n",
              "  <thead>\n",
              "    <tr style=\"text-align: right;\">\n",
              "      <th></th>\n",
              "      <th>Missing Values</th>\n",
              "      <th>% of Total Values</th>\n",
              "    </tr>\n",
              "  </thead>\n",
              "  <tbody>\n",
              "    <tr>\n",
              "      <th>brand_name</th>\n",
              "      <td>418</td>\n",
              "      <td>41.8</td>\n",
              "    </tr>\n",
              "    <tr>\n",
              "      <th>category_name</th>\n",
              "      <td>4</td>\n",
              "      <td>0.4</td>\n",
              "    </tr>\n",
              "  </tbody>\n",
              "</table>\n",
              "</div>"
            ],
            "text/plain": [
              "               Missing Values  % of Total Values\n",
              "brand_name                418               41.8\n",
              "category_name               4                0.4"
            ]
          },
          "metadata": {
            "tags": []
          },
          "execution_count": 18
        }
      ]
    },
    {
      "cell_type": "code",
      "metadata": {
        "id": "HtKfP4GoQkFH",
        "outputId": "5b8d07df-aafd-4ae4-8e6f-c01117747065"
      },
      "source": [
        "mis_val"
      ],
      "execution_count": null,
      "outputs": [
        {
          "output_type": "execute_result",
          "data": {
            "text/plain": [
              "train_id               0\n",
              "name                   0\n",
              "item_condition_id      0\n",
              "category_name          4\n",
              "brand_name           418\n",
              "price                  0\n",
              "shipping               0\n",
              "item_description       0\n",
              "dtype: int64"
            ]
          },
          "metadata": {
            "tags": []
          },
          "execution_count": 19
        }
      ]
    },
    {
      "cell_type": "code",
      "metadata": {
        "id": "YhLg-vFVtyXv"
      },
      "source": [
        "train.info()\n"
      ],
      "execution_count": null,
      "outputs": []
    },
    {
      "cell_type": "markdown",
      "metadata": {
        "id": "TDAm6mKuW3hY"
      },
      "source": [
        "# **Exploratory Data Analysis**\n",
        "There are a total of 8 features in this data set. The title and description of the features are follows:-"
      ]
    },
    {
      "cell_type": "code",
      "metadata": {
        "id": "IQFc04l4hOKm"
      },
      "source": [
        "print('There are a total of',train.shape[0],'observations in the train data.')"
      ],
      "execution_count": null,
      "outputs": []
    },
    {
      "cell_type": "code",
      "metadata": {
        "id": "Ig4RXGTwg4sa"
      },
      "source": [
        "train.head(5)"
      ],
      "execution_count": null,
      "outputs": []
    },
    {
      "cell_type": "markdown",
      "metadata": {
        "id": "sC4BWl1vhy6M"
      },
      "source": [
        "<h2> Price </h2>"
      ]
    },
    {
      "cell_type": "code",
      "metadata": {
        "id": "9J9zW8LSh9Gh"
      },
      "source": [
        "train['price'].describe().round()"
      ],
      "execution_count": null,
      "outputs": []
    },
    {
      "cell_type": "code",
      "metadata": {
        "id": "BHJkPgO4Kax4"
      },
      "source": [
        "price = train['price'].values\n"
      ],
      "execution_count": null,
      "outputs": []
    },
    {
      "cell_type": "code",
      "metadata": {
        "id": "oiycX9BTQkFL"
      },
      "source": [
        "price = np.sort(price, axis=None)\n",
        "len(price)\n",
        "data['price'].isnull().count()\n",
        "#print('{}th percentile value is {}'.format(90, price[int(len(price)*(float(90)/100))]))\n",
        "\n"
      ],
      "execution_count": null,
      "outputs": []
    },
    {
      "cell_type": "code",
      "metadata": {
        "colab": {
          "base_uri": "https://localhost:8080/",
          "height": 364
        },
        "id": "OliANKx0umSM",
        "outputId": "012b3b9d-0a48-43a3-f5dc-6e113e61f0f1"
      },
      "source": [
        "train['price'].plot.hist(bins=100, figsize=(10,5), edgecolor='white',range=[0,500])\n",
        "plt.xlabel('Price', fontsize=15)\n",
        "plt.ylabel('Frequency', fontsize=15)\n",
        "plt.tick_params(labelsize=15)\n",
        "plt.title('Price Distribution - Training Set', fontsize=17)\n",
        "plt.show()\n"
      ],
      "execution_count": null,
      "outputs": [
        {
          "output_type": "display_data",
          "data": {
            "image/png": "[encoded data removed]",
            "text/plain": [
              "<matplotlib.figure.Figure at 0x276c511be48>"
            ]
          },
          "metadata": {
            "tags": []
          }
        }
      ]
    },
    {
      "cell_type": "markdown",
      "metadata": {
        "id": "5qQMBR3MiMTB"
      },
      "source": [
        "Based on the the above statistics, the observations are as follows: \n",
        "\n",
        "*   The **median price** of the items is **17 dollars**.\n",
        "*   Around **90% of the items** have price around **51 dollars or below**.\n",
        "*   The **Price distribution** of the items is heavily **skewed to the right**.\n"
      ]
    },
    {
      "cell_type": "code",
      "metadata": {
        "id": "lkEDllzsQkFM"
      },
      "source": [
        "print(data['price'].median())\n",
        "type(price)\n",
        "data[data['price'] <51].isnull().count()\n",
        "print(1332699/len(data)*100)"
      ],
      "execution_count": null,
      "outputs": []
    },
    {
      "cell_type": "markdown",
      "metadata": {
        "id": "MaLCC9W0VriG"
      },
      "source": [
        "<h2> Shipping </h2>"
      ]
    },
    {
      "cell_type": "code",
      "metadata": {
        "colab": {
          "base_uri": "https://localhost:8080/",
          "height": 68
        },
        "id": "qwyGXGjpV3sV",
        "outputId": "fa859cc5-32fc-42c3-d582-af360387db4c"
      },
      "source": [
        "print(train['shipping'].value_counts())\n",
        "train['shipping'].value_counts(normalize=True)*100\n",
        "\n",
        "#value - mean value / std dev (which is max-min)"
      ],
      "execution_count": null,
      "outputs": [
        {
          "output_type": "stream",
          "text": [
            "0    655490\n",
            "1    530538\n",
            "Name: shipping, dtype: int64\n"
          ],
          "name": "stdout"
        },
        {
          "output_type": "execute_result",
          "data": {
            "text/plain": [
              "0    55.267667\n",
              "1    44.732333\n",
              "Name: shipping, dtype: float64"
            ]
          },
          "metadata": {
            "tags": []
          },
          "execution_count": 26
        }
      ]
    },
    {
      "cell_type": "code",
      "metadata": {
        "colab": {
          "base_uri": "https://localhost:8080/",
          "height": 367
        },
        "id": "2y3o5aTaWj0U",
        "outputId": "220b194c-9f3c-408a-cc5f-407ec22ea126"
      },
      "source": [
        "#The matplotlib. pyplot. subplots method provides a way to plot multiple plots on a single figure. Given the number\n",
        "#of rows and columns , it returns a tuple ( fig , ax )\n",
        "#, giving a single figure fig with an array of axes ax .shipping_fee_by_seller = train.loc[train.shipping==1, 'price']\n",
        "\n",
        "shipping_fee_by_buyer = train.loc[train.shipping==0, 'price']\n",
        "\n",
        "fig, ax = plt.subplots(figsize=(10,5))\n",
        "print(fig)\n",
        "print(ax)\n",
        "ax.hist(shipping_fee_by_seller, color='Orange', bins=100, range=[0,100], label='Price when Seller pays Shipping')\n",
        "ax.hist(shipping_fee_by_buyer, color='Green',  bins=100, range=[0,100], label='Price when Buyer pays Shipping')\n",
        "ax.set(title='Histogram Comparison', ylabel='% of Dataset in Bin')\n",
        "plt.xlabel('Price', fontsize=17)\n",
        "plt.ylabel('Frequency', fontsize=17)\n",
        "plt.title('Price Distribution by Shipping Type', fontsize=17)\n",
        "plt.tick_params(labelsize=15)\n",
        "plt.legend()\n",
        "plt.show()"
      ],
      "execution_count": null,
      "outputs": [
        {
          "output_type": "stream",
          "text": [
            "Figure(720x360)\n",
            "AxesSubplot(0.125,0.125;0.775x0.755)\n"
          ],
          "name": "stdout"
        },
        {
          "output_type": "display_data",
          "data": {
            "image/png": "[encoded data removed]",
            "text/plain": [
              "<matplotlib.figure.Figure at 0x276c67bcb70>"
            ]
          },
          "metadata": {
            "tags": []
          }
        }
      ]
    },
    {
      "cell_type": "code",
      "metadata": {
        "id": "R_GAzGiNln4k"
      },
      "source": [
        "print('The median price is ${}'.format(round(shipping_fee_by_seller.median(), 2)), 'if seller pays shipping')\n",
        "print('The median price is ${}'.format(round(shipping_fee_by_buyer.median(), 2)), 'if buyer pays shipping')"
      ],
      "execution_count": null,
      "outputs": []
    },
    {
      "cell_type": "markdown",
      "metadata": {
        "id": "z0Tw6vvsmk0K"
      },
      "source": [
        "Some observations are as follows:-\n",
        "\n",
        "*   The **shipping fee for 55%** of the **items** are **paid** by the **buyers.**\n",
        "*   Normally when **we buy products online**, we **need to pay for shipping** or delivery for products which are **below a certain price.** But **here the trend is kind of opposite** since the median price of items for which the seller pays the shipping fees is lower than the median price of the items for which the buyer pays the shipping fees.   \n",
        "\n"
      ]
    },
    {
      "cell_type": "markdown",
      "metadata": {
        "id": "FCUjGr3EFaOB"
      },
      "source": [
        "<h2> Item Condition </h2>"
      ]
    },
    {
      "cell_type": "markdown",
      "metadata": {
        "id": "_X6wL09_OBPW"
      },
      "source": [
        "The 'item_condition_id' has five unique values ranging from 1 to 5. Lower the number, better the condition of the item."
      ]
    },
    {
      "cell_type": "code",
      "metadata": {
        "colab": {
          "base_uri": "https://localhost:8080/",
          "height": 119
        },
        "id": "JsiCxYO7I8h2",
        "outputId": "aca7a0d1-1d26-4f1b-a695-743f93b4aba9"
      },
      "source": [
        "train['item_condition_id'].value_counts(sort=False)*100"
      ],
      "execution_count": null,
      "outputs": [
        {
          "output_type": "execute_result",
          "data": {
            "text/plain": [
              "1    51229900\n",
              "2    30034100\n",
              "3    34592800\n",
              "4     2553700\n",
              "5      192300\n",
              "Name: item_condition_id, dtype: int64"
            ]
          },
          "metadata": {
            "tags": []
          },
          "execution_count": 34
        }
      ]
    },
    {
      "cell_type": "code",
      "metadata": {
        "colab": {
          "base_uri": "https://localhost:8080/",
          "height": 483
        },
        "id": "6d1FOPWpJs9P",
        "outputId": "a9a91c43-ad2b-453f-cd8a-d446344cbc26"
      },
      "source": [
        "price_100 = train[train['price']<100]\n",
        "\n",
        "fig, ax = plt.subplots(figsize=(20,7.5))\n",
        "sns.boxplot(x='item_condition_id', y='price', data=price_100, ax=ax)\n",
        "plt.xlabel('Item Condition', fontsize=15)\n",
        "plt.ylabel('Price', fontsize=15)\n",
        "plt.xticks(fontsize=15)\n",
        "plt.yticks(fontsize=15)\n",
        "plt.show()"
      ],
      "execution_count": null,
      "outputs": [
        {
          "output_type": "display_data",
          "data": {
            "image/png": "[encoded data removed]",
            "text/plain": [
              "<matplotlib.figure.Figure at 0x276e6edccf8>"
            ]
          },
          "metadata": {
            "tags": []
          }
        }
      ]
    },
    {
      "cell_type": "markdown",
      "metadata": {
        "id": "nbMhnNSkMfsG"
      },
      "source": [
        "Some observations are as follows:\n",
        "\n",
        "*   **43% of the items** have item **condition ID as 1** while only **0.16% of the items** have item **condition ID has 5.**\n",
        "*   Interestingly, items with item **condition ID as 5** have **higher median price** when compared with items having better condition. \n",
        "\n"
      ]
    },
    {
      "cell_type": "code",
      "metadata": {
        "id": "aq3jU_7hTK78"
      },
      "source": [
        "con = train[(train['item_condition_id']==5) & (train['price']>=20)]\n",
        "con.head(6)"
      ],
      "execution_count": null,
      "outputs": []
    },
    {
      "cell_type": "markdown",
      "metadata": {
        "id": "IARo4u_2OYlK"
      },
      "source": [
        "<h2> Category Name </h2>"
      ]
    },
    {
      "cell_type": "code",
      "metadata": {
        "id": "z2DLONWxOkc6"
      },
      "source": [
        "(train['category_name'].value_counts(normalize=True)*100).head(15)"
      ],
      "execution_count": null,
      "outputs": []
    },
    {
      "cell_type": "markdown",
      "metadata": {
        "id": "RvsW4WWRO_wB"
      },
      "source": [
        "As we can see, for each item, there are three sets of categories. The categories are arranged from top to bottom with respect to the comprehensiveness. Therefore we can split the categories into three different columns. The three categories will signify main category, first subcategory and second subcategory.\n",
        "\n",
        "**As a common preprocessing practice, we will convert all the textual categorical values to lower case. The reason for doing this will be clear with the following example. Suppose there is an entry in the data and the product belonging to that entry is an iPhone 6s and the corresponding brand name belonging to that product is 'APPLE'. There is an another entry with the product iPhone 6s and the corresponding brand name given is 'Apple'. So when we featurise the data for applying the machine learning models, any featurisation technique that we will apply will consider 'APPLE' and 'Apple' has two different values eventhough they mean the same thing. So, for our model to consider these two values as one, we will convert all the textual categorical values to lower case. Effectively, 'APPLE' and 'Apple' will become 'apple' and 'apple'.**\n",
        "\n",
        "Note:- These preprocessing steps will also be carried out on the test data, so that the train and test data both remained aligned with each other."
      ]
    },
    {
      "cell_type": "code",
      "metadata": {
        "id": "8SaTLCAJd94x"
      },
      "source": [
        "print(\"There are %d unique main categories.\" % train['category_name'].nunique())"
      ],
      "execution_count": null,
      "outputs": []
    },
    {
      "cell_type": "code",
      "metadata": {
        "id": "b2yxAL09QkFT"
      },
      "source": [
        "train['main_cat'], train['subcat_1'], train['subcat_2'] = zip(*train['category_name'].apply(lambda x: split_cat(x)))\n"
      ],
      "execution_count": null,
      "outputs": []
    },
    {
      "cell_type": "code",
      "metadata": {
        "id": "gyLb_T-lQyeM"
      },
      "source": [
        "def split_cat(text):\n",
        "    try: return text.split(\"/\")\n",
        "    except: return (\"Category Unknown\", \"Category Unknown\", \"Category Unknown\")\n",
        "    \n",
        "train['main_cat'], train['subcat_1'], train['subcat_2'] = zip(*train['category_name'].apply(lambda x: split_cat(x)))\n",
        "test['main_cat'], test['subcat_1'], test['subcat_2'] = zip(*test['category_name'].apply(lambda x: split_cat(x)))\n",
        "train.head()    "
      ],
      "execution_count": null,
      "outputs": []
    },
    {
      "cell_type": "code",
      "metadata": {
        "id": "6pgtTXsyGPtR"
      },
      "source": [
        "def lowercase_categorical_features_train(feature):\n",
        "    original_list = list(train[feature].values)\n",
        "    lower_case_list = []\n",
        "    for i in original_list:\n",
        "        j=i.lower()\n",
        "        lower_case_list.append(j)\n",
        "    return lower_case_list\n",
        "  \n",
        "def lowercase_categorical_features_test(feature):\n",
        "    original_list = list(test[feature].values)\n",
        "    lower_case_list = []\n",
        "    for i in original_list:\n",
        "        j=i.lower()\n",
        "        lower_case_list.append(j)\n",
        "    return lower_case_list  "
      ],
      "execution_count": null,
      "outputs": []
    },
    {
      "cell_type": "code",
      "metadata": {
        "id": "Ci7zumtkL1fy"
      },
      "source": [
        "train['subcat_1'] = lowercase_categorical_features_train('subcat_1')\n",
        "train['subcat_2'] = lowercase_categorical_features_train('subcat_2')\n",
        "train['main_cat'] = lowercase_categorical_features_train('main_cat')\n",
        "\n",
        "test['subcat_1'] = lowercase_categorical_features_test('subcat_1')\n",
        "test['subcat_2'] = lowercase_categorical_features_test('subcat_2')\n",
        "test['main_cat'] = lowercase_categorical_features_test('main_cat')"
      ],
      "execution_count": null,
      "outputs": []
    },
    {
      "cell_type": "code",
      "metadata": {
        "id": "pChYd2JaRf0q"
      },
      "source": [
        "print(\"There are %d unique main categories.\" % train['main_cat'].nunique())\n",
        "print(\"There are %d unique first sub-categories.\" % train['subcat_1'].nunique())\n",
        "print(\"There are %d unique second sub-categories.\" % train['subcat_2'].nunique())"
      ],
      "execution_count": null,
      "outputs": []
    },
    {
      "cell_type": "code",
      "metadata": {
        "id": "LHsu1JqSq7c_"
      },
      "source": [
        "train['main_cat'].value_counts(normalize=True)*100"
      ],
      "execution_count": null,
      "outputs": []
    },
    {
      "cell_type": "code",
      "metadata": {
        "id": "ZaMUvnB1QkFV"
      },
      "source": [
        "(train['main_cat'].value_counts()).index"
      ],
      "execution_count": null,
      "outputs": []
    },
    {
      "cell_type": "code",
      "metadata": {
        "id": "yBbKBt-e9Umo"
      },
      "source": [
        "fig, ax = plt.subplots(figsize=(20,7.5))\n",
        "sns.countplot(train['main_cat'], ax=ax, order=(train['main_cat'].value_counts()).index)\n",
        "plt.xlabel('Main Categories', fontsize=15)\n",
        "plt.ylabel('Frequency', fontsize=15)\n",
        "plt.xticks(rotation=30, fontsize=15)\n",
        "plt.show()"
      ],
      "execution_count": null,
      "outputs": []
    },
    {
      "cell_type": "code",
      "metadata": {
        "id": "I8ES2f3aP-6k"
      },
      "source": [
        "main_cat = train.groupby('main_cat')\n",
        "main_cat_median = pd.DataFrame(main_cat['price'].median())\n",
        "main_cat_median = main_cat_median.sort_values(ascending=True, by='price')\n",
        "main_cat_median"
      ],
      "execution_count": null,
      "outputs": []
    },
    {
      "cell_type": "code",
      "metadata": {
        "id": "nOlYbtjCt5Dy"
      },
      "source": [
        "plt.figure(figsize=(15,12))\n",
        "plt.barh(range(0,len(main_cat_median)), main_cat_median['price'], align='center', alpha=0.5)\n",
        "plt.yticks(range(0,len(main_cat_median)), main_cat_median.index, fontsize=20)\n",
        "plt.xticks(fontsize=15)\n",
        "plt.title('Categories sorted by median price', fontsize=25)\n",
        "plt.xlabel('Price', fontsize=25)\n",
        "plt.ylabel('Main Categories', fontsize=25)\n",
        "plt.show()"
      ],
      "execution_count": null,
      "outputs": []
    },
    {
      "cell_type": "markdown",
      "metadata": {
        "id": "CQvNmLgL2Kjo"
      },
      "source": [
        "**44.8% of the total products belong to 'Women' category followed by 'Beauty' category products which takes up around 14% of the total products while 1.7% of the products, being the minimum, belong to the 'Sports and Outdoor' category.**\n",
        "\n",
        "**The items from 'Men' category have the highest median price of 21 dolars followed by the items from 'Women' category having a median price of 19 dollars while the items from 'Handmade' category has the lowest median price of 12 dollars.**"
      ]
    },
    {
      "cell_type": "markdown",
      "metadata": {
        "id": "Vi_yCSp0RV5z"
      },
      "source": [
        "<h2> First Subcategory </h2>"
      ]
    },
    {
      "cell_type": "code",
      "metadata": {
        "id": "APGyVf_UIyyG"
      },
      "source": [
        "train['subcat_1'].value_counts(normalize=True).head(10)"
      ],
      "execution_count": null,
      "outputs": []
    },
    {
      "cell_type": "code",
      "metadata": {
        "id": "qSForAOjLaXS"
      },
      "source": [
        "paper = train[train['subcat_1']=='paper goods']\n",
        "paper.head(6)"
      ],
      "execution_count": null,
      "outputs": []
    },
    {
      "cell_type": "code",
      "metadata": {
        "id": "nCn3S-c3sxAp"
      },
      "source": [
        "x = train['subcat_1'].value_counts().index[:10]\n",
        "y = train['subcat_1'].value_counts().values[:10]\n",
        "\n",
        "plt.figure(figsize=(15,12))\n",
        "plt.barh(range(len(x),0,-1), y, align='center', alpha=0.5, color='red')\n",
        "plt.yticks(range(len(x),0,-1), x, fontsize=20)\n",
        "plt.xticks(fontsize=15)\n",
        "plt.title('Top 10 Most Popular First Subcategories', fontsize=25)\n",
        "plt.xlabel('Count', fontsize=25)\n",
        "plt.ylabel('First Sucategories', fontsize=25)\n",
        "plt.show()"
      ],
      "execution_count": null,
      "outputs": []
    },
    {
      "cell_type": "code",
      "metadata": {
        "id": "TCzrHwMtfw75"
      },
      "source": [
        "subcat_1 = train.groupby('subcat_1')\n",
        "subcat_1_median = pd.DataFrame(subcat_1['price'].median())\n",
        "subcat_1_median = subcat_1_median.sort_values(ascending=True, by='price')\n",
        "subcat_1_median_top = subcat_1_median[-10:]\n",
        "subcat_1_median_bottom = subcat_1_median[0:10]\n",
        "\n",
        "plt.figure(figsize=(15,12))\n",
        "plt.barh(range(0,len(subcat_1_median_top)), subcat_1_median_top['price'], align='center', alpha=0.5, color='green')\n",
        "plt.yticks(range(0,len(subcat_1_median_top)), subcat_1_median_top.index, fontsize=20)\n",
        "plt.xticks(fontsize=15)\n",
        "plt.title('Top 10 First Subcategories sorted by median price', fontsize=25)\n",
        "plt.xlabel('Price', fontsize=25)\n",
        "plt.ylabel('First  Subcategories', fontsize=25)\n",
        "plt.show()"
      ],
      "execution_count": null,
      "outputs": []
    },
    {
      "cell_type": "code",
      "metadata": {
        "id": "-2Zfsh1JjThv"
      },
      "source": [
        "plt.figure(figsize=(15,12))\n",
        "plt.barh(range(len(subcat_1_median_bottom),0,-1), subcat_1_median_bottom['price'], align='center', alpha=0.5, color='blue')\n",
        "plt.yticks(range(len(subcat_1_median_bottom),0,-1), subcat_1_median_bottom.index, fontsize=20)\n",
        "plt.xticks(fontsize=15)\n",
        "plt.title('Bottom 10 First Subcategories sorted by median price', fontsize=25)\n",
        "plt.xlabel('Price', fontsize=25)\n",
        "plt.ylabel('First  Subcategories', fontsize=25)\n",
        "plt.show()"
      ],
      "execution_count": null,
      "outputs": []
    },
    {
      "cell_type": "markdown",
      "metadata": {
        "id": "vtcmOUajPNrm"
      },
      "source": [
        "**The most popular subcategory is 'Athletic Apparel' which aligns with the previous observation that the most popular main category is 'Women' and 'Athletic Apparel' comes under both the 'Women' and 'Men' categories. 9% of the total products comes under the Athletic Apparel category.**\n",
        "\n",
        "**From the perspective of the median price of the items, the items from the subcategory of 'Computers & Tablets' have the highest median price, with the median price being 40 dollars.**\n",
        "\n",
        "**The items from the subcategory 'Paper Goods' have the lowest median price of 6 dollars. 'Paper Goods' come under the 'Handmade' category. This also validates the previous observation that the items from 'Handmade' category have the lowest median price out of all the main categories.**"
      ]
    },
    {
      "cell_type": "code",
      "metadata": {
        "id": "glWd6oOJRn9k"
      },
      "source": [
        "stand = train[train['subcat_2']=='Standard']\n",
        "stand"
      ],
      "execution_count": null,
      "outputs": []
    },
    {
      "cell_type": "markdown",
      "metadata": {
        "id": "eP0z6nO9GH8V"
      },
      "source": [
        "<h2> Second Subcategory </h2>"
      ]
    },
    {
      "cell_type": "code",
      "metadata": {
        "id": "Ugj04Rkqjsws"
      },
      "source": [
        "subcat_2 = train.groupby('subcat_2')\n",
        "subcat_2_median = pd.DataFrame(subcat_2['price'].median())\n",
        "subcat_2_median = subcat_2_median.sort_values(ascending=True, by='price')\n",
        "subcat_2_median_top = subcat_2_median[-10:]\n",
        "subcat_2_median_bottom = subcat_2_median[0:10]\n",
        "\n",
        "plt.figure(figsize=(15,12))\n",
        "plt.barh(range(0,len(subcat_2_median_top)), subcat_2_median_top['price'], align='center', alpha=0.5, color='green')\n",
        "plt.yticks(range(0,len(subcat_2_median_top)), subcat_2_median_top.index, fontsize=20)\n",
        "plt.xticks(fontsize=15)\n",
        "plt.title('Top 10 Second Subcategories sorted by median price', fontsize=25)\n",
        "plt.xlabel('Price', fontsize=25)\n",
        "plt.ylabel('Second Subcategories', fontsize=25)\n",
        "plt.show()"
      ],
      "execution_count": null,
      "outputs": []
    },
    {
      "cell_type": "code",
      "metadata": {
        "id": "YnmC-w1vkTqn"
      },
      "source": [
        "plt.figure(figsize=(15,12))\n",
        "plt.barh(range(len(subcat_2_median_bottom),0,-1), subcat_2_median_bottom['price'], align='center', alpha=0.5, color='green')\n",
        "plt.yticks(range(len(subcat_2_median_bottom),0,-1), subcat_2_median_bottom.index, fontsize=20)\n",
        "plt.xticks(fontsize=15)\n",
        "plt.title('Bottom 10 Second Subcategories sorted by median price', fontsize=25)\n",
        "plt.xlabel('Price', fontsize=25)\n",
        "plt.ylabel('Second Subcategories', fontsize=25)\n",
        "plt.show()"
      ],
      "execution_count": null,
      "outputs": []
    },
    {
      "cell_type": "markdown",
      "metadata": {
        "id": "Dj8hJVFRGS31"
      },
      "source": [
        "<h2> Brand </h2>"
      ]
    },
    {
      "cell_type": "code",
      "metadata": {
        "id": "vtTgPAB2knjQ"
      },
      "source": [
        "(train['brand_name'].value_counts(normalize=True)*100).head(10)"
      ],
      "execution_count": null,
      "outputs": []
    },
    {
      "cell_type": "code",
      "metadata": {
        "id": "bzpOzg4FXYQl"
      },
      "source": [
        "print('There are', train['brand_name'].nunique(), 'unique brands in the data')"
      ],
      "execution_count": null,
      "outputs": []
    },
    {
      "cell_type": "code",
      "metadata": {
        "id": "W1TrvWkigyIr"
      },
      "source": [
        "train['brand_name'] = train['brand_name'].fillna('brand_unavailable')\n",
        "brand = list(train['brand_name'].values)\n",
        "brand_name_given = []\n",
        "for i in brand:\n",
        "    if i=='brand_unavailable':\n",
        "        brand_name_given.append('No')\n",
        "    else:\n",
        "        brand_name_given.append('Yes')\n",
        "        \n",
        "train['brand_name_given'] = brand_name_given   \n",
        "\n",
        "test['brand_name'] = test['brand_name'].fillna('brand_unavailable')\n",
        "brand = list(test['brand_name'].values)\n",
        "brand_name_given = []\n",
        "for i in brand:\n",
        "    if i=='brand_unavailable':\n",
        "        brand_name_given.append('No')\n",
        "    else:\n",
        "        brand_name_given.append('Yes')\n",
        "        \n",
        "test['brand_name_given'] = brand_name_given      "
      ],
      "execution_count": null,
      "outputs": []
    },
    {
      "cell_type": "code",
      "metadata": {
        "id": "4ICS_xGKR9rL"
      },
      "source": [
        "train['brand_name'] = lowercase_categorical_features_train('brand_name')\n",
        "test['brand_name'] = lowercase_categorical_features_test('brand_name')"
      ],
      "execution_count": null,
      "outputs": []
    },
    {
      "cell_type": "code",
      "metadata": {
        "colab": {
          "base_uri": "https://localhost:8080/",
          "height": 758
        },
        "id": "VbFanhSUANw6",
        "outputId": "47b521c9-f5fa-4c80-9286-59c072ad2823"
      },
      "source": [
        "brand_filled = train[train['brand_name']!='brand_unavailable']\n",
        "\n",
        "x = brand_filled['brand_name'].value_counts().index[:10]\n",
        "y = brand_filled['brand_name'].value_counts().values[:10]\n",
        "\n",
        "plt.figure(figsize=(15,12))\n",
        "plt.barh(range(len(x),0,-1), y, align='center', alpha=0.5, color='red')\n",
        "plt.yticks(range(len(x),0,-1), x, fontsize=20)\n",
        "plt.xticks(fontsize=15)\n",
        "plt.title('Top 10 Most Popular Brands', fontsize=25)\n",
        "plt.xlabel('Price', fontsize=25)\n",
        "plt.ylabel('Brand', fontsize=25)\n",
        "plt.show()"
      ],
      "execution_count": null,
      "outputs": [
        {
          "output_type": "display_data",
          "data": {
            "image/png": "[encoded data removed]",
            "text/plain": [
              "<matplotlib.figure.Figure at 0x276d3e607b8>"
            ]
          },
          "metadata": {
            "tags": []
          }
        }
      ]
    },
    {
      "cell_type": "markdown",
      "metadata": {
        "id": "12_wbntW4x7R"
      },
      "source": [
        "**Nike and Pink are the top two most popular brands and 12.6% of the total products in the data belong to these two brands.**"
      ]
    },
    {
      "cell_type": "code",
      "metadata": {
        "id": "rDpjpsjY5n1V"
      },
      "source": [
        "brand = train.groupby('brand_name')\n",
        "brand_median = pd.DataFrame(brand['price'].median())\n",
        "brand_median = brand_median.sort_values(ascending=True, by='price')\n",
        "brand_median_top = brand_median[-10:]\n",
        "brand_median_bottom = brand_median[0:10]\n",
        "\n",
        "plt.figure(figsize=(15,12))\n",
        "plt.barh(range(0,len(brand_median_top)), brand_median_top['price'], align='center', alpha=0.5, color='blue')\n",
        "plt.yticks(range(0,len(brand_median_top)), brand_median_top.index, fontsize=20)\n",
        "plt.xticks(fontsize=15)\n",
        "plt.title('Top 10 Brands sorted by median price', fontsize=25)\n",
        "plt.xlabel('Price', fontsize=25)\n",
        "plt.ylabel('Brand', fontsize=25)\n",
        "plt.show()"
      ],
      "execution_count": null,
      "outputs": []
    },
    {
      "cell_type": "code",
      "metadata": {
        "id": "nS3STYFphvkd"
      },
      "source": [
        "price_100 = train[train['price']<100]\n",
        "\n",
        "fig, ax = plt.subplots(figsize=(20,7.5))\n",
        "sns.boxplot(x='brand_name_given', y='price', data=price_100, ax=ax)\n",
        "plt.xlabel('Brand name given', fontsize=15)\n",
        "plt.ylabel('Price', fontsize=15)\n",
        "plt.xticks(fontsize=15)\n",
        "plt.yticks(fontsize=15)\n",
        "plt.show()"
      ],
      "execution_count": null,
      "outputs": []
    },
    {
      "cell_type": "code",
      "metadata": {
        "id": "mjFGtXvxU72-"
      },
      "source": [
        "brand_given = train.groupby('brand_name_given')\n",
        "brand_given_median = pd.DataFrame(brand_given['price'].describe())\n",
        "brand_given_median"
      ],
      "execution_count": null,
      "outputs": []
    },
    {
      "cell_type": "markdown",
      "metadata": {
        "id": "M5HpJ04n47r0"
      },
      "source": [
        "**After looking at the box plots, although there is good amount of overlap, we can say that there is a considerable difference in the prices when the brand is given and when it's not given. The median price of the product when the brand name is given is 20 dollars and when the brand name is not given, the median price is 14$. In a nutshell, this feature will be helpful for the ML model to map some kind of pattern from it.**"
      ]
    },
    {
      "cell_type": "markdown",
      "metadata": {
        "id": "PHysW876rSH0"
      },
      "source": [
        "<h2> Item Description </h2>"
      ]
    },
    {
      "cell_type": "code",
      "metadata": {
        "id": "l8U0jW-ezYc5"
      },
      "source": [
        "from wordcloud import WordCloud\n",
        "from nltk.corpus import stopwords\n",
        "import nltk\n",
        "nltk.download('stopwords')\n",
        "stopwords = stopwords.words('english')\n",
        "print(stopwords)"
      ],
      "execution_count": null,
      "outputs": []
    },
    {
      "cell_type": "code",
      "metadata": {
        "id": "JOzhISbV091b"
      },
      "source": [
        "import re\n",
        "\n",
        "def decontracted(phrase):\n",
        "    # specific\n",
        "    phrase = re.sub(r\"won't\", \"will not\", phrase)\n",
        "    phrase = re.sub(r\"can\\'t\", \"can not\", phrase)\n",
        "\n",
        "    # general\n",
        "    phrase = re.sub(r\"n\\'t\", \" not\", phrase)\n",
        "    phrase = re.sub(r\"\\'re\", \" are\", phrase)\n",
        "    phrase = re.sub(r\"\\'s\", \" is\", phrase)\n",
        "    phrase = re.sub(r\"\\'d\", \" would\", phrase)\n",
        "    phrase = re.sub(r\"\\'ll\", \" will\", phrase)\n",
        "    phrase = re.sub(r\"\\'t\", \" not\", phrase)\n",
        "    phrase = re.sub(r\"\\'ve\", \" have\", phrase)\n",
        "    phrase = re.sub(r\"\\'m\", \" am\", phrase)\n",
        "    return phrase"
      ],
      "execution_count": null,
      "outputs": []
    },
    {
      "cell_type": "code",
      "metadata": {
        "id": "AvmGdqMh1Rxg"
      },
      "source": [
        "\n",
        "from tqdm import tqdm\n",
        "preprocessed_description = []\n",
        "# tqdm is for printing the status bar\n",
        "for description in tqdm(train['item_description'].values):\n",
        "    sent = decontracted(str(description))\n",
        "    sent = sent.replace('\\\\r', ' ')\n",
        "    sent = sent.replace('\\\\\"', ' ')\n",
        "    sent = sent.replace('\\\\n', ' ')\n",
        "    sent = re.sub('[^A-Za-z0-9]+', ' ', sent)\n",
        "    # https://gist.github.com/sebleier/554280\n",
        "    sent = ' '.join(e for e in sent.split() if e.lower() not in stopwords)\n",
        "    preprocessed_description.append(sent.lower().strip())\n",
        "    \n",
        "train['clean_description'] = preprocessed_description    "
      ],
      "execution_count": null,
      "outputs": []
    },
    {
      "cell_type": "code",
      "metadata": {
        "id": "lijH5W7sUL9m"
      },
      "source": [
        "from tqdm import tqdm\n",
        "preprocessed_description = []\n",
        "# tqdm is for printing the status bar\n",
        "for description in tqdm(test['item_description'].values):\n",
        "    sent = decontracted(str(description))\n",
        "    sent = sent.replace('\\\\r', ' ')\n",
        "    sent = sent.replace('\\\\\"', ' ')\n",
        "    sent = sent.replace('\\\\n', ' ')\n",
        "    sent = re.sub('[^A-Za-z0-9]+', ' ', sent)\n",
        "    # https://gist.github.com/sebleier/554280\n",
        "    sent = ' '.join(e for e in sent.split() if e.lower() not in stopwords)\n",
        "    preprocessed_description.append(sent.lower().strip())\n",
        "    \n",
        "test['clean_description'] = preprocessed_description    "
      ],
      "execution_count": null,
      "outputs": []
    },
    {
      "cell_type": "code",
      "metadata": {
        "id": "qrs3WyucLA8j"
      },
      "source": [
        "no_desc = train[train['item_description']=='No description yet']\n",
        "print((no_desc.shape[0]/train.shape[0])*100)"
      ],
      "execution_count": null,
      "outputs": []
    },
    {
      "cell_type": "code",
      "metadata": {
        "id": "VmhDOp-3r7hz"
      },
      "source": [
        "quantile = pd.qcut(train['price'], 4, labels=['first_q', 'second_q', 'third_q', 'fourth_q'])\n",
        "price_q = list(quantile)\n",
        "train['price_q'] = price_q\n",
        "\n",
        "price_first_quantile = train[train['price_q']=='first_q']\n",
        "price_second_quantile = train[train['price_q']=='second_q']\n",
        "price_third_quantile = train[train['price_q']=='third_q']\n",
        "price_fourth_quantile = train[train['price_q']=='fourth_q']\n",
        "\n",
        "print(price_first_quantile.shape, price_second_quantile.shape, price_third_quantile.shape, price_fourth_quantile.shape)"
      ],
      "execution_count": null,
      "outputs": []
    },
    {
      "cell_type": "code",
      "metadata": {
        "id": "kt90-1Uftfge"
      },
      "source": [
        "wordcloud_1 = WordCloud(width=800, height=800, background_color='white',stopwords=stopwords,max_words=300, min_font_size=10).generate(''.join(str(price_first_quantile['clean_description'])))\n",
        "plt.figure(figsize=(5,5), facecolor=None)\n",
        "plt.imshow(wordcloud_1)\n",
        "plt.axis('off')\n",
        "plt.tight_layout(pad=0)\n",
        "plt.show()\n",
        "\n",
        "wordcloud_2 = WordCloud(width=800, height=800, background_color='white',stopwords=stopwords,max_words=300, min_font_size=10).generate(''.join(str(price_second_quantile['clean_description'])))\n",
        "plt.figure(figsize=(5,5), facecolor=None)\n",
        "plt.imshow(wordcloud_2)\n",
        "plt.axis('off')\n",
        "plt.tight_layout(pad=0)\n",
        "plt.show()\n",
        "\n",
        "wordcloud_3 = WordCloud(width=800, height=800, background_color='white',stopwords=stopwords,max_words=300, min_font_size=10).generate(''.join(str(price_third_quantile['clean_description'])))\n",
        "plt.figure(figsize=(5,5), facecolor=None)\n",
        "plt.imshow(wordcloud_3)\n",
        "plt.axis('off')\n",
        "plt.tight_layout(pad=0)\n",
        "plt.show()\n",
        "\n",
        "wordcloud_4 = WordCloud(width=800, height=800, background_color='white',stopwords=stopwords,max_words=300, min_font_size=10).generate(''.join(str(price_fourth_quantile['clean_description'])))\n",
        "plt.figure(figsize=(5,5), facecolor=None)\n",
        "plt.imshow(wordcloud_4)\n",
        "plt.axis('off')\n",
        "plt.tight_layout(pad=0)\n",
        "plt.show()\n"
      ],
      "execution_count": null,
      "outputs": []
    },
    {
      "cell_type": "code",
      "metadata": {
        "id": "CI9y9DzabhyZ"
      },
      "source": [
        "item_description = list(train['item_description'].values)\n",
        "description_availability = []\n",
        "for i in item_description:\n",
        "    if i=='No description yet':\n",
        "        description_availability.append('No')\n",
        "    else:\n",
        "        description_availability.append('Yes')\n",
        "        \n",
        "train['description_given'] = description_availability      \n",
        "\n",
        "item_description = list(test['item_description'].values)\n",
        "description_availability = []\n",
        "for i in item_description:\n",
        "    if i=='No description yet':\n",
        "        description_availability.append('No')\n",
        "    else:\n",
        "        description_availability.append('Yes')\n",
        "        \n",
        "test['description_given'] = description_availability      "
      ],
      "execution_count": null,
      "outputs": []
    },
    {
      "cell_type": "code",
      "metadata": {
        "id": "v27f99oRcz6c"
      },
      "source": [
        "price_100 = train[train['price']<100]\n",
        "\n",
        "fig, ax = plt.subplots(figsize=(20,7.5))\n",
        "sns.boxplot(x='description_given', y='price', data=price_100, ax=ax)\n",
        "plt.xlabel('Description given', fontsize=15)\n",
        "plt.ylabel('Price', fontsize=15)\n",
        "plt.xticks(fontsize=15)\n",
        "plt.yticks(fontsize=15)\n",
        "plt.show()"
      ],
      "execution_count": null,
      "outputs": []
    },
    {
      "cell_type": "code",
      "metadata": {
        "id": "GqDxv9nYIL1j"
      },
      "source": [
        "desc_given = train.groupby('description_given')\n",
        "desc_given_median = pd.DataFrame(desc_given['price'].describe())\n",
        "desc_given_median"
      ],
      "execution_count": null,
      "outputs": []
    },
    {
      "cell_type": "code",
      "metadata": {
        "id": "YwE22ncsVv0w"
      },
      "source": [
        "print(train.shape, test.shape)"
      ],
      "execution_count": null,
      "outputs": []
    },
    {
      "cell_type": "code",
      "metadata": {
        "id": "OJ1BJJ3Ez9Fh"
      },
      "source": [
        "#save the train and test data to pickle files to preserve the operations done till now and for further use during modelling\n",
        "train.to_pickle('mercari_train')\n",
        "test.to_pickle('mercari_test')"
      ],
      "execution_count": null,
      "outputs": []
    },
    {
      "cell_type": "code",
      "metadata": {
        "id": "0K5Oum8CXcK5"
      },
      "source": [
        "x_train, x_test = train.drop(['price'], axis=1), test.drop(['price'], axis=1)\n",
        "y_train, y_test = train['price'], test['price']"
      ],
      "execution_count": null,
      "outputs": []
    },
    {
      "cell_type": "markdown",
      "metadata": {
        "id": "pXFPO-Lzv40P"
      },
      "source": [
        "<h2> Feature Engineering </h2>"
      ]
    },
    {
      "cell_type": "code",
      "metadata": {
        "id": "LC0zgNistLQf"
      },
      "source": [
        "from sklearn.preprocessing import OneHotEncoder\n",
        "\n",
        "def onehot_encoding(feature):\n",
        "    encoder = OneHotEncoder(handle_unknown='ignore')\n",
        "    x_train_onehot = encoder.fit_transform(x_train[feature].values.reshape(-1,1))\n",
        "    x_test_onehot = encoder.transform(x_test[feature].values.reshape(-1,1))\n",
        "    return x_train_onehot, x_test_onehot\n",
        "  \n",
        "x_train_condition, x_test_condition = onehot_encoding('item_condition_id')\n",
        "print(x_train_condition.shape, x_test_condition.shape)"
      ],
      "execution_count": null,
      "outputs": []
    },
    {
      "cell_type": "code",
      "metadata": {
        "id": "9L1-gwd5tLUc"
      },
      "source": [
        "x_train_brand, x_test_brand = onehot_encoding('brand_name')\n",
        "x_train_brand_given, x_test_brand_given = onehot_encoding('brand_name_given')\n",
        "x_train_condition, x_test_condition = onehot_encoding('item_condition_id')\n",
        "x_train_shipping, x_test_shipping = onehot_encoding('shipping')\n",
        "x_train_main_cat, x_test_main_cat = onehot_encoding('main_cat')\n",
        "x_train_subcat_1, x_test_subcat_1 = onehot_encoding('subcat_1')\n",
        "x_train_subcat_2, x_test_subcat_2 = onehot_encoding('subcat_2')"
      ],
      "execution_count": null,
      "outputs": []
    },
    {
      "cell_type": "code",
      "metadata": {
        "id": "xy3o4F7dtLaZ"
      },
      "source": [
        "from sklearn.feature_extraction.text import CountVectorizer\n",
        "\n",
        "bow = CountVectorizer(min_df=10, ngram_range=(1,2), binary=True)\n",
        "x_train_bow_desc = bow.fit_transform(x_train['clean_description'])\n",
        "x_test_bow_desc = bow.transform(x_test['clean_description'])\n",
        "\n",
        "features_list.extend(bow.get_feature_names())\n",
        "len(features_list)"
      ],
      "execution_count": null,
      "outputs": []
    },
    {
      "cell_type": "code",
      "metadata": {
        "id": "TufitRd3tLkb"
      },
      "source": [
        "from scipy.sparse import hstack\n",
        "x_train_final = hstack((x_train_brand, x_train_brand_given, x_train_condition, x_train_shipping, x_train_main_cat, x_train_subcat_1, x_train_subcat_2, x_train_bow_desc))\n",
        "x_test_final = hstack((x_test_brand, x_test_brand_given, x_test_condition, x_test_shipping, x_test_main_cat, x_test_subcat_1, x_test_subcat_2, x_test_bow_desc))\n",
        "\n",
        "print(x_train_final.shape, x_test_final.shape)"
      ],
      "execution_count": null,
      "outputs": []
    },
    {
      "cell_type": "markdown",
      "metadata": {
        "id": "oyOEg1BU3WxK"
      },
      "source": [
        "<h2> Evaluation Metric and Baseline Model </h2>"
      ]
    },
    {
      "cell_type": "code",
      "metadata": {
        "id": "8LoTaTnutLxw"
      },
      "source": [
        "y_train_log = np.log1p(y_train)\n",
        "y_test_log = np.log1p(y_test)\n",
        "\n",
        "y_train_mean = y_train_log.mean() #for baseline prediction\n",
        "\n",
        "from sklearn.metrics import mean_squared_error\n",
        "def rmsle(y_test, y_pred):  \n",
        "    return (np.sqrt(((y_test-y_pred)**2).mean())).round(4)\n",
        "    return result\n",
        "  \n",
        "baseline_result = rmsle(y_test_log, y_train_mean)\n",
        "baseline_result  "
      ],
      "execution_count": null,
      "outputs": []
    },
    {
      "cell_type": "code",
      "metadata": {
        "id": "1FGcsGvFLOQT"
      },
      "source": [
        "y_train_log = np.log1p(y_train)"
      ],
      "execution_count": null,
      "outputs": []
    },
    {
      "cell_type": "code",
      "metadata": {
        "id": "K8ZzliwuLUPf"
      },
      "source": [
        "from sklearn.metrics import mean_squared_log_error\n",
        "def get_rmsle(y_true, y_pred):\n",
        "  return np.sqrt(mean_squared_log_error(np.expm1(y_true), np.expm1(y_pred)))"
      ],
      "execution_count": null,
      "outputs": []
    },
    {
      "cell_type": "markdown",
      "metadata": {
        "id": "-HcDQelKEaV2"
      },
      "source": [
        "<h2> Implementing Machine Learning Models </h2>"
      ]
    },
    {
      "cell_type": "markdown",
      "metadata": {
        "id": "RynmOCc3ElPz"
      },
      "source": [
        "<h3> Linear Regression </h3>"
      ]
    },
    {
      "cell_type": "code",
      "metadata": {
        "id": "wx2z7iwgEq34"
      },
      "source": [
        "from sklearn.model_selection import RandomizedSearchCV\n",
        "from sklearn.model_selection import GridSearchCV\n",
        "from sklearn.linear_model import SGDRegressor\n",
        "\n",
        "LR = SGDRegressor(loss='squared_loss', random_state=42)\n",
        "alpha = [10**i for i in range(-7,2)]\n",
        "params = {'alpha':alpha}\n",
        "RS_LR = RandomizedSearchCV(LR, params, scoring='neg_mean_squared_error', cv=4, n_jobs=-1, random_state=42)\n",
        "RS_LR.fit(x_train_final, y_train_log)\n",
        "RS_LR.best_params_"
      ],
      "execution_count": null,
      "outputs": []
    },
    {
      "cell_type": "code",
      "metadata": {
        "id": "wvmHohjbIzVl"
      },
      "source": [
        "from sklearn.linear_model import SGDRegressor\n",
        "from sklearn.metrics import mean_squared_log_error\n",
        "LR = SGDRegressor(loss='squared_loss', alpha=1e-07, random_state=42)\n",
        "LR.fit(x_train_final, y_train_log)\n",
        "y_pred_lr = LR.predict(x_test_final)\n",
        "\n",
        "lr_error = rmsle(y_test_log, y_pred_lr)\n",
        "lr_error"
      ],
      "execution_count": null,
      "outputs": []
    },
    {
      "cell_type": "markdown",
      "metadata": {
        "id": "IF8U-6PMjscr"
      },
      "source": [
        "<h3> Support Vector Regression </h3>"
      ]
    },
    {
      "cell_type": "code",
      "metadata": {
        "id": "TUAJMAt4Jgtu"
      },
      "source": [
        "SVR = SGDRegressor(loss='epsilon_insensitive', random_state=42)\n",
        "alpha = [10**i for i in range(-7,2)]\n",
        "params = {'alpha':alpha}\n",
        "RS_SVR = RandomizedSearchCV(SVR, params, scoring='neg_mean_squared_error', cv=4, n_jobs=-1, random_state=42)\n",
        "RS_SVR.fit(x_train_final, y_train_log)\n",
        "RS_SVR.best_params_"
      ],
      "execution_count": null,
      "outputs": []
    },
    {
      "cell_type": "code",
      "metadata": {
        "id": "Xedl5FsxJg1L"
      },
      "source": [
        "SVR = SGDRegressor(loss='epsilon_insensitive', alpha=1e-04, random_state=42)\n",
        "SVR.fit(x_train_final, y_train_log)\n",
        "y_pred_svr = SVR.predict(x_test_final)\n",
        "\n",
        "svr_error = rmsle(y_test_log, y_pred_svr)\n",
        "svr_error"
      ],
      "execution_count": null,
      "outputs": []
    },
    {
      "cell_type": "markdown",
      "metadata": {
        "id": "Wswh8q7HPZM1"
      },
      "source": [
        "<h3> XGBoost Regression </h3>"
      ]
    },
    {
      "cell_type": "code",
      "metadata": {
        "id": "Mi8I02CWtLuz"
      },
      "source": [
        "import xgboost as xgb\n",
        "from sklearn.model_selection import RandomizedSearchCV\n",
        "\n",
        "XGB = xgb.XGBRegressor(random_state=42)\n",
        "max_depth = [2,4,7,10]\n",
        "n_estimators = [5,10,25,50,100]\n",
        "params = {'n_estimators':n_estimators, 'max_depth':max_depth}\n",
        "RS_XGB = RandomizedSearchCV(XGB, params, scoring='neg_mean_squared_error', cv=4, n_jobs=-1, random_state=42)\n",
        "RS_XGB.fit(x_train_final, y_train_log)\n",
        "RS_XGB.best_params_"
      ],
      "execution_count": null,
      "outputs": []
    },
    {
      "cell_type": "code",
      "metadata": {
        "id": "idP4KJ1yPt5d"
      },
      "source": [
        "XGB = xgb.XGBRegressor(n_estimators=100, max_depth=10, n_jobs=-1, random_state=42)\n",
        "XGB.fit(x_train_final, y_train_log)\n",
        "y_test_pred_xgb = XGB.predict(x_test_final)\n",
        "\n",
        "xgb_error = rmsle(y_test_log, y_test_pred_xgb)\n",
        "xgb_error"
      ],
      "execution_count": null,
      "outputs": []
    },
    {
      "cell_type": "markdown",
      "metadata": {
        "id": "ARWCy92Bj6yc"
      },
      "source": [
        "<h3> Decision Tree Regression </h3>"
      ]
    },
    {
      "cell_type": "code",
      "metadata": {
        "id": "4loTZQdnkcBa"
      },
      "source": [
        "from sklearn.tree import DecisionTreeRegressor\n",
        "from sklearn.model_selection import RandomizedSearchCV\n",
        "\n",
        "DT = DecisionTreeRegressor(random_state=42)\n",
        "min_samples_split = [25,50,75,100,200]\n",
        "max_depth = [5,10,20,30,50]\n",
        "params = {'max_depth':max_depth, 'min_samples_split':min_samples_split}\n",
        "RS_DT = RandomizedSearchCV(DT, params, scoring='neg_mean_squared_error', cv=4, n_jobs=-1, random_state=42)\n",
        "RS_DT.fit(x_train_final, y_train_log)\n",
        "RS_DT.best_params_"
      ],
      "execution_count": null,
      "outputs": []
    },
    {
      "cell_type": "code",
      "metadata": {
        "id": "V0nljUmJMyR7"
      },
      "source": [
        "from sklearn.tree import DecisionTreeRegressor\n",
        "from sklearn.model_selection import RandomizedSearchCV\n",
        "\n",
        "DT = DecisionTreeRegressor(max_depth=30, min_samples_split=50, random_state=42)\n",
        "DT.fit(x_train_final, y_train_log)\n",
        "y_pred_dt = DT.predict(x_test_final)\n",
        "\n",
        "dt_error = rmsle(y_test_log, y_pred_dt)\n",
        "dt_error"
      ],
      "execution_count": null,
      "outputs": []
    },
    {
      "cell_type": "markdown",
      "metadata": {
        "id": "MEJ4EB1K2snN"
      },
      "source": [
        "<h2> Results Summary </h2>"
      ]
    },
    {
      "cell_type": "code",
      "metadata": {
        "id": "lJWf9uru2xpJ"
      },
      "source": [
        "from prettytable import PrettyTable\n",
        "pt = PrettyTable()\n",
        "pt.field_names = ['Model', 'RMSLE']\n",
        "pt.add_row(['Linear Regression', str(lr_error)])\n",
        "pt.add_row(['Support Vector Regression', str(svr_error)])\n",
        "pt.add_row(['Decision Tree Regression', str(dt_error)])\n",
        "pt.add_row(['XGBoost Regression', str(xgb_error)])\n",
        "print(pt)"
      ],
      "execution_count": null,
      "outputs": []
    }
  ]
}