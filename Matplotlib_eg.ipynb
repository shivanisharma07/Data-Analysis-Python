{
  "nbformat": 4,
  "nbformat_minor": 0,
  "metadata": {
    "kernelspec": {
      "display_name": "Python 3",
      "language": "python",
      "name": "python3"
    },
    "language_info": {
      "codemirror_mode": {
        "name": "ipython",
        "version": 3
      },
      "file_extension": ".py",
      "mimetype": "text/x-python",
      "name": "python",
      "nbconvert_exporter": "python",
      "pygments_lexer": "ipython3",
      "version": "3.6.4"
    },
    "colab": {
      "name": "Matplotlib_eg.ipynb",
      "provenance": []
    }
  },
  "cells": [
    {
      "cell_type": "code",
      "metadata": {
        "id": "-tX6IlfmSMAo",
        "outputId": "56a33b81-22c6-4501-8321-c8c786708c04"
      },
      "source": [
        "import matplotlib.pyplot as plt\n",
        "\n",
        "x = [theta for theta in range(-90,90)]\n",
        "\n",
        "y = [(theta) for theta in x]\n",
        "\n",
        "plt.plot(x,y)"
      ],
      "execution_count": null,
      "outputs": [
        {
          "output_type": "execute_result",
          "data": {
            "text/plain": [
              "[<matplotlib.lines.Line2D at 0x21d203335f8>]"
            ]
          },
          "metadata": {
            "tags": []
          },
          "execution_count": 2
        },
        {
          "output_type": "display_data",
          "data": {
            "image/png": "[encoded data removed]",
            "text/plain": [
              "<matplotlib.figure.Figure at 0x21d1fe3e3c8>"
            ]
          },
          "metadata": {
            "tags": []
          }
        }
      ]
    },
    {
      "cell_type": "code",
      "metadata": {
        "id": "seG9MtRtSMAt"
      },
      "source": [
        "import pandas as pd\n",
        "\n",
        "df = pd.DataFrame({\n",
        "    'name':['john','mary','peter','jeff','bill','lisa','jose'],\n",
        "    'age':[23,78,22,19,45,33,20],\n",
        "    'gender':['M','F','M','M','M','F','M'],\n",
        "    'state':['california','dc','california','dc','california','texas','texas'],\n",
        "    'num_children':[2,0,0,3,2,1,4],\n",
        "    'num_pets':[5,1,0,5,2,2,3]\n",
        "})"
      ],
      "execution_count": null,
      "outputs": []
    },
    {
      "cell_type": "code",
      "metadata": {
        "id": "EWxuez1PSMAv",
        "outputId": "6b3f6293-0daf-4e5b-8493-e475dbcc6783"
      },
      "source": [
        "df"
      ],
      "execution_count": null,
      "outputs": [
        {
          "output_type": "execute_result",
          "data": {
            "text/html": [
              "<div>\n",
              "<style scoped>\n",
              "    .dataframe tbody tr th:only-of-type {\n",
              "        vertical-align: middle;\n",
              "    }\n",
              "\n",
              "    .dataframe tbody tr th {\n",
              "        vertical-align: top;\n",
              "    }\n",
              "\n",
              "    .dataframe thead th {\n",
              "        text-align: right;\n",
              "    }\n",
              "</style>\n",
              "<table border=\"1\" class=\"dataframe\">\n",
              "  <thead>\n",
              "    <tr style=\"text-align: right;\">\n",
              "      <th></th>\n",
              "      <th>age</th>\n",
              "      <th>gender</th>\n",
              "      <th>name</th>\n",
              "      <th>num_children</th>\n",
              "      <th>num_pets</th>\n",
              "      <th>state</th>\n",
              "    </tr>\n",
              "  </thead>\n",
              "  <tbody>\n",
              "    <tr>\n",
              "      <th>0</th>\n",
              "      <td>23</td>\n",
              "      <td>M</td>\n",
              "      <td>john</td>\n",
              "      <td>2</td>\n",
              "      <td>5</td>\n",
              "      <td>california</td>\n",
              "    </tr>\n",
              "    <tr>\n",
              "      <th>1</th>\n",
              "      <td>78</td>\n",
              "      <td>F</td>\n",
              "      <td>mary</td>\n",
              "      <td>0</td>\n",
              "      <td>1</td>\n",
              "      <td>dc</td>\n",
              "    </tr>\n",
              "    <tr>\n",
              "      <th>2</th>\n",
              "      <td>22</td>\n",
              "      <td>M</td>\n",
              "      <td>peter</td>\n",
              "      <td>0</td>\n",
              "      <td>0</td>\n",
              "      <td>california</td>\n",
              "    </tr>\n",
              "    <tr>\n",
              "      <th>3</th>\n",
              "      <td>19</td>\n",
              "      <td>M</td>\n",
              "      <td>jeff</td>\n",
              "      <td>3</td>\n",
              "      <td>5</td>\n",
              "      <td>dc</td>\n",
              "    </tr>\n",
              "    <tr>\n",
              "      <th>4</th>\n",
              "      <td>45</td>\n",
              "      <td>M</td>\n",
              "      <td>bill</td>\n",
              "      <td>2</td>\n",
              "      <td>2</td>\n",
              "      <td>california</td>\n",
              "    </tr>\n",
              "    <tr>\n",
              "      <th>5</th>\n",
              "      <td>33</td>\n",
              "      <td>F</td>\n",
              "      <td>lisa</td>\n",
              "      <td>1</td>\n",
              "      <td>2</td>\n",
              "      <td>texas</td>\n",
              "    </tr>\n",
              "    <tr>\n",
              "      <th>6</th>\n",
              "      <td>20</td>\n",
              "      <td>M</td>\n",
              "      <td>jose</td>\n",
              "      <td>4</td>\n",
              "      <td>3</td>\n",
              "      <td>texas</td>\n",
              "    </tr>\n",
              "  </tbody>\n",
              "</table>\n",
              "</div>"
            ],
            "text/plain": [
              "   age gender   name  num_children  num_pets       state\n",
              "0   23      M   john             2         5  california\n",
              "1   78      F   mary             0         1          dc\n",
              "2   22      M  peter             0         0  california\n",
              "3   19      M   jeff             3         5          dc\n",
              "4   45      M   bill             2         2  california\n",
              "5   33      F   lisa             1         2       texas\n",
              "6   20      M   jose             4         3       texas"
            ]
          },
          "metadata": {
            "tags": []
          },
          "execution_count": 2
        }
      ]
    },
    {
      "cell_type": "code",
      "metadata": {
        "id": "_YtuUd5gSMAw"
      },
      "source": [
        "#Plot two columns as scatter plot"
      ],
      "execution_count": null,
      "outputs": []
    },
    {
      "cell_type": "code",
      "metadata": {
        "id": "eizXifGpSMAx",
        "outputId": "e7e2ccbb-3fe1-4c1f-e5a5-7b5d190c17e6"
      },
      "source": [
        "import pandas as pd\n",
        "df1 = pd.DataFrame({'lab':['A', 'B', 'C'], 'val':[10, 30, 20]})\n",
        "ax = df1.plot.bar(x='lab', y='val')\n",
        "plt.show()\n"
      ],
      "execution_count": null,
      "outputs": [
        {
          "output_type": "display_data",
          "data": {
            "image/png": "[encoded data removed]",
            "text/plain": [
              "<matplotlib.figure.Figure at 0x21d1c194588>"
            ]
          },
          "metadata": {
            "tags": []
          }
        }
      ]
    },
    {
      "cell_type": "code",
      "metadata": {
        "id": "Tq_FRia8SMAy"
      },
      "source": [
        ""
      ],
      "execution_count": null,
      "outputs": []
    },
    {
      "cell_type": "code",
      "metadata": {
        "id": "b1X2oHuMSMBI",
        "outputId": "04823cd5-516c-4e0c-a8d5-620d4432e286"
      },
      "source": [
        "import matplotlib.pyplot as plt\n",
        "import pandas as pd\n",
        "\n",
        "# a scatter plot comparing num_children and num_pets\n",
        "df.plot(kind='scatter',x='num_children',y='num_pets',color='red')\n",
        "plt.show()"
      ],
      "execution_count": null,
      "outputs": [
        {
          "output_type": "display_data",
          "data": {
            "image/png": "[encoded data removed]",
            "text/plain": [
              "<matplotlib.figure.Figure at 0x1909253c160>"
            ]
          },
          "metadata": {
            "tags": []
          }
        }
      ]
    },
    {
      "cell_type": "code",
      "metadata": {
        "id": "hYCa8K2dSMBL"
      },
      "source": [
        "#Plot column values as bar plot"
      ],
      "execution_count": null,
      "outputs": []
    },
    {
      "cell_type": "code",
      "metadata": {
        "id": "7wHHCFuASMBL",
        "outputId": "1c93458c-4fd7-4631-da66-c571cc70135c"
      },
      "source": [
        "import matplotlib.pyplot as plt\n",
        "import pandas as pd\n",
        "\n",
        "# a simple line plot\n",
        "df.plot(kind='bar',x='name',y='age')"
      ],
      "execution_count": null,
      "outputs": [
        {
          "output_type": "execute_result",
          "data": {
            "text/plain": [
              "<matplotlib.axes._subplots.AxesSubplot at 0x19091ddb358>"
            ]
          },
          "metadata": {
            "tags": []
          },
          "execution_count": 7
        },
        {
          "output_type": "display_data",
          "data": {
            "image/png": "[encoded data removed]",
            "text/plain": [
              "<matplotlib.figure.Figure at 0x1909249c198>"
            ]
          },
          "metadata": {
            "tags": []
          }
        }
      ]
    },
    {
      "cell_type": "code",
      "metadata": {
        "id": "yOiECk7GSMBM",
        "outputId": "c1962e4c-5ccf-4c37-b62b-681f4a03f973"
      },
      "source": [
        "#Line plot for multiple columnsimport matplotlib.pyplot as plt\n",
        "import pandas as pd\n",
        "\n",
        "# gca stands for 'get current axis'\n",
        "ax = plt.gca()\n",
        "\n",
        "df.plot(kind='line',x='name',y='num_children',ax=ax)\n",
        "df.plot(kind='line',x='name',y='num_pets', color='red', ax=ax)\n",
        "\n",
        "plt.show()"
      ],
      "execution_count": null,
      "outputs": [
        {
          "output_type": "display_data",
          "data": {
            "image/png": "[encoded data removed]",
            "text/plain": [
              "<matplotlib.figure.Figure at 0x190921967b8>"
            ]
          },
          "metadata": {
            "tags": []
          }
        }
      ]
    },
    {
      "cell_type": "code",
      "metadata": {
        "id": "nZTlqgYVSMBN"
      },
      "source": [
        "#Save plot to file"
      ],
      "execution_count": null,
      "outputs": []
    },
    {
      "cell_type": "code",
      "metadata": {
        "id": "lnE03tKJSMBN",
        "outputId": "f1f26c46-8203-4cdd-93a4-e40412bfa754"
      },
      "source": [
        "import matplotlib.pyplot as plt\n",
        "import pandas as pd\n",
        "\n",
        "df.plot(kind='bar',x='name',y='age')\n",
        "\n",
        "# the plot gets saved to 'output.png'\n",
        "plt.savefig('output.png')"
      ],
      "execution_count": null,
      "outputs": [
        {
          "output_type": "display_data",
          "data": {
            "image/png": "[encoded data removed]",
            "text/plain": [
              "<matplotlib.figure.Figure at 0x190921b8e80>"
            ]
          },
          "metadata": {
            "tags": []
          }
        }
      ]
    },
    {
      "cell_type": "code",
      "metadata": {
        "id": "UqhTs2E1SMBO"
      },
      "source": [
        "#Bar plot with group by"
      ],
      "execution_count": null,
      "outputs": []
    },
    {
      "cell_type": "code",
      "metadata": {
        "id": "5MGd-mVmSMBP"
      },
      "source": [
        "import matplotlib.pyplot as plt\n",
        "import pandas as pd"
      ],
      "execution_count": null,
      "outputs": []
    },
    {
      "cell_type": "code",
      "metadata": {
        "id": "KgtJQlfcSMBP",
        "outputId": "e2cd1dca-590a-49ad-dbb3-1db5e06c1659"
      },
      "source": [
        "df.groupby('state')['name'].nunique().plot(kind='bar')\n",
        "plt.show()"
      ],
      "execution_count": null,
      "outputs": [
        {
          "output_type": "display_data",
          "data": {
            "image/png": "[encoded data removed]",
            "text/plain": [
              "<matplotlib.figure.Figure at 0x190922ea5f8>"
            ]
          },
          "metadata": {
            "tags": []
          }
        }
      ]
    },
    {
      "cell_type": "code",
      "metadata": {
        "id": "CXmy4KEVSMBQ"
      },
      "source": [
        "#Stacked bar plot with group by"
      ],
      "execution_count": null,
      "outputs": []
    },
    {
      "cell_type": "code",
      "metadata": {
        "id": "GkC13bFQSMBQ"
      },
      "source": [
        "#create a dummy variable and do a two-level group-by based on it:\n",
        "\n",
        "#fix the x axis label and the legend"
      ],
      "execution_count": null,
      "outputs": []
    },
    {
      "cell_type": "code",
      "metadata": {
        "id": "btpxD39QSMBQ",
        "outputId": "cd4d3759-943c-430c-941c-3eb5cf9f2bbc"
      },
      "source": [
        "import matplotlib.pyplot as plt\n",
        "\n",
        "# create dummy variable them group by that\n",
        "# set the legend to false because we'll fix it later\n",
        "df.assign(dummy = 1).groupby(\n",
        "  ['dummy','state']\n",
        ").size().to_frame().unstack().plot(kind='bar',stacked=True,legend=False)\n",
        "\n",
        "plt.title('Number of records by State')\n",
        "\n",
        "# other it'll show up as 'dummy' \n",
        "plt.xlabel('state')\n",
        "\n",
        "# disable ticks in the x axis\n",
        "plt.xticks([])\n",
        "\n",
        "# fix the legend\n",
        "current_handles, _ = plt.gca().get_legend_handles_labels()\n",
        "reversed_handles = reversed(current_handles)\n",
        "\n",
        "labels = reversed(df['state'].unique())\n",
        "\n",
        "plt.legend(reversed_handles,labels,loc='lower right')\n",
        "plt.show()"
      ],
      "execution_count": null,
      "outputs": [
        {
          "output_type": "display_data",
          "data": {
            "image/png": "[encoded data removed]",
            "text/plain": [
              "<matplotlib.figure.Figure at 0x1909231f978>"
            ]
          },
          "metadata": {
            "tags": []
          }
        }
      ]
    },
    {
      "cell_type": "code",
      "metadata": {
        "id": "syqM1S5_SMBR"
      },
      "source": [
        "#Stacked bar plot with group by, normalized to 100%\n",
        "\n",
        "#A plot where the columns sum up to 100%.Similar to the example above but:\n",
        "\n",
        "#normalize the values by dividing by the total amounts, use percentage tick labels for the y axis\n",
        "\n",
        "#Example: Plot percentage count of records by state"
      ],
      "execution_count": null,
      "outputs": []
    },
    {
      "cell_type": "code",
      "metadata": {
        "id": "-2ASWJh9SMBS",
        "outputId": "887c5e3b-1a8d-48b8-aca5-cf3a3b2327a4"
      },
      "source": [
        "import matplotlib.pyplot as plt\n",
        "import matplotlib.ticker as mtick\n",
        "\n",
        "# create dummy variable then group by that\n",
        "# set the legend to false because we'll fix it later\n",
        "df.assign(dummy = 1).groupby(\n",
        "  ['dummy','state']\n",
        ").size().groupby(level=0).apply(\n",
        "    lambda x: 100 * x / x.sum()\n",
        ").to_frame().unstack().plot(kind='bar',stacked=True,legend=False)\n",
        "\n",
        "# or it'll show up as 'dummy' \n",
        "plt.xlabel('state')\n",
        "\n",
        "# disable ticks in the x axis\n",
        "plt.xticks([])"
      ],
      "execution_count": null,
      "outputs": [
        {
          "output_type": "execute_result",
          "data": {
            "text/plain": [
              "([], <a list of 0 Text xticklabel objects>)"
            ]
          },
          "metadata": {
            "tags": []
          },
          "execution_count": 19
        },
        {
          "output_type": "display_data",
          "data": {
            "image/png": "[encoded data removed]",
            "text/plain": [
              "<matplotlib.figure.Figure at 0x190924015c0>"
            ]
          },
          "metadata": {
            "tags": []
          }
        }
      ]
    },
    {
      "cell_type": "code",
      "metadata": {
        "id": "SD9BBseUSMBS"
      },
      "source": [
        "#Stacked bar plot with two-level group by"
      ],
      "execution_count": null,
      "outputs": []
    },
    {
      "cell_type": "code",
      "metadata": {
        "id": "on3Qg3adSMBT",
        "outputId": "8db9c147-fcb3-4508-f11c-806b5d211298"
      },
      "source": [
        "import matplotlib.pyplot as plt\n",
        "import pandas as pd\n",
        "\n",
        "df.groupby(['state','gender']).size().unstack().plot(kind='bar',stacked=True)\n",
        "plt.show()"
      ],
      "execution_count": null,
      "outputs": [
        {
          "output_type": "display_data",
          "data": {
            "image/png": "[encoded data removed]",
            "text/plain": [
              "<matplotlib.figure.Figure at 0x190923d8470>"
            ]
          },
          "metadata": {
            "tags": []
          }
        }
      ]
    },
    {
      "cell_type": "code",
      "metadata": {
        "id": "EZCgezCvSMBU"
      },
      "source": [
        "#Another example: count the people by gender, spliting by state:"
      ],
      "execution_count": null,
      "outputs": []
    },
    {
      "cell_type": "code",
      "metadata": {
        "id": "bZa8S0AfSMBU",
        "outputId": "38ecef15-ab69-4016-f81d-eb03422ce4f8"
      },
      "source": [
        "import matplotlib.pyplot as plt\n",
        "import pandas as pd\n",
        "\n",
        "df.groupby(['gender','state']).size().unstack().plot(kind='bar',stacked=True)\n",
        "plt.show()"
      ],
      "execution_count": null,
      "outputs": [
        {
          "output_type": "display_data",
          "data": {
            "image/png": "[encoded data removed]",
            "text/plain": [
              "<matplotlib.figure.Figure at 0x190939a7048>"
            ]
          },
          "metadata": {
            "tags": []
          }
        }
      ]
    },
    {
      "cell_type": "code",
      "metadata": {
        "id": "5kmzp36aSMBV"
      },
      "source": [
        "#Stacked bar plot with two-level group by, normalized to 100%\n",
        "#Sometimes you are only ever interested in the distributions, not raw amounts:"
      ],
      "execution_count": null,
      "outputs": []
    },
    {
      "cell_type": "code",
      "metadata": {
        "id": "4x4ioNB4SMBV",
        "outputId": "aebc2acc-5f2f-4ba0-a7dd-ff857061e73b"
      },
      "source": [
        "import matplotlib.ticker as mtick\n",
        "import matplotlib.pyplot as plt\n",
        "\n",
        "df.groupby(['gender','state']).size().groupby(level=0).apply(\n",
        "    lambda x: 100 * x / x.sum()\n",
        ").unstack().plot(kind='bar',stacked=True)\n",
        "\n",
        "plt.gca().yaxis.set_major_formatter(mtick.PercentFormatter())\n",
        "plt.show()"
      ],
      "execution_count": null,
      "outputs": [
        {
          "output_type": "display_data",
          "data": {
            "image/png": "[encoded data removed]",
            "text/plain": [
              "<matplotlib.figure.Figure at 0x19093776cc0>"
            ]
          },
          "metadata": {
            "tags": []
          }
        }
      ]
    },
    {
      "cell_type": "code",
      "metadata": {
        "id": "BgJxIyrFSMBW"
      },
      "source": [
        "#Histogram of column values"
      ],
      "execution_count": null,
      "outputs": []
    },
    {
      "cell_type": "code",
      "metadata": {
        "id": "mFABPEacSMBW",
        "outputId": "84a33c9a-0310-40b7-c6ba-371a542e3114"
      },
      "source": [
        "import matplotlib.pyplot as plt\n",
        "import pandas as pd\n",
        "\n",
        "df[['age']].plot(kind='hist',bins=[0,20,40,60,80,100],rwidth=0.8)\n",
        "plt.show()\n",
        "#The most common age group is between 20 and 40 years old"
      ],
      "execution_count": null,
      "outputs": [
        {
          "output_type": "display_data",
          "data": {
            "image/png": "[encoded data removed]",
            "text/plain": [
              "<matplotlib.figure.Figure at 0x190939aff28>"
            ]
          },
          "metadata": {
            "tags": []
          }
        }
      ]
    },
    {
      "cell_type": "code",
      "metadata": {
        "id": "IAT1u73rSMBW"
      },
      "source": [
        "#Date histogram"
      ],
      "execution_count": null,
      "outputs": []
    },
    {
      "cell_type": "code",
      "metadata": {
        "id": "AtE-O6AXSMBX"
      },
      "source": [
        "#To plot the number of records per unit of time, you must a) convert the date column to datetime using to_datetime() b) call .plot(kind='hist'):"
      ],
      "execution_count": null,
      "outputs": []
    },
    {
      "cell_type": "code",
      "metadata": {
        "id": "V8h3LgmwSMBX"
      },
      "source": [
        "import pandas as pd\n",
        "import matplotlib.pyplot as plt\n",
        "\n",
        "# source dataframe using an arbitrary date format (m/d/y)\n",
        "df = pd.DataFrame({\n",
        "    'name':[\n",
        "        'john','lisa','peter','carl','linda','betty'\n",
        "    ],\n",
        "    'date_of_birth':[\n",
        "        '01/21/1988','03/10/1977','07/25/1999','01/22/1977','09/30/1968','09/15/1970'\n",
        "    ]\n",
        "})"
      ],
      "execution_count": null,
      "outputs": []
    },
    {
      "cell_type": "code",
      "metadata": {
        "id": "RnV-j1UNSMBZ"
      },
      "source": [
        "#Now convert the date column into datetime type and use plot(kind='hist'):"
      ],
      "execution_count": null,
      "outputs": []
    },
    {
      "cell_type": "code",
      "metadata": {
        "id": "Y0JhaEo2SMBZ",
        "outputId": "4d95f807-5c0c-44e6-e842-77d857cbf6e1"
      },
      "source": [
        "df['date_of_birth'] = pd.to_datetime(df['date_of_birth'], infer_datetime_format=True)\n",
        "\n",
        "plt.clf()\n",
        "df['date_of_birth'].map(lambda d: d.month).plot(kind='hist')\n",
        "plt.show()"
      ],
      "execution_count": null,
      "outputs": [
        {
          "output_type": "display_data",
          "data": {
            "image/png": "[encoded data removed]",
            "text/plain": [
              "<matplotlib.figure.Figure at 0x19092311cc0>"
            ]
          },
          "metadata": {
            "tags": []
          }
        }
      ]
    },
    {
      "cell_type": "code",
      "metadata": {
        "id": "-GE-JE16SMBa"
      },
      "source": [
        ""
      ],
      "execution_count": null,
      "outputs": []
    }
  ]
}