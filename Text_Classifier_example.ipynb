{
  "nbformat": 4,
  "nbformat_minor": 0,
  "metadata": {
    "kernelspec": {
      "display_name": "Python 3",
      "language": "python",
      "name": "python3"
    },
    "language_info": {
      "codemirror_mode": {
        "name": "ipython",
        "version": 3
      },
      "file_extension": ".py",
      "mimetype": "text/x-python",
      "name": "python",
      "nbconvert_exporter": "python",
      "pygments_lexer": "ipython3",
      "version": "3.6.4"
    },
    "colab": {
      "name": "Text Classifier example.ipynb",
      "provenance": []
    }
  },
  "cells": [
    {
      "cell_type": "code",
      "metadata": {
        "id": "evZaZw7VNbRz",
        "outputId": "dd84c4c1-5fcc-46aa-8830-3991cfa01358"
      },
      "source": [
        "from sklearn.datasets import fetch_20newsgroups\n",
        "news = fetch_20newsgroups(subset='all')\n",
        "\n",
        "print(\"Number of articles: \" + str(len(news.data)))\n",
        "print(\"Number of diffrent categories: \" + str(len(news.target_names)))\n",
        "\n",
        "news.target_names"
      ],
      "execution_count": null,
      "outputs": [
        {
          "output_type": "stream",
          "text": [
            "Number of articles: 18846\n",
            "Number of diffrent categories: 20\n"
          ],
          "name": "stdout"
        },
        {
          "output_type": "execute_result",
          "data": {
            "text/plain": [
              "['alt.atheism',\n",
              " 'comp.graphics',\n",
              " 'comp.os.ms-windows.misc',\n",
              " 'comp.sys.ibm.pc.hardware',\n",
              " 'comp.sys.mac.hardware',\n",
              " 'comp.windows.x',\n",
              " 'misc.forsale',\n",
              " 'rec.autos',\n",
              " 'rec.motorcycles',\n",
              " 'rec.sport.baseball',\n",
              " 'rec.sport.hockey',\n",
              " 'sci.crypt',\n",
              " 'sci.electronics',\n",
              " 'sci.med',\n",
              " 'sci.space',\n",
              " 'soc.religion.christian',\n",
              " 'talk.politics.guns',\n",
              " 'talk.politics.mideast',\n",
              " 'talk.politics.misc',\n",
              " 'talk.religion.misc']"
            ]
          },
          "metadata": {
            "tags": []
          },
          "execution_count": 5
        }
      ]
    },
    {
      "cell_type": "markdown",
      "metadata": {
        "id": "yu1NIckBNbSX"
      },
      "source": [
        "As you can see, there are 18 846 newsgroup documents, distributed almost evenly across 20 different newsgroups. Our goal is to create a classifier that will classify each document based on its content. Let’s see the content of one document:"
      ]
    },
    {
      "cell_type": "code",
      "metadata": {
        "id": "ufb--leUNbSb",
        "outputId": "3440ed64-d58b-4151-c31b-78c71dca3f55"
      },
      "source": [
        "print(\"\\n\".join(news.data[1121].split(\"\\n\")[:]))"
      ],
      "execution_count": null,
      "outputs": [
        {
          "output_type": "stream",
          "text": [
            "From: et@teal.csn.org (Eric H. Taylor)\n",
            "Subject: Re: Gravity waves, was: Predicting gravity wave quantization & Cosmic Noise\n",
            "Summary: Dong ....  Dong ....  Do I hear the death-knell of relativity?\n",
            "Keywords: space, curvature, nothing, tesla\n",
            "Nntp-Posting-Host: teal.csn.org\n",
            "Organization: 4-L Laboratories\n",
            "Distribution: World\n",
            "Expires: Wed, 28 Apr 1993 06:00:00 GMT\n",
            "Lines: 30\n",
            "\n",
            "In article <C4KvJF.4qo@well.sf.ca.us> metares@well.sf.ca.us (Tom Van Flandern) writes:\n",
            ">crb7q@kelvin.seas.Virginia.EDU (Cameron Randale Bass) writes:\n",
            ">> Bruce.Scott@launchpad.unc.edu (Bruce Scott) writes:\n",
            ">>> \"Existence\" is undefined unless it is synonymous with \"observable\" in\n",
            ">>> physics.\n",
            ">> [crb] Dong ....  Dong ....  Dong ....  Do I hear the death-knell of\n",
            ">> string theory?\n",
            ">\n",
            ">     I agree.  You can add \"dark matter\" and quarks and a lot of other\n",
            ">unobservable, purely theoretical constructs in physics to that list,\n",
            ">including the omni-present \"black holes.\"\n",
            ">\n",
            ">     Will Bruce argue that their existence can be inferred from theory\n",
            ">alone?  Then what about my original criticism, when I said \"Curvature\n",
            ">can only exist relative to something non-curved\"?  Bruce replied:\n",
            ">\"'Existence' is undefined unless it is synonymous with 'observable' in\n",
            ">physics.  We cannot observe more than the four dimensions we know about.\"\n",
            ">At the moment I don't see a way to defend that statement and the\n",
            ">existence of these unobservable phenomena simultaneously.  -|Tom|-\n",
            "\n",
            "\"I hold that space cannot be curved, for the simple reason that it can have\n",
            "no properties.\"\n",
            "\"Of properties we can only speak when dealing with matter filling the\n",
            "space. To say that in the presence of large bodies space becomes curved,\n",
            "is equivalent to stating that something can act upon nothing. I,\n",
            "for one, refuse to subscribe to such a view.\" - Nikola Tesla\n",
            "\n",
            "----\n",
            " ET  \"Tesla was 100 years ahead of his time. Perhaps now his time comes.\"\n",
            "----\n",
            "\n"
          ],
          "name": "stdout"
        }
      ]
    },
    {
      "cell_type": "markdown",
      "metadata": {
        "id": "vXT58yvnNbSe"
      },
      "source": [
        "# Each document is a text written in English in a form of an email with a lot of punctuations. You should always do some pre-processing but here we’ll just concentrate on the model."
      ]
    },
    {
      "cell_type": "markdown",
      "metadata": {
        "id": "VMP96VJ9NbSg"
      },
      "source": [
        "Define training function...create a function for training and in each attempt save results and accuracies."
      ]
    },
    {
      "cell_type": "code",
      "metadata": {
        "id": "yiOxwOBvNbSi"
      },
      "source": [
        "from sklearn.model_selection import train_test_split\n",
        "import time\n",
        "\n",
        "def train(classifier, X, y):\n",
        "    start = time.time()\n",
        "    X_train, X_test, y_train, y_test = train_test_split(X, y, test_size=0.2, random_state=11)\n",
        "\n",
        "    classifier.fit(X_train, y_train)\n",
        "    end = time.time()\n",
        "\n",
        "    print(\"Accuracy: \" + str(classifier.score(X_test, y_test)) + \", Time duration: \" + str(end - start))\n",
        "    return classifier"
      ],
      "execution_count": null,
      "outputs": []
    },
    {
      "cell_type": "markdown",
      "metadata": {
        "id": "g6dyWLk-NbSl"
      },
      "source": [
        "Feature extraction"
      ]
    },
    {
      "cell_type": "markdown",
      "metadata": {
        "id": "z38v9Qq_NbSn"
      },
      "source": [
        "# Using “Bag of words” build a text classifier"
      ]
    },
    {
      "cell_type": "code",
      "metadata": {
        "id": "yoeHEfhwNbSo",
        "outputId": "cef642b0-3312-42e3-d8ac-22ea07e5d845"
      },
      "source": [
        "from sklearn.naive_bayes import MultinomialNB\n",
        "from sklearn.pipeline import Pipeline\n",
        "from sklearn.feature_extraction.text import TfidfVectorizer\n",
        "\n",
        "trial1 = Pipeline([ ('vectorizer', TfidfVectorizer()), ('classifier', MultinomialNB())])\n",
        "\n",
        "train(trial1, news.data, news.target)"
      ],
      "execution_count": null,
      "outputs": [
        {
          "output_type": "stream",
          "text": [
            "Accuracy: 0.8538461538461538, Time duration: 10.586126565933228\n"
          ],
          "name": "stdout"
        },
        {
          "output_type": "execute_result",
          "data": {
            "text/plain": [
              "Pipeline(memory=None,\n",
              "     steps=[('vectorizer', TfidfVectorizer(analyzer='word', binary=False, decode_error='strict',\n",
              "        dtype=<class 'numpy.int64'>, encoding='utf-8', input='content',\n",
              "        lowercase=True, max_df=1.0, max_features=None, min_df=1,\n",
              "        ngram_range=(1, 1), norm='l2', preprocessor=None, smooth_idf=Tr...      vocabulary=None)), ('classifier', MultinomialNB(alpha=1.0, class_prior=None, fit_prior=True))])"
            ]
          },
          "metadata": {
            "tags": []
          },
          "execution_count": 8
        }
      ]
    },
    {
      "cell_type": "markdown",
      "metadata": {
        "id": "tKyQpUcuNbSq"
      },
      "source": [
        "# Parameter scaling: \n",
        "To improve accuracy remove stop words"
      ]
    },
    {
      "cell_type": "code",
      "metadata": {
        "id": "5J7WdkAeNbSs",
        "outputId": "c7fcad3e-537b-424c-f696-cf19763024ab"
      },
      "source": [
        "from nltk.corpus import stopwords\n",
        "\n",
        "trial2 = Pipeline([ ('vectorizer', TfidfVectorizer(stop_words=stopwords.words('english'))),('classifier', MultinomialNB())])\n",
        "\n",
        "train(trial2, news.data, news.target)"
      ],
      "execution_count": null,
      "outputs": [
        {
          "output_type": "stream",
          "text": [
            "Accuracy: 0.8806366047745358, Time duration: 10.30477237701416\n"
          ],
          "name": "stdout"
        },
        {
          "output_type": "execute_result",
          "data": {
            "text/plain": [
              "Pipeline(memory=None,\n",
              "     steps=[('vectorizer', TfidfVectorizer(analyzer='word', binary=False, decode_error='strict',\n",
              "        dtype=<class 'numpy.int64'>, encoding='utf-8', input='content',\n",
              "        lowercase=True, max_df=1.0, max_features=None, min_df=1,\n",
              "        ngram_range=(1, 1), norm='l2', preprocessor=None, smooth_idf=Tr...      vocabulary=None)), ('classifier', MultinomialNB(alpha=1.0, class_prior=None, fit_prior=True))])"
            ]
          },
          "metadata": {
            "tags": []
          },
          "execution_count": 9
        }
      ]
    },
    {
      "cell_type": "markdown",
      "metadata": {
        "id": "QDcZ9RTdNbSu"
      },
      "source": [
        "Accuracy is better and even the training is faster, more improvement, lets change the value of alpha in the classifier and check the best"
      ]
    },
    {
      "cell_type": "code",
      "metadata": {
        "id": "WqBB_AtaNbSv",
        "outputId": "fb27d5a6-331e-4fcf-aec4-228d415f7bdc"
      },
      "source": [
        "for alpha in [5, 0.5, 0.05, 0.005, 0.0005]:\n",
        "    trial3 = Pipeline([('vectorizer', TfidfVectorizer(stop_words=stopwords.words('english'))),('classifier', MultinomialNB(alpha=alpha))])\n",
        "    train(trial3, news.data, news.target)"
      ],
      "execution_count": null,
      "outputs": [
        {
          "output_type": "stream",
          "text": [
            "Accuracy: 0.8448275862068966, Time duration: 9.678558826446533\n",
            "Accuracy: 0.8909814323607427, Time duration: 9.244025468826294\n",
            "Accuracy: 0.9122015915119364, Time duration: 9.640069723129272\n",
            "Accuracy: 0.9175066312997348, Time duration: 9.119089365005493\n",
            "Accuracy: 0.9169761273209549, Time duration: 9.513797283172607\n"
          ],
          "name": "stdout"
        }
      ]
    },
    {
      "cell_type": "markdown",
      "metadata": {
        "id": "YagqOuSbNbSx"
      },
      "source": [
        " #best accuracy of 91.758% is achieved for alpha 0.005\n",
        " for more improvement ignore the words that appear fewer than 5 times in all documents and use min_dif parameter:"
      ]
    },
    {
      "cell_type": "code",
      "metadata": {
        "id": "rML1P0z-NbSz",
        "outputId": "3772d6f8-aa7e-4e6a-c5aa-d9a37536614d"
      },
      "source": [
        "trial4 = Pipeline([ ('vectorizer', TfidfVectorizer(stop_words=stopwords.words('english'), min_df=5)), ('classifier', MultinomialNB(alpha=0.005)) ])\n",
        "\n",
        "train(trial4, news.data, news.target)"
      ],
      "execution_count": null,
      "outputs": [
        {
          "output_type": "stream",
          "text": [
            "Accuracy: 0.910079575596817, Time duration: 9.253214359283447\n"
          ],
          "name": "stdout"
        },
        {
          "output_type": "execute_result",
          "data": {
            "text/plain": [
              "Pipeline(memory=None,\n",
              "     steps=[('vectorizer', TfidfVectorizer(analyzer='word', binary=False, decode_error='strict',\n",
              "        dtype=<class 'numpy.int64'>, encoding='utf-8', input='content',\n",
              "        lowercase=True, max_df=1.0, max_features=None, min_df=5,\n",
              "        ngram_range=(1, 1), norm='l2', preprocessor=None, smooth_idf=Tr...    vocabulary=None)), ('classifier', MultinomialNB(alpha=0.005, class_prior=None, fit_prior=True))])"
            ]
          },
          "metadata": {
            "tags": []
          },
          "execution_count": 14
        }
      ]
    },
    {
      "cell_type": "code",
      "metadata": {
        "id": "IPKEcrwRNbS2"
      },
      "source": [
        "#Resulting accuracy is a bit lower, so this was a bad idea."
      ],
      "execution_count": null,
      "outputs": []
    },
    {
      "cell_type": "markdown",
      "metadata": {
        "id": "67rpSfLYNbS3"
      },
      "source": [
        "# use nltk "
      ]
    },
    {
      "cell_type": "markdown",
      "metadata": {
        "id": "CHrmssmXNbS4"
      },
      "source": [
        "try and stem the data with nltk (word root) with use of parameter tokenizer within TfidfVectorizer, it usually helps, and we can add punctuations to a list of stop words:"
      ]
    },
    {
      "cell_type": "code",
      "metadata": {
        "id": "W7xeTQADNbS5",
        "outputId": "a1317639-cb89-4c15-cccd-b3ea32ada35c"
      },
      "source": [
        "import string\n",
        "from nltk.stem import PorterStemmer\n",
        "from nltk import word_tokenize\n",
        "\n",
        "def stemming_tokenizer(text):\n",
        "    stemmer = PorterStemmer()\n",
        "    return [stemmer.stem(w) for w in word_tokenize(text)]\n",
        "\n",
        "trial5 = Pipeline([ ('vectorizer', TfidfVectorizer(tokenizer=stemming_tokenizer, stop_words=stopwords.words('english') + list(string.punctuation))), ('classifier', MultinomialNB(alpha=0.005))])\n",
        "\n",
        "train(trial5, news.data, news.target)"
      ],
      "execution_count": null,
      "outputs": [
        {
          "output_type": "stream",
          "text": [
            "Accuracy: 0.9228116710875331, Time duration: 313.3142011165619\n"
          ],
          "name": "stdout"
        },
        {
          "output_type": "execute_result",
          "data": {
            "text/plain": [
              "Pipeline(memory=None,\n",
              "     steps=[('vectorizer', TfidfVectorizer(analyzer='word', binary=False, decode_error='strict',\n",
              "        dtype=<class 'numpy.int64'>, encoding='utf-8', input='content',\n",
              "        lowercase=True, max_df=1.0, max_features=None, min_df=1,\n",
              "        ngram_range=(1, 1), norm='l2', preprocessor=None, smooth_idf=Tr...ue, vocabulary=None)), ('classifier', MultinomialNB(alpha=0.005, class_prior=None, fit_prior=True))])"
            ]
          },
          "metadata": {
            "tags": []
          },
          "execution_count": 15
        }
      ]
    },
    {
      "cell_type": "code",
      "metadata": {
        "id": "Q2lI5rnVNbS7"
      },
      "source": [
        "Accuracy is a bit better, but the training last 34 times longer, stemming takes longer\n",
        "Sometimes accuracy can cost you computation speed and you should find a nice balance between them"
      ],
      "execution_count": null,
      "outputs": []
    },
    {
      "cell_type": "code",
      "metadata": {
        "id": "7_5F8qLqNbS8"
      },
      "source": [
        "#different classifiers...Linear SVC ...slower but may get better accuracy"
      ],
      "execution_count": null,
      "outputs": []
    },
    {
      "cell_type": "code",
      "metadata": {
        "id": "1WcxfILlNbS9",
        "outputId": "0d4886d2-0262-49ee-e4ab-526e4397bb98"
      },
      "source": [
        "from sklearn.linear_model import SGDClassifier\n",
        "from sklearn.svm import LinearSVC\n",
        "\n",
        "for classifier in [SGDClassifier(), LinearSVC()]:\n",
        "    trial6 = Pipeline([('vectorizer', TfidfVectorizer(stop_words=stopwords.words('english') + list(string.punctuation))), ('classifier', classifier)])\n",
        "\n",
        "    train(trial6, news.data, news.target)"
      ],
      "execution_count": null,
      "outputs": [
        {
          "output_type": "stream",
          "text": [
            "C:\\ProgramData\\Anaconda3\\lib\\site-packages\\sklearn\\linear_model\\stochastic_gradient.py:128: FutureWarning: max_iter and tol parameters have been added in <class 'sklearn.linear_model.stochastic_gradient.SGDClassifier'> in 0.19. If both are left unset, they default to max_iter=5 and tol=None. If tol is not None, max_iter defaults to max_iter=1000. From 0.21, default max_iter will be 1000, and default tol will be 1e-3.\n",
            "  \"and default tol will be 1e-3.\" % type(self), FutureWarning)\n"
          ],
          "name": "stderr"
        },
        {
          "output_type": "stream",
          "text": [
            "Accuracy: 0.926525198938992, Time duration: 12.49515414237976\n",
            "Accuracy: 0.9320954907161804, Time duration: 15.64207410812378\n"
          ],
          "name": "stdout"
        }
      ]
    },
    {
      "cell_type": "code",
      "metadata": {
        "id": "vKOrvVnKNbS_"
      },
      "source": [
        "An accuracy of 93.2% for linear SVC is awesome\n",
        "Here, an accuracy of 93% is good because we have 20 categories and some of them are quite similar,"
      ],
      "execution_count": null,
      "outputs": []
    },
    {
      "cell_type": "markdown",
      "metadata": {
        "id": "m_nraEKkNbTA"
      },
      "source": [
        "# Model evaluation"
      ]
    },
    {
      "cell_type": "markdown",
      "metadata": {
        "id": "MwQ9uslkNbTB"
      },
      "source": [
        " confusion_matrix() from sckit-learn to compare real and predicted categories:"
      ]
    },
    {
      "cell_type": "code",
      "metadata": {
        "id": "1XP7kUJANbTC",
        "outputId": "0c5296cb-d22f-43c0-d434-79cf26e3994b"
      },
      "source": [
        "from sklearn.metrics import confusion_matrix\n",
        "import matplotlib.pyplot as plt\n",
        "import seaborn as sns\n",
        "\n",
        "start = time.time()\n",
        "classifier = Pipeline([('vectorizer', TfidfVectorizer(stop_words=stopwords.words('english') + list(string.punctuation))),('classifier', LinearSVC(C=10))])\n",
        "X_train, X_test, y_train, y_test = train_test_split(news.data, news.target, test_size=0.2, random_state=11)\n",
        "classifier.fit(X_train, y_train)\n",
        "end = time.time()\n",
        "\n",
        "print(\"Accuracy: \" + str(classifier.score(X_test, y_test)) + \", Time duration: \" + str(end - start))\n",
        "\n",
        "y_pred = classifier.predict(X_test)\n",
        "conf_mat = confusion_matrix(y_test, y_pred)\n",
        "labels=news.target_names\n",
        "# Plot confusion_matrix\n",
        "fig, ax = plt.subplots(figsize=(15, 10))\n",
        "sns.heatmap(conf_mat, annot=True, cmap = \"Set3\", fmt =\"d\",\n",
        "xticklabels=labels, yticklabels=labels)\n",
        "plt.ylabel('Actual')\n",
        "plt.xlabel('Predicted')\n",
        "plt.show()"
      ],
      "execution_count": null,
      "outputs": [
        {
          "output_type": "stream",
          "text": [
            "Accuracy: 0.9352785145888595, Time duration: 31.470360279083252\n"
          ],
          "name": "stdout"
        },
        {
          "output_type": "display_data",
          "data": {
            "image/png": "[encoded data removed]",
            "text/plain": [
              "<matplotlib.figure.Figure at 0x1b0a0732b38>"
            ]
          },
          "metadata": {
            "tags": []
          }
        }
      ]
    },
    {
      "cell_type": "markdown",
      "metadata": {
        "id": "pZigteaSNbTH"
      },
      "source": [
        "The confusion matrix is a great way to see which categories model is mixing. For example, there are 17 articles from category comp.os.ms-windows.mics that are wrongly classified as comp.sys.ibm.pc.hardware. "
      ]
    },
    {
      "cell_type": "code",
      "metadata": {
        "id": "EV7m4MuHNbTJ",
        "outputId": "51e6a494-1dd2-4f0b-d557-b44902066082"
      },
      "source": [
        "from sklearn import metrics\n",
        "print(metrics.classification_report(y_test, y_pred, target_names=labels))"
      ],
      "execution_count": null,
      "outputs": [
        {
          "output_type": "stream",
          "text": [
            "                          precision    recall  f1-score   support\n",
            "\n",
            "             alt.atheism       0.96      0.95      0.96       172\n",
            "           comp.graphics       0.86      0.91      0.88       184\n",
            " comp.os.ms-windows.misc       0.92      0.85      0.89       204\n",
            "comp.sys.ibm.pc.hardware       0.83      0.87      0.85       195\n",
            "   comp.sys.mac.hardware       0.93      0.92      0.93       195\n",
            "          comp.windows.x       0.93      0.87      0.90       204\n",
            "            misc.forsale       0.85      0.88      0.86       164\n",
            "               rec.autos       0.93      0.94      0.93       180\n",
            "         rec.motorcycles       0.97      0.97      0.97       173\n",
            "      rec.sport.baseball       0.97      0.97      0.97       217\n",
            "        rec.sport.hockey       0.97      0.99      0.98       178\n",
            "               sci.crypt       0.95      0.98      0.96       197\n",
            "         sci.electronics       0.93      0.93      0.93       199\n",
            "                 sci.med       0.94      0.99      0.97       183\n",
            "               sci.space       0.96      0.99      0.97       207\n",
            "  soc.religion.christian       0.94      0.96      0.95       211\n",
            "      talk.politics.guns       0.97      0.96      0.96       208\n",
            "   talk.politics.mideast       0.99      0.99      0.99       200\n",
            "      talk.politics.misc       0.96      0.93      0.94       175\n",
            "      talk.religion.misc       0.94      0.83      0.88       124\n",
            "\n",
            "             avg / total       0.94      0.94      0.94      3770\n",
            "\n"
          ],
          "name": "stdout"
        }
      ]
    },
    {
      "cell_type": "markdown",
      "metadata": {
        "id": "AcyTbnHSNbTL"
      },
      "source": [
        "Category misc.forsale has the lowest accuracy, but the overall accuracy is great."
      ]
    },
    {
      "cell_type": "code",
      "metadata": {
        "id": "h4ueAGQsNbTM"
      },
      "source": [
        "#import numpy as np\n",
        "#def show_top10(classifier, vectorizer, categories):\n",
        "#    feature_names = np.asarray(vectorizer.get_feature_names())\n",
        "#    for i, category in enumerate(categories):\n",
        "#            top10 = np.argsort(classifier.coef_[i])[-10:]\n",
        "#            print(\"%s: %s\" % (category, \" \".join(feature_names[top10])))\n",
        "#\n",
        "#show_top10(clf, vectorizer, newsgroups_train.target_names)"
      ],
      "execution_count": null,
      "outputs": []
    },
    {
      "cell_type": "code",
      "metadata": {
        "id": "K40ecLpUNbTN"
      },
      "source": [
        ""
      ],
      "execution_count": null,
      "outputs": []
    }
  ]
}