{
  "nbformat": 4,
  "nbformat_minor": 0,
  "metadata": {
    "kernelspec": {
      "display_name": "Python 3",
      "language": "python",
      "name": "python3"
    },
    "language_info": {
      "codemirror_mode": {
        "name": "ipython",
        "version": 3
      },
      "file_extension": ".py",
      "mimetype": "text/x-python",
      "name": "python",
      "nbconvert_exporter": "python",
      "pygments_lexer": "ipython3",
      "version": "3.6.4"
    },
    "colab": {
      "name": "Numpy practical examples.ipynb",
      "provenance": []
    }
  },
  "cells": [
    {
      "cell_type": "code",
      "metadata": {
        "id": "IkOSugD2RFeB"
      },
      "source": [
        "#Python grade example\n",
        "#You’re a teacher who has just graded your students on a recent test.\n",
        "#Unfortunately, you may have made the test too challenging, and most of the students did worse than expected. \n",
        "#To help everybody out, you’re going to curve everyone’s grades."
      ],
      "execution_count": null,
      "outputs": []
    },
    {
      "cell_type": "code",
      "metadata": {
        "id": "yMhJMwwVRFeD"
      },
      "source": [
        "#You’ll take whatever the average score is  \n",
        "#Additionally, you’ll make sure that the curve doesn’t accidentally \n",
        "#hurt your students’ grades or the student does better than 100%."
      ],
      "execution_count": null,
      "outputs": []
    },
    {
      "cell_type": "code",
      "metadata": {
        "id": "kH60xL01RFeE"
      },
      "source": [
        "import numpy as np\n",
        "CURVE_CENTER = 80\n",
        "grades = np.array([72, 35, 64, 88, 51, 90, 74, 12]) \n",
        "\n",
        "def curve(grades):\n",
        "    average = grades.mean()\n",
        "    print(\"average is\", average)\n",
        "    change = CURVE_CENTER - average\n",
        "    #vectorisation and broadcasting [72, 35, 64, 88,....] + 19.25, 19.25, 19.25........\n",
        "    new_grades = grades + change\n",
        "    print(new_grades)\n",
        "    return np.clip(new_grades, 55, 99)\n",
        "\n",
        "curve(grades)\n",
        "\n"
      ],
      "execution_count": null,
      "outputs": []
    },
    {
      "cell_type": "markdown",
      "metadata": {
        "id": "j5YuPDHCRFeF"
      },
      "source": [
        "# Shapes"
      ]
    },
    {
      "cell_type": "code",
      "metadata": {
        "id": "WCI7V2mgRFeG"
      },
      "source": [
        " change = CURVE_CENTER - average\n",
        "    print(change)\n",
        "     #two important concepts follow: Vectorization and Broadcasting\n",
        "    new_grades = grades + change\n",
        "    print(\"new grades is\", new_grades)\n",
        "    return np.clip(new_grades, grades, 100)"
      ],
      "execution_count": null,
      "outputs": []
    },
    {
      "cell_type": "code",
      "metadata": {
        "id": "oaaemQgBRFeH"
      },
      "source": [
        "#creates your first NumPy array, which is one-dimensional and has a shape of (8,) \n",
        "#and a data type of int64. "
      ],
      "execution_count": null,
      "outputs": []
    },
    {
      "cell_type": "code",
      "metadata": {
        "id": "4UvS31TdRFeH",
        "outputId": "1b872a21-ba1e-4c00-e4a5-b9895b5098a7"
      },
      "source": [
        "l=[4647,747,4747,34]\n",
        "a=np.array(l)\n",
        "a\n",
        "\n",
        "b=np.arange(10).reshape(2,5)\n",
        "b"
      ],
      "execution_count": null,
      "outputs": [
        {
          "output_type": "execute_result",
          "data": {
            "text/plain": [
              "array([[0, 1, 2, 3, 4],\n",
              "       [5, 6, 7, 8, 9]])"
            ]
          },
          "metadata": {
            "tags": []
          },
          "execution_count": 18
        }
      ]
    },
    {
      "cell_type": "code",
      "metadata": {
        "id": "iWJ_bgNXRFeI",
        "outputId": "c258f168-9d0f-4dbc-d590-5df1398cc28d"
      },
      "source": [
        "a = np.arange(0,80,10)\n",
        "print(a)\n",
        "#big data  \n",
        "y = a[[1, 2, -3]]\n",
        "print(y)\n",
        "\n",
        "s=np.take(a,[1,2,-1])\n",
        "print(s)\n"
      ],
      "execution_count": null,
      "outputs": [
        {
          "output_type": "stream",
          "text": [
            "[ 0 10 20 30 40 50 60 70]\n",
            "[10 20 50]\n",
            "[10 20 70]\n"
          ],
          "name": "stdout"
        }
      ]
    },
    {
      "cell_type": "code",
      "metadata": {
        "id": "SyRPLMHyRFeI",
        "outputId": "f345ba4d-c795-4b13-a173-d36913b710bf"
      },
      "source": [
        "X=np.array([[0,1,2,3],\n",
        "            [4,5,6,7],\n",
        "            [8,9,10,11]])\n",
        "\n",
        "#Like with standard indexing, the first index\n",
        "#refers to the row, and the second to the column:\n",
        "Row=np.array([0,1,2])\n",
        "Col=np.array([2,1,3])\n",
        "\n",
        "X[2, (1,0,2)]    # shows ([2,5,11])\n"
      ],
      "execution_count": null,
      "outputs": [
        {
          "output_type": "execute_result",
          "data": {
            "text/plain": [
              "array([ 9,  8, 10])"
            ]
          },
          "metadata": {
            "tags": []
          },
          "execution_count": 20
        }
      ]
    },
    {
      "cell_type": "code",
      "metadata": {
        "id": "NpoIqMmLRFeJ",
        "outputId": "370ec872-caf3-4fb3-9913-8f1e90eeb894"
      },
      "source": [
        "a = np.arange(0,20).reshape(5,4)\n",
        "print(a.sum())\n",
        "print(a)"
      ],
      "execution_count": null,
      "outputs": [
        {
          "output_type": "stream",
          "text": [
            "190\n",
            "[[ 0  1  2  3]\n",
            " [ 4  5  6  7]\n",
            " [ 8  9 10 11]\n",
            " [12 13 14 15]\n",
            " [16 17 18 19]]\n"
          ],
          "name": "stdout"
        }
      ]
    },
    {
      "cell_type": "code",
      "metadata": {
        "id": "wzE5ByzsRFeK",
        "outputId": "c7d8c373-819f-4dde-f846-79ecb0edbb6a"
      },
      "source": [
        "colsum=a.sum(axis=0)\n",
        "rowsum=a.sum(axis=1)\n",
        "print(rowsum.shape,\"\\t\",colsum.shape)\n",
        "print(\"col wise total\",colsum)\n",
        "print(\"row wise total\",rowsum)\n",
        "print(a.sum(axis=-1))\n",
        "y1=rowsum.T\n",
        "print(y1)\n",
        "print(y1.shape)\n",
        "#1. generate single dim array \n",
        "#2.to add in numpy array vertically , transpose\n",
        "#3.concatenate main array and single dimensional array after transposing"
      ],
      "execution_count": null,
      "outputs": [
        {
          "output_type": "stream",
          "text": [
            "(5,) \t (4,)\n",
            "col wise total [40 45 50 55]\n",
            "row wise total [ 6 22 38 54 70]\n",
            "[ 6 22 38 54 70]\n",
            "[ 6 22 38 54 70]\n",
            "(5,)\n"
          ],
          "name": "stdout"
        }
      ]
    },
    {
      "cell_type": "code",
      "metadata": {
        "id": "SJaHofT2RFeK",
        "outputId": "f8629ab9-3260-4548-a011-c9608d42e105"
      },
      "source": [
        "#import numpy as np\n",
        "\n",
        "temperatures = np.array([\n",
        "     29.3, 42.1, 18.8, 16.1, 38.0, 12.5,\n",
        "    12.6, 49.9, 38.6, 31.3, 9.2, 22.2]).reshape(2, 2, 3)\n",
        "\n",
        "print(temperatures.shape)\n",
        "\n",
        "print(temperatures)\n",
        "#Q extract the 2nd weeks temperature of last three days\n",
        "temperatures[1,1, 2]"
      ],
      "execution_count": null,
      "outputs": [
        {
          "output_type": "stream",
          "text": [
            "(2, 2, 3)\n",
            "[[[29.3 42.1 18.8]\n",
            "  [16.1 38.  12.5]]\n",
            "\n",
            " [[12.6 49.9 38.6]\n",
            "  [31.3  9.2 22.2]]]\n"
          ],
          "name": "stdout"
        },
        {
          "output_type": "execute_result",
          "data": {
            "text/plain": [
              "22.2"
            ]
          },
          "metadata": {
            "tags": []
          },
          "execution_count": 30
        }
      ]
    },
    {
      "cell_type": "code",
      "metadata": {
        "id": "NeKAYSTyRFeM"
      },
      "source": [
        "temperatures[1,1,2]"
      ],
      "execution_count": null,
      "outputs": []
    },
    {
      "cell_type": "code",
      "metadata": {
        "id": "U88vT_HFRFeO",
        "outputId": "eae502b0-02ab-4943-c3fd-f69d42db29bf"
      },
      "source": [
        "a=np.swapaxes(temperatures,1,2)\n",
        "a"
      ],
      "execution_count": null,
      "outputs": [
        {
          "output_type": "execute_result",
          "data": {
            "text/plain": [
              "array([[[29.3, 16.1],\n",
              "        [42.1, 38. ],\n",
              "        [18.8, 12.5]],\n",
              "\n",
              "       [[12.6, 31.3],\n",
              "        [49.9,  9.2],\n",
              "        [38.6, 22.2]]])"
            ]
          },
          "metadata": {
            "tags": []
          },
          "execution_count": 31
        }
      ]
    },
    {
      "cell_type": "code",
      "metadata": {
        "id": "bRsiDt3RRFeP",
        "outputId": "398a5dd5-b779-4ebe-a2a8-89f427b7abbe"
      },
      "source": [
        "#eng p  c  m\n",
        "#4 students\n",
        "\n",
        "table = np.array([\n",
        "[5, 3, 7, 1],\n",
        "[2, 6, 7 ,9],\n",
        "[1, 1, 1, 1],\n",
        "[4, 3, 2, 0],\n",
        "])\n",
        "#Q1 AVERAGE OF EVERY STUDENT\n",
        "\n",
        "table[:,1].mean(axis=0)   #rowwise\n",
        "\n",
        "\n"
      ],
      "execution_count": null,
      "outputs": [
        {
          "output_type": "execute_result",
          "data": {
            "text/plain": [
              "3.25"
            ]
          },
          "metadata": {
            "tags": []
          },
          "execution_count": 103
        }
      ]
    },
    {
      "cell_type": "markdown",
      "metadata": {
        "id": "LFEINLt5RFeQ"
      },
      "source": [
        "# Axis"
      ]
    },
    {
      "cell_type": "code",
      "metadata": {
        "id": "TuU6ZpHdRFeQ"
      },
      "source": [
        "for i in range(4):\n",
        "    avg=table[i,:]\n",
        "    print(\"first student avg\",avg.sum()/4)\n",
        "\n",
        "import numpy as np \n",
        "   \n",
        "arr1 = np.array([5,3,7,1]) \n",
        "arr2 = np.array([2,16,7,9])\n",
        "arr3 = np.array([1,1,1,1])\n",
        "arr4 = np.array([4,3,2,0]) \n",
        "   \n",
        "avg = (arr1 + arr2 + arr3 +  arr4) / 2\n",
        "  \n",
        "print(\"Average of Every Student:\\n\" , \n",
        "      avg)"
      ],
      "execution_count": null,
      "outputs": []
    },
    {
      "cell_type": "code",
      "metadata": {
        "id": "BQyN7N1TRFeR"
      },
      "source": [
        "#Understanding axis\n",
        "#how .max() behaves by default, with no axis argument, \n",
        "#and how it changes functionality depending on which axis you specify when you do supply an argument:\n",
        "import numpy as np\n",
        "\n",
        "table = np.array([\n",
        "[5, 3, 7, 1],\n",
        "[2, 6, 7 ,9],\n",
        "[1, 1, 1, 1],\n",
        "[4, 3, 2, 0],\n",
        "])\n",
        "\n",
        "print(table.max())\n",
        "\n",
        "#col wise\n",
        "print(table.max(axis=0))\n",
        "#rowwise\n",
        "print(table.max(axis=1))\n"
      ],
      "execution_count": null,
      "outputs": []
    },
    {
      "cell_type": "code",
      "metadata": {
        "id": "74LP-qVARFeR"
      },
      "source": [
        "#Durer's magic square, a best-known and most enigmatic, with magic constant 34.\n",
        "#The number square below has some amazing properties. \n",
        "#If you add up any of the rows, columns, or diagonals, then you’ll get the same number,\n",
        "#That’s also what you’ll get if you add up each of the four quadrants,\n",
        "#the center four squares, the four corner squares,\n",
        "#or the four corner squares of any of the contained 3 × 3 grids. "
      ],
      "execution_count": null,
      "outputs": []
    },
    {
      "cell_type": "code",
      "metadata": {
        "id": "40pB8tEFRFeS"
      },
      "source": [
        "#Inside the for loop, you verify that all the rows and all the columns add up to 34. \n",
        "#After that, using selective indexing, you verify \n",
        "#that each of the quadrants also adds up to 34.\n",
        "import numpy as np\n",
        "\n",
        "square = np.array([\n",
        "[16, 3, 2, 13],\n",
        "[5, 10, 11, 8],\n",
        "[9, 6, 7, 12],\n",
        "[4, 15, 14, 1]\n",
        " ])\n",
        "\n",
        "for i in range(4):\n",
        "    print(square[:,i]==34)\n",
        "    \n",
        "\n",
        "\n",
        "\n",
        "\n",
        "\n",
        "for i in range(4):\n",
        "    print(square[:, i].sum() == 34)\n",
        "    print(square[i, :].sum() == 34)\n",
        "\n",
        "#the first quadrant\n",
        "print( square[:2, :2].sum() == 34)\n",
        "\n",
        "#third quadrant\n",
        "print( square[2:, :2].sum() == 34)\n",
        "\n",
        "#second quadrant\n",
        "print( square[:2, 2:].sum() == 34)\n",
        "\n",
        "#4th quadrant\n",
        "print( square[2:, 2:].sum() == 34)\n"
      ],
      "execution_count": null,
      "outputs": []
    },
    {
      "cell_type": "code",
      "metadata": {
        "id": "sbhi7RwFRFeS"
      },
      "source": [
        "square=np.array([[16,3,2,13],\n",
        "                 [5,10,11,8],\n",
        "                 [9,6,7,12],\n",
        "                 [4,15,14,1]])\n",
        "def magic():\n",
        "    print(\"magic square\")\n",
        "def notmagic():\n",
        "    print(\"not magic square\")\n",
        "for i in range(4):\n",
        "    sq=square.sum(axis=0)\n",
        "    sq1=square.sum(axis=1)\n",
        "    \n",
        "    if sq[i]==34:\n",
        "        if sq1[i]==34:\n",
        "            if (square[0:2,0:2].sum() ==34) and (square[2:,2:].sum() ==34) and (square[2:,0:2].sum()==34) and (square[0:2,2:].sum()  ==34):\n",
        "                 magic()\n",
        "            else:\n",
        "                notmagic()\n",
        "    else:\n",
        "        notmagic()"
      ],
      "execution_count": null,
      "outputs": []
    },
    {
      "cell_type": "code",
      "metadata": {
        "id": "_zZyG-wkRFeT",
        "outputId": "cdc5b90a-1d07-47b4-b5f6-c8793e096c52"
      },
      "source": [
        "import numpy as np\n",
        "square=np.array([[16,3,2,13],\n",
        "                 [5,10,11,8],\n",
        "                 [9,6,7,12],\n",
        "                 [4,15,14,1]])\n",
        "s=square.sum(axis=0)\n",
        "print(s)\n",
        "r=square.sum(axis=1)\n",
        "print(r)\n",
        "d= square[:2,:2].sum()\n",
        "print((d))\n",
        "e= square[2:,2:].sum()\n",
        "print((e))\n",
        "f= square[2:,:2].sum()\n",
        "print((f))\n",
        "g= square[:2,2:].sum()\n",
        "print((g))\n",
        "if  s[i]==r[i] and d==e==f==g:\n",
        "    print(\"it's a magic square\")\n",
        "else:\n",
        "    print(\"it's not a magic square\")"
      ],
      "execution_count": null,
      "outputs": [
        {
          "output_type": "stream",
          "text": [
            "[34 34 34 34]\n",
            "[34 34 34 34]\n",
            "34\n",
            "34\n",
            "34\n",
            "34\n"
          ],
          "name": "stdout"
        },
        {
          "output_type": "error",
          "ename": "NameError",
          "evalue": "name 'i' is not defined",
          "traceback": [
            "\u001b[1;31m---------------------------------------------------------------------------\u001b[0m",
            "\u001b[1;31mNameError\u001b[0m                                 Traceback (most recent call last)",
            "\u001b[1;32m<ipython-input-104-1c663ee91322>\u001b[0m in \u001b[0;36m<module>\u001b[1;34m()\u001b[0m\n\u001b[0;32m     16\u001b[0m \u001b[0mg\u001b[0m\u001b[1;33m=\u001b[0m \u001b[0msquare\u001b[0m\u001b[1;33m[\u001b[0m\u001b[1;33m:\u001b[0m\u001b[1;36m2\u001b[0m\u001b[1;33m,\u001b[0m\u001b[1;36m2\u001b[0m\u001b[1;33m:\u001b[0m\u001b[1;33m]\u001b[0m\u001b[1;33m.\u001b[0m\u001b[0msum\u001b[0m\u001b[1;33m(\u001b[0m\u001b[1;33m)\u001b[0m\u001b[1;33m\u001b[0m\u001b[0m\n\u001b[0;32m     17\u001b[0m \u001b[0mprint\u001b[0m\u001b[1;33m(\u001b[0m\u001b[1;33m(\u001b[0m\u001b[0mg\u001b[0m\u001b[1;33m)\u001b[0m\u001b[1;33m)\u001b[0m\u001b[1;33m\u001b[0m\u001b[0m\n\u001b[1;32m---> 18\u001b[1;33m \u001b[1;32mif\u001b[0m  \u001b[0ms\u001b[0m\u001b[1;33m[\u001b[0m\u001b[0mi\u001b[0m\u001b[1;33m]\u001b[0m\u001b[1;33m==\u001b[0m\u001b[0mr\u001b[0m\u001b[1;33m[\u001b[0m\u001b[0mi\u001b[0m\u001b[1;33m]\u001b[0m \u001b[1;32mand\u001b[0m \u001b[0md\u001b[0m\u001b[1;33m==\u001b[0m\u001b[0me\u001b[0m\u001b[1;33m==\u001b[0m\u001b[0mf\u001b[0m\u001b[1;33m==\u001b[0m\u001b[0mg\u001b[0m\u001b[1;33m:\u001b[0m\u001b[1;33m\u001b[0m\u001b[0m\n\u001b[0m\u001b[0;32m     19\u001b[0m     \u001b[0mprint\u001b[0m\u001b[1;33m(\u001b[0m\u001b[1;34m\"it's a magic square\"\u001b[0m\u001b[1;33m)\u001b[0m\u001b[1;33m\u001b[0m\u001b[0m\n\u001b[0;32m     20\u001b[0m \u001b[1;32melse\u001b[0m\u001b[1;33m:\u001b[0m\u001b[1;33m\u001b[0m\u001b[0m\n",
            "\u001b[1;31mNameError\u001b[0m: name 'i' is not defined"
          ]
        }
      ]
    },
    {
      "cell_type": "code",
      "metadata": {
        "id": "trGENy9ORFeU",
        "outputId": "94afc44d-3588-4768-d86e-aadf92f2403f"
      },
      "source": [
        "square=np.array([\n",
        "[16,3,2,13],\n",
        "[5,10,11,8],\n",
        "[9,6,7,12],\n",
        "[4,15,14,1],                \n",
        "])\n",
        "for i in range(4):\n",
        "  sum_row=square[i,:].sum()\n",
        "  print(\"row\",sum_row.sum())\n",
        "for i in range(4):\n",
        "  col_row=square[i,:].sum()\n",
        "  print(\"column\",col_row.sum())\n",
        "first_quad=print(square[0:2,0:2].sum())\n",
        "second_quad=print(square[0:2,2:4].sum())\n",
        "third_quad=print(square[2:4,0:2].sum())\n",
        "four_quad=print(square[2:4,2:4].sum())\n",
        "if(first_quad == second_quad ==third_quad ==four_quad):\n",
        "  print(\"its a magic square\")\n",
        "else:\n",
        "  print(\"not a magic square\")\n"
      ],
      "execution_count": null,
      "outputs": [
        {
          "output_type": "stream",
          "text": [
            "row 34\n",
            "row 34\n",
            "row 34\n",
            "row 34\n",
            "column 34\n",
            "column 34\n",
            "column 34\n",
            "column 34\n",
            "34\n",
            "34\n",
            "34\n",
            "34\n",
            "its a magic square\n"
          ],
          "name": "stdout"
        }
      ]
    },
    {
      "cell_type": "code",
      "metadata": {
        "id": "k9_cOenlRFeV",
        "outputId": "c723bc50-7770-4009-8ab2-12b80d693bcb"
      },
      "source": [
        "import numpy as np\n",
        "durerarr = np.array([[16,3,2,13],\n",
        "                   [5,10,11,8],\n",
        "                    [9,6,7,12],\n",
        "                   [4,15,14,1]])\n",
        "for i in durerarr:\n",
        "    if sum(i) == 34:\n",
        "        r = sum(i)\n",
        "        continue\n",
        "    else:\n",
        "        print(\"no\")\n",
        "        break\n",
        "print(\"All row sum = 34\")\n",
        "print(r)\n",
        "for i in range(4):\n",
        "    if sum(durerarr[:,i]) == 34:\n",
        "        c = sum(durerarr[:,i])\n",
        "        continue\n",
        "    else:\n",
        "        print(\"no\")\n",
        "print(\"All column sum = 34\")\n",
        "print(c)\n",
        "d1 = durerarr[:2,:2]\n",
        "d2 = durerarr[2:,2:]\n",
        "d3 = durerarr[:2,2:]\n",
        "d4 = durerarr[2:,:2]\n",
        "if np.sum(d1) ==34 and np.sum(d2) == 34 and np.sum(d3) and np.sum(d4) == 34 and r ==34 and c ==34:\n",
        "    print(\"it is durer matrix\")\n",
        "else:\n",
        "    print(\"not\")"
      ],
      "execution_count": null,
      "outputs": [
        {
          "output_type": "stream",
          "text": [
            "All row sum = 34\n",
            "34\n",
            "All column sum = 34\n",
            "34\n",
            "it is durer matrix\n"
          ],
          "name": "stdout"
        }
      ]
    },
    {
      "cell_type": "markdown",
      "metadata": {
        "id": "L2Vxw8rxRFeV"
      },
      "source": [
        "# Indexing"
      ]
    },
    {
      "cell_type": "code",
      "metadata": {
        "id": "vPq_Ey14RFeV"
      },
      "source": [
        "#take the sum of any array to add up all of its elements globally with square.sum(). \n",
        "square.sum()\n"
      ],
      "execution_count": null,
      "outputs": []
    },
    {
      "cell_type": "code",
      "metadata": {
        "id": "1vNpgBbTRFeV"
      },
      "source": [
        "square.sum(axis=1)\n",
        "square.sum(axis=0)\n"
      ],
      "execution_count": null,
      "outputs": []
    },
    {
      "cell_type": "markdown",
      "metadata": {
        "id": "ThnxXn-9RFeW"
      },
      "source": [
        "# Masking and Filtering"
      ]
    },
    {
      "cell_type": "code",
      "metadata": {
        "id": "nGOfJ47KRFeW"
      },
      "source": [
        "#to filter your data based on more complicated nonuniform or nonsequential criteria"
      ],
      "execution_count": null,
      "outputs": []
    },
    {
      "cell_type": "code",
      "metadata": {
        "id": "Ulxx-mJDRFeW"
      },
      "source": [
        "import numpy as np\n",
        "#generates n numbers evenly distributed between a minimum and a maximum, \n",
        "#which is useful for evenly distributed sampling in scientific plotting.\n",
        "#because the space between 5 and 50 doesn’t divide evenly by 24,\n",
        "#the resulting numbers are floating numbers\n",
        "#You specify a dtype of int to force the function to round down and give you whole integers.\n",
        "# -1 signifies that NumPy should just figure out how big that \n",
        "#particular axis needs to be based on the size of the other axes. \n",
        "#In this case, with 24 values and a size of 4 in axis 0, axis 1 ends up\n",
        "#with a size of 6.\n"
      ],
      "execution_count": null,
      "outputs": []
    },
    {
      "cell_type": "code",
      "metadata": {
        "id": "UWzrE3D0RFeW",
        "outputId": "745b4979-9673-49f2-dfaa-aa564360bb35"
      },
      "source": [
        "numbers = np.linspace(5, 50, 24, dtype=int).reshape(4, 6)\n",
        "numbers\n",
        "\n",
        "\n",
        "\n"
      ],
      "execution_count": null,
      "outputs": [
        {
          "output_type": "execute_result",
          "data": {
            "text/plain": [
              "array([[ 5,  6,  8, 10, 12, 14],\n",
              "       [16, 18, 20, 22, 24, 26],\n",
              "       [28, 30, 32, 34, 36, 38],\n",
              "       [40, 42, 44, 46, 48, 50]])"
            ]
          },
          "metadata": {
            "tags": []
          },
          "execution_count": 114
        }
      ]
    },
    {
      "cell_type": "code",
      "metadata": {
        "id": "X3BLwZmrRFeX"
      },
      "source": [
        "#creates the mask by performing a vectorized Boolean computation\n",
        "mask= numbers % 4 == 0"
      ],
      "execution_count": null,
      "outputs": []
    },
    {
      "cell_type": "code",
      "metadata": {
        "id": "4k0dOgxLRFeX",
        "outputId": "f1efde38-3c59-4c9b-f020-0f6a3f131662"
      },
      "source": [
        "numbers[mask]"
      ],
      "execution_count": null,
      "outputs": [
        {
          "output_type": "execute_result",
          "data": {
            "text/plain": [
              "array([ 8, 12, 16, 20, 24, 28, 32, 36, 40, 44, 48])"
            ]
          },
          "metadata": {
            "tags": []
          },
          "execution_count": 119
        }
      ]
    },
    {
      "cell_type": "code",
      "metadata": {
        "id": "Sxr5S1DaRFeX",
        "outputId": "8d889636-3f86-42bd-8411-7f028dfbf9d5"
      },
      "source": [
        "#uses this mask to index into the original numbers array. \n",
        "#This causes the array to lose its original shape, reducing it to one dimension \n",
        "numbers[mask]"
      ],
      "execution_count": null,
      "outputs": [
        {
          "output_type": "execute_result",
          "data": {
            "text/plain": [
              "array([ 8, 12, 16, 20, 24, 28, 32, 36, 40, 44, 48])"
            ]
          },
          "metadata": {
            "tags": []
          },
          "execution_count": 54
        }
      ]
    },
    {
      "cell_type": "code",
      "metadata": {
        "id": "bC6SgDx6RFeY"
      },
      "source": [
        "by_four = numbers[numbers % 4 == 0]"
      ],
      "execution_count": null,
      "outputs": []
    },
    {
      "cell_type": "code",
      "metadata": {
        "id": "eZA_RyP4RFeY",
        "outputId": "cbf1d07f-1115-4958-fe2b-8b1da39f5e2b"
      },
      "source": [
        "# an anonymous filtering array created inline, inside the selection brackets.\n",
        "by_four"
      ],
      "execution_count": null,
      "outputs": [
        {
          "output_type": "execute_result",
          "data": {
            "text/plain": [
              "array([ 8, 12, 16, 20, 24, 28, 32, 36, 40, 44, 48])"
            ]
          },
          "metadata": {
            "tags": []
          },
          "execution_count": 56
        }
      ]
    },
    {
      "cell_type": "code",
      "metadata": {
        "id": "BNH_52o0RFeY"
      },
      "source": [
        "#Example : The normal distribution is a probability distribution in which \n",
        "#roughly 95.45% of values occur  within two standard deviations of the mean.\n",
        "\n",
        "#import numpy as np\n",
        "\n",
        "#from numpy.random import default_rng\n",
        "\n",
        "#rng = default_rng()\n",
        "\n",
        "#values = rng.standard_normal(10000)\n",
        "\n",
        "#values[:5]\n",
        "\n"
      ],
      "execution_count": null,
      "outputs": []
    },
    {
      "cell_type": "code",
      "metadata": {
        "id": "MqB1X4CaRFeY"
      },
      "source": [
        "#strange-looking syntax to combine filter conditions: a binary & operator. \n",
        "#Why would that be the case? It’s because NumPy designates & and | as the vectorized, \n",
        "#element-wise operators to combine Booleans. If you try to do A and B, then you’ll get \n",
        "#a warning about how the truth value for an array is weird, \n",
        "#because the and is operating on the truth value of the whole array, not element by element."
      ],
      "execution_count": null,
      "outputs": []
    },
    {
      "cell_type": "markdown",
      "metadata": {
        "id": "2YYBQTEmRFeZ"
      },
      "source": [
        "# Transposing, Sorting, and Concatenating"
      ]
    },
    {
      "cell_type": "code",
      "metadata": {
        "id": "JRfp8WhnRFeZ",
        "outputId": "8a0c17c8-7cf6-4803-f0d0-9869bc231a17"
      },
      "source": [
        "#When you calculate the transpose of an array, the row and column \n",
        "#indices of every element are switched.\n",
        "\n",
        "import numpy as np\n",
        "\n",
        "a = np.array([\n",
        "    [1, 2],\n",
        "    [3, 4],\n",
        "    [5, 6],\n",
        "])\n",
        "\n",
        "a.T\n"
      ],
      "execution_count": null,
      "outputs": [
        {
          "output_type": "execute_result",
          "data": {
            "text/plain": [
              "array([[1, 3, 5],\n",
              "       [2, 4, 6]])"
            ]
          },
          "metadata": {
            "tags": []
          },
          "execution_count": 120
        }
      ]
    },
    {
      "cell_type": "code",
      "metadata": {
        "id": "bWjNRdexRFeZ"
      },
      "source": [
        "a.transpose()"
      ],
      "execution_count": null,
      "outputs": []
    },
    {
      "cell_type": "markdown",
      "metadata": {
        "id": "IJgb6eeZRFea"
      },
      "source": [
        "# Sorting"
      ]
    },
    {
      "cell_type": "code",
      "metadata": {
        "id": "i23Y1bUGRFea",
        "outputId": "70f266f5-d294-4530-8b3f-629cce87b80c"
      },
      "source": [
        "# importing libraries \n",
        "import numpy as np \n",
        "  \n",
        "# sort along the first axis (col wise)\n",
        "a = np.array([[12, 15], \n",
        "              [10, 1]]) \n",
        "arr1 = np.sort(a, axis = 0)         \n",
        "print (\"Along first axis : \\n\", arr1)         \n",
        "    \n",
        "# sort along the last axis  (row wise)\n",
        "a = np.array([[10, 15], \n",
        "              [12, 1]]) \n",
        "arr2 = np.sort(a, axis = -1)         \n",
        "print (\"\\nAlong last axis : \\n\", arr2) \n",
        "   \n",
        "a = np.array([[12, 15], \n",
        "              [10, 1]]) \n",
        "#None flattens the array and performs a global sort.\n",
        "arr1 = np.sort(a, axis = None)         \n",
        "print (\"\\nAlong none axis : \\n\", arr1) \n",
        "\n",
        "np.array([[12, 15], \n",
        "        [10, 1]]) "
      ],
      "execution_count": null,
      "outputs": [
        {
          "output_type": "stream",
          "text": [
            "Along first axis : \n",
            " [[10  1]\n",
            " [12 15]]\n",
            "\n",
            "Along last axis : \n",
            " [[10 15]\n",
            " [ 1 12]]\n",
            "\n",
            "Along none axis : \n",
            " [ 1 10 12 15]\n"
          ],
          "name": "stdout"
        },
        {
          "output_type": "execute_result",
          "data": {
            "text/plain": [
              "array([[12, 15],\n",
              "       [10,  1]])"
            ]
          },
          "metadata": {
            "tags": []
          },
          "execution_count": 155
        }
      ]
    },
    {
      "cell_type": "code",
      "metadata": {
        "id": "9BSNzorwRFeb"
      },
      "source": [
        "np.sort?"
      ],
      "execution_count": null,
      "outputs": []
    },
    {
      "cell_type": "code",
      "metadata": {
        "id": "6QhfAScvRFeb",
        "outputId": "f78ffa1b-c1f9-4b12-c917-561af9694986"
      },
      "source": [
        "#Omitting the axis argument automatically selects the last and\n",
        "#innermost dimension, which is the rows in this example. \n",
        "\n",
        "import numpy as np\n",
        "\n",
        "data = np.array([[7, 1, 4],\n",
        "                 [8, 6, 5],\n",
        "                 [1, 2, 3]])\n",
        "\n",
        "np.sort(data)   #by default row-wise sorting done"
      ],
      "execution_count": null,
      "outputs": [
        {
          "output_type": "execute_result",
          "data": {
            "text/plain": [
              "array([[1, 4, 7],\n",
              "       [5, 6, 8],\n",
              "       [1, 2, 3]])"
            ]
          },
          "metadata": {
            "tags": []
          },
          "execution_count": 60
        }
      ]
    },
    {
      "cell_type": "code",
      "metadata": {
        "id": "TY1NqEF9RFec",
        "outputId": "f0cf3ba3-ba15-46d4-e8b6-b9603553d16d"
      },
      "source": [
        "np.array([[1, 4, 7],\n",
        "          [5, 6, 8],\n",
        "          [1, 2, 3]])\n",
        "\n",
        "np.sort(data, axis=None)\n"
      ],
      "execution_count": null,
      "outputs": [
        {
          "output_type": "execute_result",
          "data": {
            "text/plain": [
              "array([1, 1, 2, 3, 4, 5, 6, 7, 8])"
            ]
          },
          "metadata": {
            "tags": []
          },
          "execution_count": 61
        }
      ]
    },
    {
      "cell_type": "code",
      "metadata": {
        "id": "sFuc9ZHMRFed",
        "outputId": "1a940000-2b61-41fc-f25a-919ac244cae6"
      },
      "source": [
        "np.sort(data, axis=0)\n"
      ],
      "execution_count": null,
      "outputs": [
        {
          "output_type": "execute_result",
          "data": {
            "text/plain": [
              "array([[1, 1, 3],\n",
              "       [7, 2, 4],\n",
              "       [8, 6, 5]])"
            ]
          },
          "metadata": {
            "tags": []
          },
          "execution_count": 62
        }
      ]
    },
    {
      "cell_type": "markdown",
      "metadata": {
        "id": "38SQMhp4RFee"
      },
      "source": [
        "# Concatenation"
      ]
    },
    {
      "cell_type": "code",
      "metadata": {
        "id": "kHb5MCFwRFee",
        "outputId": "4dbbf98c-b500-4ae6-e629-a5ee1f959b9d"
      },
      "source": [
        "#One important stumbling block to note is that all these functions take a \n",
        "#tuple of arrays as their first argument rather than a variable number of\n",
        "#arguments as you might expect. \n",
        "#You can tell because there’s an extra pair of parentheses.\n",
        "a = np.array([\n",
        "               [4, 8],\n",
        "               [6, 1]    \n",
        "              ])       \n",
        "b = np.array([\n",
        "              [3, 5],  \n",
        "              [7, 2],\n",
        "            [3,4]\n",
        "              \n",
        "             ])\n",
        "\n",
        "np.vstack((a, b))  #axis 1\n"
      ],
      "execution_count": null,
      "outputs": [
        {
          "output_type": "execute_result",
          "data": {
            "text/plain": [
              "array([[4, 8],\n",
              "       [6, 1],\n",
              "       [3, 5],\n",
              "       [7, 2],\n",
              "       [3, 4]])"
            ]
          },
          "metadata": {
            "tags": []
          },
          "execution_count": 162
        }
      ]
    },
    {
      "cell_type": "code",
      "metadata": {
        "id": "UsU28Zw1RFee",
        "outputId": "ee796682-5763-49c6-d19b-0e041b5ab0a5"
      },
      "source": [
        "a= np.array([\n",
        "               [4, 8],\n",
        "               [6, 1]\n",
        "              ])\n",
        "\n",
        "b = np.array([\n",
        "              [3, 5],\n",
        "              [7, 2]\n",
        "             ])\n",
        "np.concatenate((a, b))\n",
        "\n"
      ],
      "execution_count": null,
      "outputs": [
        {
          "output_type": "execute_result",
          "data": {
            "text/plain": [
              "array([[4, 8],\n",
              "       [6, 1],\n",
              "       [3, 5],\n",
              "       [7, 2]])"
            ]
          },
          "metadata": {
            "tags": []
          },
          "execution_count": 143
        }
      ]
    },
    {
      "cell_type": "code",
      "metadata": {
        "id": "_aOhhOJXRFef",
        "outputId": "548b0bcd-b4cf-45d1-f92e-8338d3259c35"
      },
      "source": [
        "np.vstack((a, b))"
      ],
      "execution_count": null,
      "outputs": [
        {
          "output_type": "execute_result",
          "data": {
            "text/plain": [
              "array([[4, 8],\n",
              "       [6, 1],\n",
              "       [3, 5],\n",
              "       [7, 2]])"
            ]
          },
          "metadata": {
            "tags": []
          },
          "execution_count": 81
        }
      ]
    },
    {
      "cell_type": "code",
      "metadata": {
        "id": "gFr0_P79RFef",
        "outputId": "6aeab15d-003c-4ced-ce46-d26870dde38e"
      },
      "source": [
        "a= np.array([\n",
        "               [4, 8],\n",
        "               [6, 1]\n",
        "              ])\n",
        "\n",
        "b = np.array([\n",
        "              [3, 5],\n",
        "              [7, 2]\n",
        "             ])\n",
        "np.concatenate((a, b), axis=None)"
      ],
      "execution_count": null,
      "outputs": [
        {
          "output_type": "execute_result",
          "data": {
            "text/plain": [
              "array([4, 8, 6, 1, 3, 5, 7, 2])"
            ]
          },
          "metadata": {
            "tags": []
          },
          "execution_count": 72
        }
      ]
    },
    {
      "cell_type": "code",
      "metadata": {
        "id": "VgQyfvU9RFeg",
        "outputId": "74b7fd87-5ee4-427e-c166-ce86853ad5a5"
      },
      "source": [
        "\n"
      ],
      "execution_count": null,
      "outputs": [
        {
          "output_type": "execute_result",
          "data": {
            "text/plain": [
              "array([[3, 5],\n",
              "       [7, 2],\n",
              "       [4, 8],\n",
              "       [6, 1]])"
            ]
          },
          "metadata": {
            "tags": []
          },
          "execution_count": 77
        }
      ]
    },
    {
      "cell_type": "code",
      "metadata": {
        "id": "ioSiIagoRFeg"
      },
      "source": [
        "np.concatenate((a, b), axis=None)"
      ],
      "execution_count": null,
      "outputs": []
    },
    {
      "cell_type": "code",
      "metadata": {
        "id": "bpQkTga0RFeg"
      },
      "source": [
        "#Implementing a Maclaurin Series which are a way of approximating more complicated \n",
        "#functions with an infinite series of summed terms centered about zero.\n",
        "#Using NumPy allows you to keep closer to a one-to-one representation from equation to code."
      ],
      "execution_count": null,
      "outputs": []
    },
    {
      "cell_type": "code",
      "metadata": {
        "id": "dXe3pGhmRFeg"
      },
      "source": [
        "You add up terms starting at zero and going theoretically to infinity. \n",
        "Each nth term will be x raised to n\n",
        "and divided by n!, which is the notation for the factorial operation."
      ],
      "execution_count": null,
      "outputs": []
    },
    {
      "cell_type": "code",
      "metadata": {
        "id": "J0PlFPwaRFeh"
      },
      "source": [
        "n = np.arange(5)\n",
        "n"
      ],
      "execution_count": null,
      "outputs": []
    },
    {
      "cell_type": "code",
      "metadata": {
        "id": "8OyQLBI_RFeh"
      },
      "source": [
        "from math import e, factorial\n",
        "\n",
        "import numpy as np\n",
        "\n",
        "fac = np.vectorize(factorial)\n",
        "\n",
        "def e_x(x, terms):\n",
        "    \"\"\"Approximates e^x using a given number of terms of\n",
        "    the Maclaurin series\n",
        "    \"\"\"\n",
        "    n = np.arange(terms)\n",
        "    return np.sum((x ** n) / fac(n))\n",
        "\n",
        "#if __name__ == \"__main__\":\n",
        "def pr():\n",
        "    \n",
        "    print(\"Actual:\", e ** 3)  # Using e from the standard library\n",
        "\n",
        "    print(\"N (terms)\\tMaclaurin\\t\\t\\t\\t\\tError\")\n",
        "\n",
        "    for n in range(1, 14):\n",
        "        maclaurin = e_x(3, n)\n",
        "        print(n,\"\\t\\t\",maclaurin,\"\\t\\t\\t\\t\",e**3)\n",
        "        print(f\"{n}\\t\\t{maclaurin:.03f}\\t\\t{e**3 - maclaurin:.03f}\")\n",
        "pr()"
      ],
      "execution_count": null,
      "outputs": []
    },
    {
      "cell_type": "code",
      "metadata": {
        "id": "mefIjCSIRFeh"
      },
      "source": [
        "# NumPy has a special kind of array, called a record array or structured array, \n",
        "#with which you can specify a type and, optionally,a name on a per-column basis"
      ],
      "execution_count": null,
      "outputs": []
    },
    {
      "cell_type": "code",
      "metadata": {
        "id": "LRg6YiYKRFei",
        "outputId": "2293eef7-a256-46a4-a217-37256a932a45"
      },
      "source": [
        "In [1]: import numpy as np\n",
        "\n",
        "data = np.array([\n",
        "(\"joe\", 32, 6),\n",
        "(\"mary\", 15, 20),\n",
        "(\"felipe\", 80, 100),\n",
        "(\"beyonce\", 38, 9001),], dtype=[(\"name\", str, 10), (\"age\", int), (\"power\", int)])\n",
        "\n",
        "data[0]\n"
      ],
      "execution_count": null,
      "outputs": [
        {
          "output_type": "execute_result",
          "data": {
            "text/plain": [
              "('joe', 32, 6)"
            ]
          },
          "metadata": {
            "tags": []
          },
          "execution_count": 133
        }
      ]
    },
    {
      "cell_type": "code",
      "metadata": {
        "id": "OyqV4U_pRFei",
        "outputId": "9862eb45-d53c-4ee4-e780-eb4856b39691"
      },
      "source": [
        "data[\"name\"]\n"
      ],
      "execution_count": null,
      "outputs": [
        {
          "output_type": "execute_result",
          "data": {
            "text/plain": [
              "array(['joe', 'mary', 'felipe', 'beyonce'], dtype='<U10')"
            ]
          },
          "metadata": {
            "tags": []
          },
          "execution_count": 83
        }
      ]
    },
    {
      "cell_type": "code",
      "metadata": {
        "id": "WzHCuNAMRFei",
        "outputId": "32f9d993-674d-40bc-cf66-e5b742ac146c"
      },
      "source": [
        "a=data[data[\"power\"] > 9000][\"name\"]\n",
        "a\n"
      ],
      "execution_count": null,
      "outputs": [
        {
          "output_type": "execute_result",
          "data": {
            "text/plain": [
              "array(['beyonce'], dtype='<U10')"
            ]
          },
          "metadata": {
            "tags": []
          },
          "execution_count": 134
        }
      ]
    },
    {
      "cell_type": "code",
      "metadata": {
        "id": "_y2Amb1HRFej",
        "outputId": "cd31eb20-c905-4689-8223-1d11a912f28b"
      },
      "source": [
        "data[data[\"age\"] > 20]"
      ],
      "execution_count": null,
      "outputs": [
        {
          "output_type": "execute_result",
          "data": {
            "text/plain": [
              "array([('joe', 32,    6), ('felipe', 80,  100), ('beyonce', 38, 9001)],\n",
              "      dtype=[('name', '<U10'), ('age', '<i4'), ('power', '<i4')])"
            ]
          },
          "metadata": {
            "tags": []
          },
          "execution_count": 87
        }
      ]
    },
    {
      "cell_type": "code",
      "metadata": {
        "id": "CbtvH8QkRFej",
        "outputId": "59ba68ed-b649-4ad0-ae42-fb2ff827a063"
      },
      "source": [
        "np.sort(data[data[\"age\"] > 20], order=\"power\")[\"name\"]"
      ],
      "execution_count": null,
      "outputs": [
        {
          "output_type": "execute_result",
          "data": {
            "text/plain": [
              "array(['joe', 'felipe', 'beyonce'], dtype='<U10')"
            ]
          },
          "metadata": {
            "tags": []
          },
          "execution_count": 88
        }
      ]
    },
    {
      "cell_type": "code",
      "metadata": {
        "id": "Vmx8KGWSRFej",
        "outputId": "fffe6cf5-e7cd-4fbf-9d0f-464e46cc412f"
      },
      "source": [
        "\n",
        "i16 = np.dtype(np.int16)\n",
        "print(i16)\n",
        "\n",
        "lst = [ [3.4, 8.7, 9.9], \n",
        "        [1.1, -7.8, -0.7],\n",
        "        [4.1, 12.3, 4.8] ]\n",
        "\n",
        "A = np.array(lst, dtype=i16)\n",
        "A"
      ],
      "execution_count": null,
      "outputs": [
        {
          "output_type": "stream",
          "text": [
            "int16\n"
          ],
          "name": "stdout"
        },
        {
          "output_type": "execute_result",
          "data": {
            "text/plain": [
              "array([[ 3,  8,  9],\n",
              "       [ 1, -7,  0],\n",
              "       [ 4, 12,  4]], dtype=int16)"
            ]
          },
          "metadata": {
            "tags": []
          },
          "execution_count": 89
        }
      ]
    },
    {
      "cell_type": "code",
      "metadata": {
        "id": "wrlaRtvNRFek",
        "outputId": "7392482c-a365-4687-fe3f-d06f2f35107d"
      },
      "source": [
        "\n",
        "arr=np.array([[14, 17, 12, 33, 44],\n",
        "              [15, 6, 27, 8, 19],\n",
        "              [23, 2, 54, 1, 4]])\n",
        "print(\"\\nSum of arr : \", np.sum(arr))\n",
        "print(\"Sum of arr(uint8) : \", np.sum(arr, dtype = np.uint8))\n",
        "print(\"Sum of arr(float32) : \", np.sum(arr, dtype = np.float32))\n",
        "print (\"\\nIs np.sum(arr).dtype == np.uint : \",\n",
        "       np.sum(arr).dtype == np.uint)"
      ],
      "execution_count": null,
      "outputs": [
        {
          "output_type": "stream",
          "text": [
            "\n",
            "Sum of arr :  279\n",
            "Sum of arr(uint8) :  23\n",
            "Sum of arr(float32) :  279.0\n",
            "\n",
            "Is np.sum(arr).dtype == np.uint :  False\n"
          ],
          "name": "stdout"
        }
      ]
    },
    {
      "cell_type": "code",
      "metadata": {
        "id": "WmkRmD1mRFek",
        "outputId": "ff1bb207-609c-4217-abdc-b9e9bea2efe0"
      },
      "source": [
        "new=np.empty([3])\n",
        "print(\"\\nSum of arr : \", np.sum(arr))\n",
        "print(\"Sum of arr(axis = 0) : \", np.sum(arr, axis = 0))\n",
        "print(\"Sum of arr(axis = 1) : \", np.sum(arr, axis = 1,out=new))\n",
        "print(\"new is\", new)\n",
        "print(\"\\nSum of arr (keepdimension is True): \\n\",\n",
        "      np.sum(arr, axis = 1, keepdims = True)) \n",
        "print(\"new is \", new)"
      ],
      "execution_count": null,
      "outputs": [
        {
          "output_type": "stream",
          "text": [
            "\n",
            "Sum of arr :  279\n",
            "Sum of arr(axis = 0) :  [52 25 93 42 67]\n",
            "Sum of arr(axis = 1) :  [120.  75.  84.]\n",
            "out is [120.  75.  84.]\n",
            "\n",
            "Sum of arr (keepdimension is True): \n",
            " [[120]\n",
            " [ 75]\n",
            " [ 84]]\n",
            "new is  [120.  75.  84.]\n"
          ],
          "name": "stdout"
        }
      ]
    },
    {
      "cell_type": "code",
      "metadata": {
        "id": "prwCU4HORFel"
      },
      "source": [
        "a = np.array([[1, 2], [3, 4]])\n",
        "print(a)\n",
        "print()\n",
        "b = np.array([[5, 6]])\n",
        "print(b)\n",
        "print()\n",
        "arr=np.concatenate((a, b), axis=0)\n",
        "print(arr)\n",
        "arr1=np.concatenate((a,b.T), axis=1)\n",
        "print(arr1)\n",
        "arr2=np.concatenate((a, b), axis=None)\n",
        "print(arr2)"
      ],
      "execution_count": null,
      "outputs": []
    },
    {
      "cell_type": "code",
      "metadata": {
        "id": "yOk_XlBlRFel",
        "outputId": "753d77a0-f298-49aa-a55b-33f0f71c97c1"
      },
      "source": [
        "# Python code to demonstrate\n",
        "# adding columns in numpy array\n",
        " \n",
        "import numpy as np\n",
        " \n",
        "ini_array = np.array([[1, 2, 3], [45, 4, 7], [9, 6, 10]])\n",
        " \n",
        "# printing initial array\n",
        "print(\"initial_array : \", str(ini_array));\n",
        " \n",
        "# Array to be added as column\n",
        "column_to_be_added = np.array([[1, 2, 3]])\n",
        " \n",
        "# Adding column to numpy array\n",
        "\n",
        "result=np.hstack((ini_array, column_to_be_added.T))\n",
        "#this will also work\n",
        "#result = np.hstack((ini_array, np.atleast_2d(column_to_be_added).T))\n",
        " \n",
        "# printing result\n",
        "print (\"resultant array\", str(result))"
      ],
      "execution_count": null,
      "outputs": [
        {
          "output_type": "stream",
          "text": [
            "initial_array :  [[ 1  2  3]\n",
            " [45  4  7]\n",
            " [ 9  6 10]]\n",
            "resultant array [[ 1  2  3  1]\n",
            " [45  4  7  2]\n",
            " [ 9  6 10  3]]\n"
          ],
          "name": "stdout"
        }
      ]
    },
    {
      "cell_type": "code",
      "metadata": {
        "id": "fA3HWX1oRFel"
      },
      "source": [
        " \n",
        "import numpy as np\n",
        " \n",
        "ini_array = np.array([[1, 2, 3], [45, 4, 7], [9, 6, 10]])\n",
        " \n",
        "# printing initial array\n",
        "print(\"initial_array : \", str(ini_array));\n",
        " \n",
        "# Array to be added as column\n",
        "column_to_be_added = np.array([1, 2, 3])\n",
        " \n",
        "# Adding column to numpy array\n",
        "result = np.column_stack((ini_array, column_to_be_added))\n",
        " \n",
        "# printing result\n",
        "print (\"resultant array\", str(result))"
      ],
      "execution_count": null,
      "outputs": []
    },
    {
      "cell_type": "code",
      "metadata": {
        "id": "2kgR7j8jRFem"
      },
      "source": [
        "#python code to demonstrate\n",
        "# adding rows in numpy array\n",
        " \n",
        "import numpy as np\n",
        " \n",
        "ini_array = np.array([[1, 2, 3], [45, 4, 7], [9, 6, 10]])\n",
        " \n",
        "# printing initial array\n",
        "print(\"initial_array : \", str(ini_array));\n",
        " \n",
        "# Array to be added as row\n",
        "row_to_be_added = np.array([1, 2, 3])\n",
        " \n",
        "# Adding row to numpy array\n",
        "result = np.vstack ((ini_array, row_to_be_added) )\n",
        "print(row_to_be_added.shape) \n",
        "print(ini_array.shape) \n",
        "# printing result\n",
        "print (\"resultant array\", str(result))"
      ],
      "execution_count": null,
      "outputs": []
    },
    {
      "cell_type": "code",
      "metadata": {
        "id": "fA3MR4cHRFem"
      },
      "source": [
        "#5 by 4 array\n",
        "n=5\n",
        "k=4\n",
        "a=np.zeros([n,k])\n",
        "print(a)\n",
        "for i in range(n):\n",
        "    for j in range(k):\n",
        "        a[i][j]=i+2*j\n",
        "\n",
        "        \n",
        "#rowwise colwise sum to be added\n",
        "#This adds the row\n",
        "a=np.append(a,[np.sum(a,axis=0)],axis=0)\n",
        "#This calculates the column\n",
        "col=np.array([np.sum(a,axis=1)])\n",
        "print(\"shape is \",col.shape)\n",
        "#Finally we add the column\n",
        "a=np.concatenate((a,col.T),axis=1)\n",
        "print(a)"
      ],
      "execution_count": null,
      "outputs": []
    },
    {
      "cell_type": "code",
      "metadata": {
        "id": "joJ4ox14RFem"
      },
      "source": [
        "#add a row wise sum list  in array\n",
        "a=np.array([[0,1,2,3,4,5],\n",
        "            [10,11,12,13,14,15],\n",
        "            [20,21,22,23,24,25],\n",
        "            [30,31,32,33,34,35],\n",
        "            [40,41,42,43,44,45],\n",
        "            [50,51,52,53,54,55]])\n",
        "x=a.sum(0)\n",
        "print(x)\n",
        "x=np.array(x)\n",
        "print(x)\n",
        "print(x.shape)\n",
        "print(a.shape)\n",
        "#a=np.append(a,np.array(x),axis=1)\n",
        "r=np.vstack((a,x))\n",
        "r\n"
      ],
      "execution_count": null,
      "outputs": []
    },
    {
      "cell_type": "code",
      "metadata": {
        "id": "KnMMkfzJRFen"
      },
      "source": [
        "import numpy as np\n",
        "\n",
        "np.random.randint\n",
        "values = np.random.randint(lower_limit, upper_limit, 10)\n",
        "values"
      ],
      "execution_count": null,
      "outputs": []
    },
    {
      "cell_type": "code",
      "metadata": {
        "id": "tEzwM1pCRFen",
        "outputId": "225e0ab2-35dd-4457-dc96-e62c3cb832ed"
      },
      "source": [
        "import numpy as np\n",
        "\n",
        "np.random.seed(0)\n",
        "values= np.random.randint( 2, 200, 10)\n",
        "values\n",
        "\n",
        "\n",
        "\n",
        "\n",
        "#testing\n",
        "#16, 124,  30, 118, 173, 161, 113, 111,  30,  18]"
      ],
      "execution_count": null,
      "outputs": [
        {
          "output_type": "execute_result",
          "data": {
            "text/plain": [
              "array([174,  49, 119, 194,  69, 197, 105,  11,  23,  38])"
            ]
          },
          "metadata": {
            "tags": []
          },
          "execution_count": 3
        }
      ]
    },
    {
      "cell_type": "code",
      "metadata": {
        "id": "FEk-tEKbRFen"
      },
      "source": [
        "[0.34160221, 0.54234533, 0.11764301, 0.27429481],\n",
        "       [0.30989172, 0.46409958, 0.13890834, 0.89365142],\n",
        "       [0.18555531, 0.10564703, 0.19165216, 0.66152945]])\n",
        "       \n",
        "[[0.94381578, 0.83445753, 0.62749374, 0.54733059],\n",
        "       [0.23620659, 0.48376324, 0.96704776, 0.84194961],\n",
        "       [0.29726937, 0.05869515, 0.46087966, 0.68756895]]"
      ],
      "execution_count": null,
      "outputs": []
    },
    {
      "cell_type": "code",
      "metadata": {
        "id": "uS2NZcwARFeo",
        "outputId": "64fbe655-5488-4cb3-f6ab-459ce251d155"
      },
      "source": [
        "import numpy\n",
        "\n",
        "print(\"Creating 8X3 array using numpy.arange\")\n",
        "sampleArray = numpy.arange(10, 34, 1)\n",
        "sampleArray = sampleArray.reshape(8,3)\n",
        "print (sampleArray)\n",
        "\n",
        "print(\"\\nDividing 8X3 array into 4 sub array\\n\")\n",
        "subArrays = numpy.split(sampleArray, 4) \n",
        "print(subArrays)"
      ],
      "execution_count": null,
      "outputs": [
        {
          "output_type": "stream",
          "text": [
            "Creating 8X3 array using numpy.arange\n",
            "[[10 11 12]\n",
            " [13 14 15]\n",
            " [16 17 18]\n",
            " [19 20 21]\n",
            " [22 23 24]\n",
            " [25 26 27]\n",
            " [28 29 30]\n",
            " [31 32 33]]\n",
            "\n",
            "Dividing 8X3 array into 4 sub array\n",
            "\n",
            "[array([[10, 11, 12],\n",
            "       [13, 14, 15]]), array([[16, 17, 18],\n",
            "       [19, 20, 21]]), array([[22, 23, 24],\n",
            "       [25, 26, 27]]), array([[28, 29, 30],\n",
            "       [31, 32, 33]])]\n"
          ],
          "name": "stdout"
        }
      ]
    },
    {
      "cell_type": "code",
      "metadata": {
        "id": "CoD2g6KnRFeo"
      },
      "source": [
        ""
      ],
      "execution_count": null,
      "outputs": []
    },
    {
      "cell_type": "code",
      "metadata": {
        "id": "4gV9Cjg2RFeo"
      },
      "source": [
        ""
      ],
      "execution_count": null,
      "outputs": []
    },
    {
      "cell_type": "code",
      "metadata": {
        "id": "okqbG6RwRFep"
      },
      "source": [
        ""
      ],
      "execution_count": null,
      "outputs": []
    },
    {
      "cell_type": "code",
      "metadata": {
        "id": "yw9qpJj9RFep"
      },
      "source": [
        ""
      ],
      "execution_count": null,
      "outputs": []
    },
    {
      "cell_type": "code",
      "metadata": {
        "id": "YYihArunRFep"
      },
      "source": [
        "\n"
      ],
      "execution_count": null,
      "outputs": []
    },
    {
      "cell_type": "code",
      "metadata": {
        "id": "lACV4Op8RFep"
      },
      "source": [
        ""
      ],
      "execution_count": null,
      "outputs": []
    },
    {
      "cell_type": "code",
      "metadata": {
        "id": "Rdie-wObRFep",
        "outputId": "adad035a-90c1-407a-c5bb-fae60abc26ca"
      },
      "source": [
        "from PIL import Image\n",
        "import numpy as np\n",
        "\n",
        "im = np.array(Image.open('tiger.jpg'))\n",
        "\n",
        "print(type(im))\n",
        "# <class 'numpy.ndarray'>\n",
        "\n",
        "print(im.dtype)\n",
        "# uint8\n",
        "\n",
        "print(im.shape)\n",
        "# (225, 400, 3)\n",
        "im"
      ],
      "execution_count": null,
      "outputs": [
        {
          "output_type": "stream",
          "text": [
            "<class 'numpy.ndarray'>\n",
            "uint8\n",
            "(183, 275, 3)\n"
          ],
          "name": "stdout"
        },
        {
          "output_type": "execute_result",
          "data": {
            "text/plain": [
              "array([[[226, 206, 173],\n",
              "        [211, 192, 162],\n",
              "        [211, 193, 169],\n",
              "        ...,\n",
              "        [145, 120,  56],\n",
              "        [143, 118,  54],\n",
              "        [140, 115,  51]],\n",
              "\n",
              "       [[199, 179, 146],\n",
              "        [199, 180, 150],\n",
              "        [205, 187, 163],\n",
              "        ...,\n",
              "        [148, 125,  58],\n",
              "        [145, 122,  55],\n",
              "        [142, 119,  52]],\n",
              "\n",
              "       [[166, 146, 113],\n",
              "        [175, 156, 126],\n",
              "        [177, 159, 135],\n",
              "        ...,\n",
              "        [151, 128,  60],\n",
              "        [149, 126,  58],\n",
              "        [146, 123,  55]],\n",
              "\n",
              "       ...,\n",
              "\n",
              "       [[ 95,  72,  56],\n",
              "        [ 86,  63,  49],\n",
              "        [ 74,  51,  37],\n",
              "        ...,\n",
              "        [ 81, 107, 144],\n",
              "        [ 81, 107, 144],\n",
              "        [ 81, 107, 144]],\n",
              "\n",
              "       [[103,  77,  60],\n",
              "        [ 90,  64,  47],\n",
              "        [ 77,  54,  38],\n",
              "        ...,\n",
              "        [ 82, 108, 145],\n",
              "        [ 82, 108, 145],\n",
              "        [ 82, 108, 145]],\n",
              "\n",
              "       [[ 99,  72,  51],\n",
              "        [ 89,  62,  43],\n",
              "        [ 85,  59,  42],\n",
              "        ...,\n",
              "        [ 84, 110, 147],\n",
              "        [ 84, 110, 147],\n",
              "        [ 84, 110, 147]]], dtype=uint8)"
            ]
          },
          "metadata": {
            "tags": []
          },
          "execution_count": 145
        }
      ]
    },
    {
      "cell_type": "code",
      "metadata": {
        "id": "3L4PTTS5RFeq",
        "outputId": "1b18cb5d-45be-4b84-e2c2-a8268e2fb212"
      },
      "source": [
        "im_gray = np.array(Image.open('tiger.jpg').convert('L'))\n",
        "\n",
        "print(im_gray.shape)\n",
        "pil_img_gray = Image.fromarray(im_gray)\n",
        "print(pil_img_gray.mode)\n",
        "# L\n",
        "\n",
        "pil_img_gray.save('tiger_grey.jpg')\n",
        "im_gray"
      ],
      "execution_count": null,
      "outputs": [
        {
          "output_type": "stream",
          "text": [
            "(183, 275)\n",
            "L\n"
          ],
          "name": "stdout"
        },
        {
          "output_type": "execute_result",
          "data": {
            "text/plain": [
              "array([[208, 194, 195, ..., 120, 118, 115],\n",
              "       [181, 182, 189, ..., 124, 121, 118],\n",
              "       [148, 158, 161, ..., 127, 125, 122],\n",
              "       ...,\n",
              "       [ 77,  68,  56, ..., 103, 103, 103],\n",
              "       [ 82,  69,  59, ..., 104, 104, 104],\n",
              "       [ 77,  67,  64, ..., 106, 106, 106]], dtype=uint8)"
            ]
          },
          "metadata": {
            "tags": []
          },
          "execution_count": 149
        }
      ]
    },
    {
      "cell_type": "code",
      "metadata": {
        "id": "k8CBZbxxRFeq",
        "outputId": "69e4fe24-a046-4373-e5bc-1f7820efa00f"
      },
      "source": [
        "from PIL import Image\n",
        "import numpy as np\n",
        "\n",
        "im = np.array(Image.open('butterfly.jpg'))\n",
        "print(im)\n",
        "im_R = im.copy()\n",
        "im_G = im.copy()\n",
        "im_B = im.copy()\n",
        "\n",
        "im_R[:, :, (1, 2)] = 0\n",
        "\n",
        "im_G[:, :, (0, 2)] = 0\n",
        "\n",
        "im_B[:, :, (0, 1)] = 0\n",
        "\n",
        "im_RGB = np.concatenate((im_R, im_G, im_B), axis=0)\n",
        "# im_RGB = np.hstack((im_R, im_G, im_B))\n",
        "# im_RGB = np.c_['1', im_R, im_G, im_B]\n",
        "\n",
        "pil_img = Image.fromarray(im_RGB)\n",
        "pil_img.save('butterfly_concat.jpg')"
      ],
      "execution_count": null,
      "outputs": [
        {
          "output_type": "stream",
          "text": [
            "[[[209 203   0]\n",
            "  [216 201   0]\n",
            "  [223 197   0]\n",
            "  ...\n",
            "  [110 187  31]\n",
            "  [110 187  31]\n",
            "  [110 187  31]]\n",
            "\n",
            " [[219 202   0]\n",
            "  [223 200   0]\n",
            "  [231 198   0]\n",
            "  ...\n",
            "  [110 187  31]\n",
            "  [110 187  31]\n",
            "  [110 187  31]]\n",
            "\n",
            " [[233 201   2]\n",
            "  [236 200   2]\n",
            "  [242 198   1]\n",
            "  ...\n",
            "  [111 188  32]\n",
            "  [111 188  32]\n",
            "  [111 188  32]]\n",
            "\n",
            " ...\n",
            "\n",
            " [[ 82 176  36]\n",
            "  [ 78 172  32]\n",
            "  [ 71 165  25]\n",
            "  ...\n",
            "  [128 210  74]\n",
            "  [127 209  73]\n",
            "  [127 207  72]]\n",
            "\n",
            " [[ 79 176  35]\n",
            "  [ 75 172  31]\n",
            "  [ 68 165  24]\n",
            "  ...\n",
            "  [127 210  76]\n",
            "  [127 209  75]\n",
            "  [125 207  73]]\n",
            "\n",
            " [[ 70 165  23]\n",
            "  [ 70 165  23]\n",
            "  [ 70 165  23]\n",
            "  ...\n",
            "  [125 202  62]\n",
            "  [131 205  84]\n",
            "  [133 205  93]]]\n"
          ],
          "name": "stdout"
        }
      ]
    },
    {
      "cell_type": "code",
      "metadata": {
        "id": "eeflk21lRFer"
      },
      "source": [
        ""
      ],
      "execution_count": null,
      "outputs": []
    },
    {
      "cell_type": "code",
      "metadata": {
        "id": "NOYqXIRWRFer"
      },
      "source": [
        ""
      ],
      "execution_count": null,
      "outputs": []
    }
  ]
}