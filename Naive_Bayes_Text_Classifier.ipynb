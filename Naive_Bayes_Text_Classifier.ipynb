{
  "nbformat": 4,
  "nbformat_minor": 0,
  "metadata": {
    "kernelspec": {
      "display_name": "Python 3",
      "language": "python",
      "name": "python3"
    },
    "language_info": {
      "codemirror_mode": {
        "name": "ipython",
        "version": 3
      },
      "file_extension": ".py",
      "mimetype": "text/x-python",
      "name": "python",
      "nbconvert_exporter": "python",
      "pygments_lexer": "ipython3",
      "version": "3.6.4"
    },
    "colab": {
      "name": "Naive Bayes Text Classifier.ipynb",
      "provenance": []
    }
  },
  "cells": [
    {
      "cell_type": "code",
      "metadata": {
        "id": "ETgCCT7vOLR0",
        "outputId": "fe7570a8-dbb0-4e61-885c-cebcdf0f421e"
      },
      "source": [
        "import numpy as np\n",
        "import matplotlib.pyplot as plt\n",
        "import seaborn as sns\n",
        "from sklearn.datasets import fetch_20newsgroups\n",
        "data=fetch_20newsgroups()\n",
        "data.target_names\n",
        "type(data)"
      ],
      "execution_count": null,
      "outputs": [
        {
          "output_type": "execute_result",
          "data": {
            "text/plain": [
              "sklearn.utils.Bunch"
            ]
          },
          "metadata": {
            "tags": []
          },
          "execution_count": 5
        }
      ]
    },
    {
      "cell_type": "markdown",
      "metadata": {
        "id": "ezaz6RpaOLR3"
      },
      "source": [
        "The 20 newsgroups dataset comprises around 18000 newsgroups posts on 20 topics split in two subsets: one for training (or development) and the other one for testing (or for performance evaluation). The split between the train and test set is based upon a messages posted before and after a specific date."
      ]
    },
    {
      "cell_type": "code",
      "metadata": {
        "id": "drLnpAtdOLR4",
        "outputId": "b0537fda-cadf-48e2-fa84-b892709067c2"
      },
      "source": [
        "data.target_names"
      ],
      "execution_count": null,
      "outputs": [
        {
          "output_type": "execute_result",
          "data": {
            "text/plain": [
              "['alt.atheism',\n",
              " 'comp.graphics',\n",
              " 'comp.os.ms-windows.misc',\n",
              " 'comp.sys.ibm.pc.hardware',\n",
              " 'comp.sys.mac.hardware',\n",
              " 'comp.windows.x',\n",
              " 'misc.forsale',\n",
              " 'rec.autos',\n",
              " 'rec.motorcycles',\n",
              " 'rec.sport.baseball',\n",
              " 'rec.sport.hockey',\n",
              " 'sci.crypt',\n",
              " 'sci.electronics',\n",
              " 'sci.med',\n",
              " 'sci.space',\n",
              " 'soc.religion.christian',\n",
              " 'talk.politics.guns',\n",
              " 'talk.politics.mideast',\n",
              " 'talk.politics.misc',\n",
              " 'talk.religion.misc']"
            ]
          },
          "metadata": {
            "tags": []
          },
          "execution_count": 6
        }
      ]
    },
    {
      "cell_type": "code",
      "metadata": {
        "id": "d9Lp685AOLR4",
        "outputId": "c154531b-6b70-4219-8b40-c1ad01dc88aa"
      },
      "source": [
        "categories = ['alt.atheism',\n",
        " 'comp.graphics',\n",
        " 'comp.os.ms-windows.misc',\n",
        " 'comp.sys.ibm.pc.hardware',\n",
        " 'comp.sys.mac.hardware',\n",
        " 'comp.windows.x',\n",
        " 'misc.forsale',\n",
        " 'rec.autos',\n",
        " 'rec.motorcycles',\n",
        " 'rec.sport.baseball',\n",
        " 'rec.sport.hockey',\n",
        " 'sci.crypt',\n",
        " 'sci.electronics',\n",
        " 'sci.med',\n",
        " 'sci.space',\n",
        " 'soc.religion.christian',\n",
        " 'talk.politics.guns',\n",
        " 'talk.politics.mideast',\n",
        " 'talk.politics.misc',\n",
        " 'talk.religion.misc']\n",
        "train=fetch_20newsgroups(subset='train', categories=categories)\n",
        "test=fetch_20newsgroups(subset='test', categories=categories)\n",
        "#print(train.data[5])\n",
        "print(len(train.data))\n",
        "print(test.target_names)"
      ],
      "execution_count": null,
      "outputs": [
        {
          "output_type": "stream",
          "text": [
            "11314\n",
            "['alt.atheism', 'comp.graphics', 'comp.os.ms-windows.misc', 'comp.sys.ibm.pc.hardware', 'comp.sys.mac.hardware', 'comp.windows.x', 'misc.forsale', 'rec.autos', 'rec.motorcycles', 'rec.sport.baseball', 'rec.sport.hockey', 'sci.crypt', 'sci.electronics', 'sci.med', 'sci.space', 'soc.religion.christian', 'talk.politics.guns', 'talk.politics.mideast', 'talk.politics.misc', 'talk.religion.misc']\n"
          ],
          "name": "stdout"
        }
      ]
    },
    {
      "cell_type": "code",
      "metadata": {
        "id": "A1cm1WoEOLR5"
      },
      "source": [
        "#importing packages\n",
        "from sklearn.feature_extraction.text import TfidfVectorizer\n",
        "#TfidfVectrizer gives weight to diff words in a document\n",
        "from sklearn.naive_bayes import MultinomialNB\n",
        "#takes info from vectorizer and pump into multinomialnb\n",
        "#so it just organising the flow\n",
        "from sklearn.pipeline import make_pipeline\n",
        "\n",
        "#creating a model\n",
        "model=make_pipeline(TfidfVectorizer(),MultinomialNB())\n",
        "#training the model\n",
        "model.fit(train.data, train.target)\n",
        "#train data goes into tfidfvectorizer so it weights 2.4 million tokens...takes words\n",
        "#gives weights and puts into naive bayes\n",
        "#creating lables for the test data\n",
        "labels=model.predict(test.data)\n"
      ],
      "execution_count": null,
      "outputs": []
    },
    {
      "cell_type": "code",
      "metadata": {
        "id": "ya57TTTmOLR6",
        "outputId": "728265c0-67e3-467f-e6ba-5ef5a6fa0932"
      },
      "source": [
        "from sklearn.metrics import confusion_matrix\n",
        "mat= confusion_matrix(test.target, labels)\n",
        "sns.heatmap(mat.T, square=True, annot=True, fmt='d', cbar=False, \n",
        "           xticklabels=train.target_names,yticklabels=train.target_names)\n",
        "#plotting heatmap of confusion matrix\n",
        "plt.xlabel('true label')\n",
        "plt.ylabel(\"predicted label\")"
      ],
      "execution_count": null,
      "outputs": [
        {
          "output_type": "execute_result",
          "data": {
            "text/plain": [
              "Text(91.68,0.5,'predicted label')"
            ]
          },
          "metadata": {
            "tags": []
          },
          "execution_count": 9
        },
        {
          "output_type": "display_data",
          "data": {
            "image/png": "[encoded data removed]",
            "text/plain": [
              "<matplotlib.figure.Figure at 0x1479c5e4390>"
            ]
          },
          "metadata": {
            "tags": []
          }
        }
      ]
    },
    {
      "cell_type": "code",
      "metadata": {
        "id": "spojOhvIOLR6"
      },
      "source": [
        "#predict category on new data based on trained model\n",
        "def predict_category(s,train=train, model=model):\n",
        "    pred=model.predict([s])\n",
        "    return train.target_names[pred[0]]\n"
      ],
      "execution_count": null,
      "outputs": []
    },
    {
      "cell_type": "code",
      "metadata": {
        "id": "v2tSTddXOLR7",
        "outputId": "ee23e658-b167-46a7-e787-fb57ca666fff"
      },
      "source": [
        "predict_category('jesus christ')"
      ],
      "execution_count": null,
      "outputs": [
        {
          "output_type": "execute_result",
          "data": {
            "text/plain": [
              "'soc.religion.christian'"
            ]
          },
          "metadata": {
            "tags": []
          },
          "execution_count": 37
        }
      ]
    },
    {
      "cell_type": "code",
      "metadata": {
        "id": "jtOrZ1ocOLR7",
        "outputId": "eb1f1cd3-2fdb-488b-a6e8-416a76a843bf"
      },
      "source": [
        "predict_category('Sending to space station')"
      ],
      "execution_count": null,
      "outputs": [
        {
          "output_type": "execute_result",
          "data": {
            "text/plain": [
              "'sci.space'"
            ]
          },
          "metadata": {
            "tags": []
          },
          "execution_count": 35
        }
      ]
    },
    {
      "cell_type": "code",
      "metadata": {
        "id": "dQoNnsLoOLR8",
        "outputId": "0960ad0f-2483-4578-b13b-227a40b1f788"
      },
      "source": [
        "predict_Category(\"bmw audi\")"
      ],
      "execution_count": null,
      "outputs": [
        {
          "output_type": "execute_result",
          "data": {
            "text/plain": [
              "'rec.autos'"
            ]
          },
          "metadata": {
            "tags": []
          },
          "execution_count": 45
        }
      ]
    },
    {
      "cell_type": "code",
      "metadata": {
        "id": "j_bwwICrOLR8",
        "outputId": "70db0c9c-8597-4b09-f532-1fb8bf5f9668"
      },
      "source": [
        "predict_category(\"president of india is flag hoisting\")"
      ],
      "execution_count": null,
      "outputs": [
        {
          "output_type": "execute_result",
          "data": {
            "text/plain": [
              "'talk.politics.mideast'"
            ]
          },
          "metadata": {
            "tags": []
          },
          "execution_count": 44
        }
      ]
    },
    {
      "cell_type": "code",
      "metadata": {
        "id": "nkshJpIxOLR9"
      },
      "source": [
        "b=MultinomialNB()\n"
      ],
      "execution_count": null,
      "outputs": []
    },
    {
      "cell_type": "code",
      "metadata": {
        "id": "2g2_nKoKOLR9",
        "outputId": "6c1385f0-c847-45f8-98f2-2248e835b053"
      },
      "source": [
        "b"
      ],
      "execution_count": null,
      "outputs": [
        {
          "output_type": "execute_result",
          "data": {
            "text/plain": [
              "MultinomialNB(alpha=1.0, class_prior=None, fit_prior=True)"
            ]
          },
          "metadata": {
            "tags": []
          },
          "execution_count": 23
        }
      ]
    },
    {
      "cell_type": "code",
      "metadata": {
        "id": "RJKcyowHOLR-"
      },
      "source": [
        "#goto TFIDF folder for checking these functions at root level"
      ],
      "execution_count": null,
      "outputs": []
    },
    {
      "cell_type": "markdown",
      "metadata": {
        "id": "Tt4Tyl4JOLR-"
      },
      "source": [
        "OR try Converting text to vectors. In order to feed predictive or clustering models with the text data, one first need to turn the text into vectors of numerical values suitable for statistical analysis."
      ]
    },
    {
      "cell_type": "markdown",
      "metadata": {
        "id": "N8puVZFEOLR_"
      },
      "source": [
        " sklearn.feature_extraction.text extracts TF-IDF vectors of unigram tokens\n",
        "from a subset of 20news:"
      ]
    },
    {
      "cell_type": "code",
      "metadata": {
        "id": "POdeuFAtOLR_",
        "outputId": "a42f189f-0458-4092-f188-69454673000e"
      },
      "source": [
        "from sklearn.feature_extraction.text import TfidfVectorizer\n",
        "categories = ['alt.atheism', 'talk.religion.misc',\n",
        "               'comp.graphics', 'sci.space']\n",
        "newsgroups_train = fetch_20newsgroups(subset='train',\n",
        "                                       categories=categories)\n",
        "vectorizer = TfidfVectorizer()\n",
        "vectors = vectorizer.fit_transform(newsgroups_train.data)\n",
        "vectors.data"
      ],
      "execution_count": null,
      "outputs": [
        {
          "output_type": "execute_result",
          "data": {
            "text/plain": [
              "array([0.0270301 , 0.32132455, 0.2032566 , ..., 0.10984828, 0.10984828,\n",
              "       0.10984828])"
            ]
          },
          "metadata": {
            "tags": []
          },
          "execution_count": 12
        }
      ]
    },
    {
      "cell_type": "code",
      "metadata": {
        "id": "w_KWEFr_OLR_",
        "outputId": "ae191541-a4c5-41f2-d9eb-7a938ff7e151"
      },
      "source": [
        "vectors.shape"
      ],
      "execution_count": null,
      "outputs": [
        {
          "output_type": "execute_result",
          "data": {
            "text/plain": [
              "(2034, 34118)"
            ]
          },
          "metadata": {
            "tags": []
          },
          "execution_count": 53
        }
      ]
    },
    {
      "cell_type": "markdown",
      "metadata": {
        "id": "2vPx6gHUOLSA"
      },
      "source": [
        "The extracted TF-IDF vectors are very sparse, with an average of 159 non-zero components by sample in a more than 30000-dimensional space (less than .5% non-zero features):"
      ]
    },
    {
      "cell_type": "code",
      "metadata": {
        "id": "7hKOwaZUOLSA",
        "outputId": "3440f524-673c-413a-8ca8-b2027b9ab54c"
      },
      "source": [
        "#nnz is  a property showing no of values stored\n",
        "vectors.nnz / float(vectors.shape[0])\n"
      ],
      "execution_count": null,
      "outputs": [
        {
          "output_type": "execute_result",
          "data": {
            "text/plain": [
              "159.0132743362832"
            ]
          },
          "metadata": {
            "tags": []
          },
          "execution_count": 15
        }
      ]
    },
    {
      "cell_type": "markdown",
      "metadata": {
        "id": "6-LfpNDzOLSB"
      },
      "source": [
        "sklearn.datasets.fetch_20newsgroups_vectorized is a function which returns ready-to-use tfidf features instead of file names.\n"
      ]
    },
    {
      "cell_type": "markdown",
      "metadata": {
        "id": "S2rk-O1-OLSC"
      },
      "source": [
        "#Filtering text for more realistic training\n",
        "It is easy for a classifier to overfit on particular things that appear in the 20 Newsgroups data, such as newsgroup headers. Many classifiers achieve very high F-scores, but their results would not generalize to other documents that aren’t from this window of time."
      ]
    },
    {
      "cell_type": "code",
      "metadata": {
        "id": "7LaSoKQpOLSD",
        "outputId": "247df1db-3472-44c5-9a0a-19c2c9f90134"
      },
      "source": [
        "from sklearn import metrics\n",
        "newsgroups_test = fetch_20newsgroups(subset='test',\n",
        "                                     categories=categories)\n",
        "vectors_test = vectorizer.transform(newsgroups_test.data)\n",
        "clf = MultinomialNB(alpha=.01)\n",
        "clf.fit(vectors, newsgroups_train.target)\n",
        "pred = clf.predict(vectors_test)\n",
        "metrics.f1_score(newsgroups_test.target, pred, average='macro')\n"
      ],
      "execution_count": null,
      "outputs": [
        {
          "output_type": "execute_result",
          "data": {
            "text/plain": [
              "0.8821359240272957"
            ]
          },
          "metadata": {
            "tags": []
          },
          "execution_count": 16
        }
      ]
    },
    {
      "cell_type": "code",
      "metadata": {
        "id": "mXfNF9-lOLSE"
      },
      "source": [
        "#take a look at what the most informative features are:"
      ],
      "execution_count": null,
      "outputs": []
    },
    {
      "cell_type": "code",
      "metadata": {
        "id": "zsrUM-hwOLSE",
        "outputId": "9798d5c6-c122-4e9d-ce25-48df6ea88fad"
      },
      "source": [
        "import numpy as np\n",
        "def show_top10(classifier, vectorizer, categories):\n",
        "    feature_names = np.asarray(vectorizer.get_feature_names())\n",
        "    for i, category in enumerate(categories):\n",
        "            top10 = np.argsort(classifier.coef_[i])[-10:]\n",
        "            print(\"%s: %s\" % (category, \" \".join(feature_names[top10])))\n",
        "\n",
        "show_top10(clf, vectorizer, newsgroups_train.target_names)"
      ],
      "execution_count": null,
      "outputs": [
        {
          "output_type": "stream",
          "text": [
            "alt.atheism: edu it and in you that is of to the\n",
            "comp.graphics: edu in graphics it is for and of to the\n",
            "sci.space: edu it that is in and space to of the\n",
            "talk.religion.misc: not it you in is that and to of the\n"
          ],
          "name": "stdout"
        }
      ]
    },
    {
      "cell_type": "markdown",
      "metadata": {
        "id": "6-Nv_Y-8OLSF"
      },
      "source": [
        "You can now see many things that these features have overfit to:\n",
        "\n",
        "Almost every group is distinguished by whether headers such as NNTP-Posting-Host: and Distribution: appear more or less often.\n",
        "Another significant feature involves whether the sender is affiliated with a university, as indicated either by their headers or their signature.\n",
        "The word “article” is a significant feature, based on how often people quote previous posts like this: “In article [article ID], [name] <[e-mail address]> wrote:”\n",
        "Other features match the names and e-mail addresses of particular people who were posting at the time."
      ]
    },
    {
      "cell_type": "markdown",
      "metadata": {
        "id": "hY1bL5fGOLSF"
      },
      "source": [
        "With such an abundance of clues that distinguish newsgroups, the classifiers barely have to identify topics from text at all, and they all perform at the same high level.\n",
        "\n",
        "For this reason, the functions that load 20 Newsgroups data provide a parameter called remove, telling it what kinds of information to strip out of each file. remove should be a tuple containing any subset of ('headers', 'footers', 'quotes'), telling it to remove headers, signature blocks, and quotation blocks respectively."
      ]
    },
    {
      "cell_type": "code",
      "metadata": {
        "id": "NSc2LX_ZOLSG",
        "outputId": "bc1e5f31-4ab0-4805-ff14-475ac66b7a39"
      },
      "source": [
        "newsgroups_test = fetch_20newsgroups(subset='test',\n",
        "...                                      remove=('headers', 'footers', 'quotes'),\n",
        "...                                      categories=categories)\n",
        "vectors_test = vectorizer.transform(newsgroups_test.data)\n",
        "pred = clf.predict(vectors_test)\n",
        "metrics.f1_score(pred, newsgroups_test.target, average='macro')"
      ],
      "execution_count": null,
      "outputs": [
        {
          "output_type": "execute_result",
          "data": {
            "text/plain": [
              "0.7731035068127478"
            ]
          },
          "metadata": {
            "tags": []
          },
          "execution_count": 63
        }
      ]
    },
    {
      "cell_type": "markdown",
      "metadata": {
        "id": "-xxL4iV7OLSH"
      },
      "source": [
        "This classifier lost over a lot of its F-score, just because we removed metadata that has little to do with topic classification. It loses even more if we also strip this metadata from the training data:"
      ]
    },
    {
      "cell_type": "code",
      "metadata": {
        "id": "X2U8Gn6fOLSH"
      },
      "source": [
        "#The F-score will be lower because it is more realistic."
      ],
      "execution_count": null,
      "outputs": []
    },
    {
      "cell_type": "code",
      "metadata": {
        "id": "6xTYOsw5OLSI"
      },
      "source": [
        "\n"
      ],
      "execution_count": null,
      "outputs": []
    },
    {
      "cell_type": "code",
      "metadata": {
        "id": "u6plVX8jOLSI"
      },
      "source": [
        ""
      ],
      "execution_count": null,
      "outputs": []
    },
    {
      "cell_type": "code",
      "metadata": {
        "id": "m_Z3O-GPOLSI"
      },
      "source": [
        ""
      ],
      "execution_count": null,
      "outputs": []
    }
  ]
}