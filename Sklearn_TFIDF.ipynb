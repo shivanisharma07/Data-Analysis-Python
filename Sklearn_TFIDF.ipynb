{
  "nbformat": 4,
  "nbformat_minor": 0,
  "metadata": {
    "kernelspec": {
      "display_name": "Python 3",
      "language": "python",
      "name": "python3"
    },
    "language_info": {
      "codemirror_mode": {
        "name": "ipython",
        "version": 3
      },
      "file_extension": ".py",
      "mimetype": "text/x-python",
      "name": "python",
      "nbconvert_exporter": "python",
      "pygments_lexer": "ipython3",
      "version": "3.6.4"
    },
    "colab": {
      "name": "Sklearn TFIDF.ipynb",
      "provenance": []
    }
  },
  "cells": [
    {
      "cell_type": "code",
      "metadata": {
        "id": "9BihVNpJPix-"
      },
      "source": [
        "from sklearn.feature_extraction.text import TfidfVectorizer"
      ],
      "execution_count": null,
      "outputs": []
    },
    {
      "cell_type": "code",
      "metadata": {
        "id": "AaWw9xIqPiyE"
      },
      "source": [
        "docA = \"The car is driven on the road\"\n",
        "docB = \"The truck is driven on the highway\" "
      ],
      "execution_count": null,
      "outputs": []
    },
    {
      "cell_type": "code",
      "metadata": {
        "id": "slyhro-HPiyH"
      },
      "source": [
        "tfidf = TfidfVectorizer()"
      ],
      "execution_count": null,
      "outputs": []
    },
    {
      "cell_type": "code",
      "metadata": {
        "id": "XHXEicbsPiyI"
      },
      "source": [
        "response = tfidf.fit_transform([docA, docB])"
      ],
      "execution_count": null,
      "outputs": []
    },
    {
      "cell_type": "code",
      "metadata": {
        "id": "QLaVjEsCPiyK",
        "outputId": "0eba4d1e-9588-4d5e-ebb0-02eeaea11399"
      },
      "source": [
        "feature_names = tfidf.get_feature_names()\n",
        "for col in response.nonzero()[1]:\n",
        "    print (feature_names[col], ' - ', response[0, col])"
      ],
      "execution_count": null,
      "outputs": [
        {
          "output_type": "stream",
          "text": [
            "the  -  0.604379551537\n",
            "car  -  0.42471718587\n",
            "is  -  0.302189775769\n",
            "driven  -  0.302189775769\n",
            "on  -  0.302189775769\n",
            "road  -  0.42471718587\n",
            "the  -  0.604379551537\n",
            "is  -  0.302189775769\n",
            "driven  -  0.302189775769\n",
            "on  -  0.302189775769\n",
            "truck  -  0.0\n",
            "highway  -  0.0\n"
          ],
          "name": "stdout"
        }
      ]
    },
    {
      "cell_type": "code",
      "metadata": {
        "id": "KK66hVJCPiyM",
        "outputId": "0f060b25-3b67-4d56-c3c2-c2e35e5b1077"
      },
      "source": [
        ""
      ],
      "execution_count": null,
      "outputs": [
        {
          "output_type": "stream",
          "text": [
            "  (0, 6)\t0.604379551537\n",
            "  (0, 0)\t0.42471718587\n",
            "  (0, 3)\t0.302189775769\n",
            "  (0, 1)\t0.302189775769\n",
            "  (0, 4)\t0.302189775769\n",
            "  (0, 5)\t0.42471718587\n"
          ],
          "name": "stdout"
        }
      ]
    },
    {
      "cell_type": "code",
      "metadata": {
        "id": "v3xZb2JDPiyM"
      },
      "source": [
        ""
      ],
      "execution_count": null,
      "outputs": []
    }
  ]
}