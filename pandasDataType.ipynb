{
  "nbformat": 4,
  "nbformat_minor": 0,
  "metadata": {
    "kernelspec": {
      "display_name": "Python 3",
      "language": "python",
      "name": "python3"
    },
    "language_info": {
      "codemirror_mode": {
        "name": "ipython",
        "version": 3
      },
      "file_extension": ".py",
      "mimetype": "text/x-python",
      "name": "python",
      "nbconvert_exporter": "python",
      "pygments_lexer": "ipython3",
      "version": "3.6.4"
    },
    "colab": {
      "name": "pandasDataType.ipynb",
      "provenance": []
    }
  },
  "cells": [
    {
      "cell_type": "code",
      "metadata": {
        "id": "gLS0ixS_RiqT"
      },
      "source": [
        "s2 = np.array([[20,30,40,50],[21,31,34,45], [ 56, 67, 78, 99]])\n",
        "s2"
      ],
      "execution_count": null,
      "outputs": []
    },
    {
      "cell_type": "code",
      "metadata": {
        "id": "FJWvWWi8RiqV"
      },
      "source": [
        "import pandas as pd\n",
        "s1 = pd.Series([11,12,13,14.7])\n",
        "s2 = pd.DataFrame([['seema', 98,76,89],['anu',31,34,45],\n",
        "                   [ 'rahul', 67, 78, 99]],\n",
        "                  index=(['name','phy','chem']))\n",
        "\n",
        "\n",
        "s2"
      ],
      "execution_count": null,
      "outputs": []
    },
    {
      "cell_type": "code",
      "metadata": {
        "id": "p4I2eJGJRiqW"
      },
      "source": [
        "s2.iloc[[0,2]]"
      ],
      "execution_count": null,
      "outputs": []
    },
    {
      "cell_type": "code",
      "metadata": {
        "id": "kSM-eJMZRiqX"
      },
      "source": [
        "import pandas as pd\n",
        "ser= pd.Series([1,3,4,5])\n",
        "print(ser)\n"
      ],
      "execution_count": null,
      "outputs": []
    },
    {
      "cell_type": "code",
      "metadata": {
        "id": "XFAC8cG2RiqY"
      },
      "source": [
        "\n",
        "year = pd.Series([2000,300,4500,5000],index=['2016','2017','2018','2019'])\n",
        "print(year)\n",
        "year.loc[['2017', '2018']]"
      ],
      "execution_count": null,
      "outputs": []
    },
    {
      "cell_type": "code",
      "metadata": {
        "id": "EBeIGQkTRiqY"
      },
      "source": [
        "sdata = {'Ohio': 35000, 'Texas': 71000, 'Oregon': 16000, 'Utah': 5000}\n",
        "s1= pd.Series(sdata)\n",
        "\n",
        "s1\n"
      ],
      "execution_count": null,
      "outputs": []
    },
    {
      "cell_type": "code",
      "metadata": {
        "id": "fUhnNxHlRiqZ"
      },
      "source": [
        "pd.isnull(obj4)\n",
        "\n",
        "obj4.isnull"
      ],
      "execution_count": null,
      "outputs": []
    },
    {
      "cell_type": "code",
      "metadata": {
        "id": "6nTceYNLRiqZ"
      },
      "source": [
        "var=input(\"Enter in numbers separated by a comma: \")\n",
        "\n",
        "splitvar= var.split(\" country \")\n",
        "\n",
        "print(splitvar)\n",
        "t=set()\n",
        "\n",
        "for i in splitvar:\n",
        "    t.add(i)\n",
        "    \n",
        "print(t)"
      ],
      "execution_count": null,
      "outputs": []
    },
    {
      "cell_type": "code",
      "metadata": {
        "id": "DAklTZOSRiqa"
      },
      "source": [
        "import pandas as pd\n",
        "pd.read_csv\n",
        "del emp_info\n",
        "\n"
      ],
      "execution_count": null,
      "outputs": []
    },
    {
      "cell_type": "code",
      "metadata": {
        "scrolled": true,
        "id": "74-2EFXLRiqa"
      },
      "source": [
        "import csv\n",
        "import pandas as pd\n",
        "emp_info = pd.read_csv(\"http://rcs.bu.edu/examples/python/data_analysis/Salaries.csv\")\n",
        "emp_info.head(5)\n",
        "#[rows, cols]"
      ],
      "execution_count": null,
      "outputs": []
    },
    {
      "cell_type": "code",
      "metadata": {
        "id": "zZKT0R4oRiqb"
      },
      "source": [
        "emp_info.dtypes"
      ],
      "execution_count": null,
      "outputs": []
    },
    {
      "cell_type": "code",
      "metadata": {
        "id": "tFLYghaFRiqb"
      },
      "source": [
        "emp_info['salary'].sum()\n",
        "newdf = emp_info.loc[3:6, ['discipline', 'salary', 'rank']]\n",
        "\n",
        "\n",
        "emp_info.loc\n",
        "emp_info.iloc   #index"
      ],
      "execution_count": null,
      "outputs": []
    },
    {
      "cell_type": "code",
      "metadata": {
        "id": "xUBdYgx-Riqc"
      },
      "source": [
        "emp_info\n",
        "#make a new column hra  which is 30% of salary \n",
        "#make a new column da which is 10% of salary\n",
        "#pf is 8% of salary +da\n",
        "emp_info['hra'] = 30/100* emp_info['salary']\n",
        "emp_info['da']= 10/100 * emp_info['salary']\n",
        "emp_info['pf']= 8/100 * emp_info['salary']+ emp_info['da']\n",
        "emp_info.loc[1:5, ['service','salary', 'da']]\n",
        "\n"
      ],
      "execution_count": null,
      "outputs": []
    },
    {
      "cell_type": "code",
      "metadata": {
        "id": "8FqTG6kfRiqc"
      },
      "source": [
        "emp_info['hra'].sum()\n",
        "emp_info['da'].sum()\n",
        "emp_info['salary'].sum()"
      ],
      "execution_count": null,
      "outputs": []
    },
    {
      "cell_type": "code",
      "metadata": {
        "id": "7hJ0ZKp_Riqc"
      },
      "source": [
        "emp_info['da']=.30* emp_info['salary']\n",
        "emp_info['pf']=(emp_info['salary'] + emp_info['da']) *.8\n",
        "emp_data = emp_info.loc[60:66,['da','pf','salary' ]]\n",
        "\n",
        "emp_data\n",
        "emp_data.loc[60:63, 'salary']"
      ],
      "execution_count": null,
      "outputs": []
    },
    {
      "cell_type": "code",
      "metadata": {
        "id": "KDor-Sp6Riqd"
      },
      "source": [
        ""
      ],
      "execution_count": null,
      "outputs": []
    },
    {
      "cell_type": "code",
      "metadata": {
        "id": "d7p6mPHXRiqe"
      },
      "source": [
        "data = {'state': ['Ohio', 'Ohio', 'Ohio', 'Nevada', 'Nevada', 'Nevada'],\n",
        "        'year': [2000, 2001, 2002, 2001, 2002, 2003],        'pop': [1.5, 1.7, 3.6, 2.4, 2.9, 3.2]} \n",
        "data\n",
        "\n",
        "frame= pd.DataFrame(data)\n",
        "print(frame)\n",
        "\n",
        "d=frame['year']\n",
        "print(d[3])\n"
      ],
      "execution_count": null,
      "outputs": []
    },
    {
      "cell_type": "code",
      "metadata": {
        "id": "bW6WLrBiRiqe"
      },
      "source": [
        "frame2 = pd.DataFrame(data, columns=['year', 'state', 'pop', 'debt'],                        \n",
        "  index=['one', 'two', 'three', 'four',    'five', 'six'])\n",
        "frame2\n",
        "\n",
        "frame2['debt']=10*frame2['pop']\n",
        "frame2['new']=frame2['pop']/100\n",
        "frame2\n",
        "del frame2['new']\n",
        "frame2"
      ],
      "execution_count": null,
      "outputs": []
    },
    {
      "cell_type": "code",
      "metadata": {
        "id": "2wSqOlZ5Riqf"
      },
      "source": [
        "emp_info = pd.read_csv(\"http://rcs.bu.edu/examples/python/data_analysis/Salaries.csv\")\n",
        "emp_info\n",
        "d=emp_info\n",
        "d.loc[2:5,['service','salary']]\n",
        "\n",
        "x=d.iloc[2:8,3]\n",
        "print([x])\n",
        "type(x)\n",
        "\n",
        "#t\n",
        "\n",
        "#emp_info.dtypes\n",
        "\n",
        "\n",
        "\n",
        "#pandas  ......dataframe  (2d array rows and columns)     series    (vector, 1d array)"
      ],
      "execution_count": null,
      "outputs": []
    },
    {
      "cell_type": "code",
      "metadata": {
        "id": "fT602GA3Riqg"
      },
      "source": [
        "import pandas as pd\n",
        "import numpy as np\n",
        "obj = pd.Series([4, 7, -5, 3])\n",
        "print(obj.values )\n",
        "\n",
        "obj.index  # like range(4) \n",
        "obj2 = pd.Series([4, 7, -5, 3], index=['d', 'b', 'a', 'c'])\n",
        "\n",
        "obj2\n",
        "obj2.index"
      ],
      "execution_count": null,
      "outputs": []
    },
    {
      "cell_type": "code",
      "metadata": {
        "id": "SAaKC9JkRiqg"
      },
      "source": [
        "\n"
      ],
      "execution_count": null,
      "outputs": []
    },
    {
      "cell_type": "code",
      "metadata": {
        "id": "BijFnATqRiqh"
      },
      "source": [
        "sdata = {'Ohio': 35000, 'Texas': 71000, 'Oregon': 16000, 'Utah': 5000}\n",
        "obj3 = pd.Series(sdata)\n",
        "obj3\n",
        "obj4=pd.Series({'California': 'NaN', 'Ohio': 35000, 'Texas': 71000, 'Oregon': 16000})\n",
        "obj3 + obj4 \n",
        "\n"
      ],
      "execution_count": null,
      "outputs": []
    },
    {
      "cell_type": "markdown",
      "metadata": {
        "id": "Bzx-0RA1Riqh"
      },
      "source": [
        "## import pandas as pd1\n",
        "import numpy as np\n",
        "df =pd1.read_csv(\"sales3.csv\")\n",
        "df"
      ]
    },
    {
      "cell_type": "code",
      "metadata": {
        "id": "tmOQUFD-Riqh"
      },
      "source": [
        ""
      ],
      "execution_count": null,
      "outputs": []
    },
    {
      "cell_type": "code",
      "metadata": {
        "id": "UltIftyNRiqi",
        "outputId": "89273f6e-5126-476e-f121-27804adf895b"
      },
      "source": [
        "#pandas has been built over numpy\n",
        "import pandas as pd\n",
        "import numpy as np\n",
        "df =pd.read_csv(\"sales3.csv\",index_col=[\"Customer_Number\",\"Customer_Name\"]) \n",
        "#or write\n",
        "#df.set_index(\"2016\",inplace=True)\n",
        "df\n",
        "\n",
        "#data.set_index([\"First Name\", \"Gender\"], inplace = True,append = True, drop = False)\n",
        "  #the 2016,2017 and percent_growth of cusstomers 10006 to 10008"
      ],
      "execution_count": null,
      "outputs": [
        {
          "output_type": "execute_result",
          "data": {
            "text/html": [
              "<div>\n",
              "<style scoped>\n",
              "    .dataframe tbody tr th:only-of-type {\n",
              "        vertical-align: middle;\n",
              "    }\n",
              "\n",
              "    .dataframe tbody tr th {\n",
              "        vertical-align: top;\n",
              "    }\n",
              "\n",
              "    .dataframe thead th {\n",
              "        text-align: right;\n",
              "    }\n",
              "</style>\n",
              "<table border=\"1\" class=\"dataframe\">\n",
              "  <thead>\n",
              "    <tr style=\"text-align: right;\">\n",
              "      <th></th>\n",
              "      <th></th>\n",
              "      <th>2016</th>\n",
              "      <th>2017</th>\n",
              "      <th>Percent_Growth</th>\n",
              "      <th>Jan_Units</th>\n",
              "      <th>Month</th>\n",
              "      <th>Day</th>\n",
              "      <th>Year</th>\n",
              "      <th>Active</th>\n",
              "    </tr>\n",
              "    <tr>\n",
              "      <th>Customer_Number</th>\n",
              "      <th>Customer_Name</th>\n",
              "      <th></th>\n",
              "      <th></th>\n",
              "      <th></th>\n",
              "      <th></th>\n",
              "      <th></th>\n",
              "      <th></th>\n",
              "      <th></th>\n",
              "      <th></th>\n",
              "    </tr>\n",
              "  </thead>\n",
              "  <tbody>\n",
              "    <tr>\n",
              "      <th>10001</th>\n",
              "      <th>Quest Industries</th>\n",
              "      <td>$125,000.00</td>\n",
              "      <td>$162,500.00</td>\n",
              "      <td>30.00%</td>\n",
              "      <td>500</td>\n",
              "      <td>1</td>\n",
              "      <td>10</td>\n",
              "      <td>2015</td>\n",
              "      <td>Y</td>\n",
              "    </tr>\n",
              "    <tr>\n",
              "      <th>10002</th>\n",
              "      <th>kara Industries</th>\n",
              "      <td>$125,000.00</td>\n",
              "      <td>$162,500.00</td>\n",
              "      <td>60.00%</td>\n",
              "      <td>500</td>\n",
              "      <td>1</td>\n",
              "      <td>10</td>\n",
              "      <td>2015</td>\n",
              "      <td>Y</td>\n",
              "    </tr>\n",
              "    <tr>\n",
              "      <th>10003</th>\n",
              "      <th>Dabu Industries</th>\n",
              "      <td>$154,000.00</td>\n",
              "      <td>$642,500.00</td>\n",
              "      <td>50.00%</td>\n",
              "      <td>closed</td>\n",
              "      <td>1</td>\n",
              "      <td>10</td>\n",
              "      <td>2015</td>\n",
              "      <td>N</td>\n",
              "    </tr>\n",
              "    <tr>\n",
              "      <th>10004</th>\n",
              "      <th>Hero Industries</th>\n",
              "      <td>$165,000.00</td>\n",
              "      <td>$642,500.00</td>\n",
              "      <td>80.00%</td>\n",
              "      <td>600</td>\n",
              "      <td>1</td>\n",
              "      <td>11</td>\n",
              "      <td>2015</td>\n",
              "      <td>N</td>\n",
              "    </tr>\n",
              "    <tr>\n",
              "      <th>10005</th>\n",
              "      <th>XML Co</th>\n",
              "      <td>$125,000.00</td>\n",
              "      <td>$542,900.00</td>\n",
              "      <td>60.00%</td>\n",
              "      <td>800</td>\n",
              "      <td>2</td>\n",
              "      <td>11</td>\n",
              "      <td>2015</td>\n",
              "      <td>Y</td>\n",
              "    </tr>\n",
              "    <tr>\n",
              "      <th>10006</th>\n",
              "      <th>Uber Limited</th>\n",
              "      <td>$154,000.00</td>\n",
              "      <td>$456,870.00</td>\n",
              "      <td>50.00%</td>\n",
              "      <td>100</td>\n",
              "      <td>2</td>\n",
              "      <td>12</td>\n",
              "      <td>2015</td>\n",
              "      <td>Y</td>\n",
              "    </tr>\n",
              "    <tr>\n",
              "      <th>10007</th>\n",
              "      <th>Zara Pvt Ltd</th>\n",
              "      <td>$125,000.00</td>\n",
              "      <td>$129,000.00</td>\n",
              "      <td>16.00%</td>\n",
              "      <td>200</td>\n",
              "      <td>2</td>\n",
              "      <td>11</td>\n",
              "      <td>2015</td>\n",
              "      <td>Y</td>\n",
              "    </tr>\n",
              "    <tr>\n",
              "      <th>10008</th>\n",
              "      <th>Samsung</th>\n",
              "      <td>$154,000.00</td>\n",
              "      <td>$444,320.00</td>\n",
              "      <td>40.00%</td>\n",
              "      <td>300</td>\n",
              "      <td>1</td>\n",
              "      <td>12</td>\n",
              "      <td>2015</td>\n",
              "      <td>Y</td>\n",
              "    </tr>\n",
              "    <tr>\n",
              "      <th>10009</th>\n",
              "      <th>Airtel</th>\n",
              "      <td>$169,000.00</td>\n",
              "      <td>$435,000.00</td>\n",
              "      <td>60.00%</td>\n",
              "      <td>500</td>\n",
              "      <td>1</td>\n",
              "      <td>11</td>\n",
              "      <td>2015</td>\n",
              "      <td>Y</td>\n",
              "    </tr>\n",
              "  </tbody>\n",
              "</table>\n",
              "</div>"
            ],
            "text/plain": [
              "                                          2016          2017 Percent_Growth  \\\n",
              "Customer_Number Customer_Name                                                 \n",
              "10001           Quest Industries  $125,000.00   $162,500.00          30.00%   \n",
              "10002           kara Industries   $125,000.00   $162,500.00          60.00%   \n",
              "10003           Dabu Industries   $154,000.00   $642,500.00          50.00%   \n",
              "10004           Hero Industries   $165,000.00   $642,500.00          80.00%   \n",
              "10005           XML Co            $125,000.00   $542,900.00          60.00%   \n",
              "10006           Uber Limited      $154,000.00   $456,870.00          50.00%   \n",
              "10007           Zara Pvt Ltd      $125,000.00   $129,000.00          16.00%   \n",
              "10008           Samsung           $154,000.00   $444,320.00          40.00%   \n",
              "10009           Airtel            $169,000.00   $435,000.00          60.00%   \n",
              "\n",
              "                                 Jan_Units  Month  Day  Year Active  \n",
              "Customer_Number Customer_Name                                        \n",
              "10001           Quest Industries       500      1   10  2015      Y  \n",
              "10002           kara Industries        500      1   10  2015      Y  \n",
              "10003           Dabu Industries     closed      1   10  2015      N  \n",
              "10004           Hero Industries        600      1   11  2015      N  \n",
              "10005           XML Co                 800      2   11  2015      Y  \n",
              "10006           Uber Limited           100      2   12  2015      Y  \n",
              "10007           Zara Pvt Ltd           200      2   11  2015      Y  \n",
              "10008           Samsung                300      1   12  2015      Y  \n",
              "10009           Airtel                 500      1   11  2015      Y  "
            ]
          },
          "metadata": {
            "tags": []
          },
          "execution_count": 161
        }
      ]
    },
    {
      "cell_type": "code",
      "metadata": {
        "id": "xlknzZBvRiqi",
        "outputId": "ffd8b32a-26b7-4d19-c59c-19d92cb1b4c7"
      },
      "source": [
        "df.loc[10006]['2016']"
      ],
      "execution_count": null,
      "outputs": [
        {
          "output_type": "execute_result",
          "data": {
            "text/plain": [
              "Customer_Name\n",
              "Uber Limited    $154,000.00 \n",
              "Name: 2016, dtype: object"
            ]
          },
          "metadata": {
            "tags": []
          },
          "execution_count": 119
        }
      ]
    },
    {
      "cell_type": "code",
      "metadata": {
        "id": "vIvDf63URiqj",
        "outputId": "aaa474dd-a20c-42fa-f214-ebb533a0fb65"
      },
      "source": [
        "df.iloc[1]['2016']"
      ],
      "execution_count": null,
      "outputs": [
        {
          "output_type": "execute_result",
          "data": {
            "text/plain": [
              "'$125,000.00 '"
            ]
          },
          "metadata": {
            "tags": []
          },
          "execution_count": 120
        }
      ]
    },
    {
      "cell_type": "code",
      "metadata": {
        "id": "B2oWVTU1Riqj",
        "outputId": "f5a587a2-85b7-4b93-90d8-bff65ef96a5f"
      },
      "source": [
        "df.iloc[1]"
      ],
      "execution_count": null,
      "outputs": [
        {
          "output_type": "execute_result",
          "data": {
            "text/plain": [
              "2016              $125,000.00 \n",
              "2017              $162,500.00 \n",
              "Percent_Growth          60.00%\n",
              "Jan_Units                  500\n",
              "Month                        1\n",
              "Day                         10\n",
              "Year                      2015\n",
              "Active                       Y\n",
              "Name: (10002, kara Industries), dtype: object"
            ]
          },
          "metadata": {
            "tags": []
          },
          "execution_count": 123
        }
      ]
    },
    {
      "cell_type": "code",
      "metadata": {
        "id": "G2gdKpdqRiqk",
        "outputId": "0b30d405-1c6a-4fa9-e0ae-66e2eae290b5"
      },
      "source": [
        "df.iloc[1][3]"
      ],
      "execution_count": null,
      "outputs": [
        {
          "output_type": "execute_result",
          "data": {
            "text/plain": [
              "'500'"
            ]
          },
          "metadata": {
            "tags": []
          },
          "execution_count": 126
        }
      ]
    },
    {
      "cell_type": "code",
      "metadata": {
        "id": "rZAVjn7MRiqk"
      },
      "source": [
        "df.iloc[1]"
      ],
      "execution_count": null,
      "outputs": []
    },
    {
      "cell_type": "code",
      "metadata": {
        "id": "BodYy6rORiql",
        "outputId": "5ea43093-3904-4650-96bb-2aa86f7e3028"
      },
      "source": [
        "df.iloc[1][[1,2,3]]"
      ],
      "execution_count": null,
      "outputs": [
        {
          "output_type": "execute_result",
          "data": {
            "text/plain": [
              "2017              $162,500.00 \n",
              "Percent_Growth          60.00%\n",
              "Jan_Units                  500\n",
              "Name: (10002, kara Industries), dtype: object"
            ]
          },
          "metadata": {
            "tags": []
          },
          "execution_count": 136
        }
      ]
    },
    {
      "cell_type": "code",
      "metadata": {
        "id": "lD5jUneCRiql",
        "outputId": "1c76df24-39b1-44e2-8684-c0d939ac8862"
      },
      "source": [
        "df.loc[10008]"
      ],
      "execution_count": null,
      "outputs": [
        {
          "output_type": "execute_result",
          "data": {
            "text/html": [
              "<div>\n",
              "<style scoped>\n",
              "    .dataframe tbody tr th:only-of-type {\n",
              "        vertical-align: middle;\n",
              "    }\n",
              "\n",
              "    .dataframe tbody tr th {\n",
              "        vertical-align: top;\n",
              "    }\n",
              "\n",
              "    .dataframe thead th {\n",
              "        text-align: right;\n",
              "    }\n",
              "</style>\n",
              "<table border=\"1\" class=\"dataframe\">\n",
              "  <thead>\n",
              "    <tr style=\"text-align: right;\">\n",
              "      <th></th>\n",
              "      <th>2016</th>\n",
              "      <th>2017</th>\n",
              "      <th>Percent_Growth</th>\n",
              "      <th>Jan_Units</th>\n",
              "      <th>Month</th>\n",
              "      <th>Day</th>\n",
              "      <th>Year</th>\n",
              "      <th>Active</th>\n",
              "    </tr>\n",
              "    <tr>\n",
              "      <th>Customer_Name</th>\n",
              "      <th></th>\n",
              "      <th></th>\n",
              "      <th></th>\n",
              "      <th></th>\n",
              "      <th></th>\n",
              "      <th></th>\n",
              "      <th></th>\n",
              "      <th></th>\n",
              "    </tr>\n",
              "  </thead>\n",
              "  <tbody>\n",
              "    <tr>\n",
              "      <th>Samsung</th>\n",
              "      <td>$154,000.00</td>\n",
              "      <td>$444,320.00</td>\n",
              "      <td>40.00%</td>\n",
              "      <td>300</td>\n",
              "      <td>1</td>\n",
              "      <td>12</td>\n",
              "      <td>2015</td>\n",
              "      <td>Y</td>\n",
              "    </tr>\n",
              "  </tbody>\n",
              "</table>\n",
              "</div>"
            ],
            "text/plain": [
              "                       2016          2017 Percent_Growth Jan_Units  Month  \\\n",
              "Customer_Name                                                               \n",
              "Samsung        $154,000.00   $444,320.00          40.00%       300      1   \n",
              "\n",
              "               Day  Year Active  \n",
              "Customer_Name                    \n",
              "Samsung         12  2015      Y  "
            ]
          },
          "metadata": {
            "tags": []
          },
          "execution_count": 139
        }
      ]
    },
    {
      "cell_type": "code",
      "metadata": {
        "id": "TFkF1H8wRiql",
        "outputId": "418558a2-3d61-4ded-a8db-70738f7e78b8"
      },
      "source": [
        "df.loc[10008]['2016']"
      ],
      "execution_count": null,
      "outputs": [
        {
          "output_type": "execute_result",
          "data": {
            "text/plain": [
              "Customer_Name\n",
              "Samsung    $154,000.00 \n",
              "Name: 2016, dtype: object"
            ]
          },
          "metadata": {
            "tags": []
          },
          "execution_count": 140
        }
      ]
    },
    {
      "cell_type": "code",
      "metadata": {
        "id": "-8VwRDRlRiqm",
        "outputId": "e6872ce8-2672-4252-80ef-b9a8910eeea6"
      },
      "source": [
        "df.loc[10005:10007][['2016']]"
      ],
      "execution_count": null,
      "outputs": [
        {
          "output_type": "execute_result",
          "data": {
            "text/html": [
              "<div>\n",
              "<style scoped>\n",
              "    .dataframe tbody tr th:only-of-type {\n",
              "        vertical-align: middle;\n",
              "    }\n",
              "\n",
              "    .dataframe tbody tr th {\n",
              "        vertical-align: top;\n",
              "    }\n",
              "\n",
              "    .dataframe thead th {\n",
              "        text-align: right;\n",
              "    }\n",
              "</style>\n",
              "<table border=\"1\" class=\"dataframe\">\n",
              "  <thead>\n",
              "    <tr style=\"text-align: right;\">\n",
              "      <th></th>\n",
              "      <th></th>\n",
              "      <th>2016</th>\n",
              "    </tr>\n",
              "    <tr>\n",
              "      <th>Customer_Number</th>\n",
              "      <th>Customer_Name</th>\n",
              "      <th></th>\n",
              "    </tr>\n",
              "  </thead>\n",
              "  <tbody>\n",
              "    <tr>\n",
              "      <th>10005</th>\n",
              "      <th>XML Co</th>\n",
              "      <td>$125,000.00</td>\n",
              "    </tr>\n",
              "    <tr>\n",
              "      <th>10006</th>\n",
              "      <th>Uber Limited</th>\n",
              "      <td>$154,000.00</td>\n",
              "    </tr>\n",
              "    <tr>\n",
              "      <th>10007</th>\n",
              "      <th>Zara Pvt Ltd</th>\n",
              "      <td>$125,000.00</td>\n",
              "    </tr>\n",
              "  </tbody>\n",
              "</table>\n",
              "</div>"
            ],
            "text/plain": [
              "                                       2016\n",
              "Customer_Number Customer_Name              \n",
              "10005           XML Co         $125,000.00 \n",
              "10006           Uber Limited   $154,000.00 \n",
              "10007           Zara Pvt Ltd   $125,000.00 "
            ]
          },
          "metadata": {
            "tags": []
          },
          "execution_count": 155
        }
      ]
    },
    {
      "cell_type": "code",
      "metadata": {
        "id": "I36aqMF9Riqn"
      },
      "source": [
        ""
      ],
      "execution_count": null,
      "outputs": []
    },
    {
      "cell_type": "code",
      "metadata": {
        "id": "v7GSygjDRiqn",
        "outputId": "ea13b28c-200c-4b91-92cc-102719774df5"
      },
      "source": [
        "df.Jan_Units[10008][\"Samsung\"]=9\n",
        "df.Jan_Units[10008]"
      ],
      "execution_count": null,
      "outputs": [
        {
          "output_type": "execute_result",
          "data": {
            "text/plain": [
              "Customer_Name\n",
              "Samsung    9\n",
              "Name: Jan_Units, dtype: object"
            ]
          },
          "metadata": {
            "tags": []
          },
          "execution_count": 58
        }
      ]
    },
    {
      "cell_type": "code",
      "metadata": {
        "id": "P2dx3s46Riqo",
        "outputId": "2b4d0382-19e4-47d6-9e4d-2305b8eeea0f"
      },
      "source": [
        "df['2016']\n",
        "#col then row index\n",
        "df['2016'][10008]\n",
        "\n",
        "#by using loc one has to give row index then column name\n",
        "df.loc[10008,'2016']\n",
        "#by using iloc, one can give only integers\n",
        "#df.iloc[1,'1'] produces ValueError: Location based indexing can only have \n",
        "#[integer, integer slice (START point is INCLUDED, END point is EXCLUDED), \n",
        "# listlike of integers, boolean array] types\n",
        "#\n",
        "df.loc[10008,2016]"
      ],
      "execution_count": null,
      "outputs": [
        {
          "output_type": "error",
          "ename": "TypeError",
          "evalue": "cannot do label indexing on <class 'pandas.core.indexes.base.Index'> with these indexers [2016] of <class 'int'>",
          "traceback": [
            "\u001b[1;31m---------------------------------------------------------------------------\u001b[0m",
            "\u001b[1;31mTypeError\u001b[0m                                 Traceback (most recent call last)",
            "\u001b[1;32m<ipython-input-157-189184a292ae>\u001b[0m in \u001b[0;36m<module>\u001b[1;34m()\u001b[0m\n\u001b[0;32m     10\u001b[0m \u001b[1;31m# listlike of integers, boolean array] types\u001b[0m\u001b[1;33m\u001b[0m\u001b[1;33m\u001b[0m\u001b[0m\n\u001b[0;32m     11\u001b[0m \u001b[1;31m#\u001b[0m\u001b[1;33m\u001b[0m\u001b[1;33m\u001b[0m\u001b[0m\n\u001b[1;32m---> 12\u001b[1;33m \u001b[0mdf\u001b[0m\u001b[1;33m.\u001b[0m\u001b[0mloc\u001b[0m\u001b[1;33m[\u001b[0m\u001b[1;36m10008\u001b[0m\u001b[1;33m,\u001b[0m\u001b[1;36m2016\u001b[0m\u001b[1;33m]\u001b[0m\u001b[1;33m\u001b[0m\u001b[0m\n\u001b[0m",
            "\u001b[1;32mC:\\ProgramData\\Anaconda3\\lib\\site-packages\\pandas\\core\\indexing.py\u001b[0m in \u001b[0;36m__getitem__\u001b[1;34m(self, key)\u001b[0m\n\u001b[0;32m   1365\u001b[0m             \u001b[1;32mexcept\u001b[0m \u001b[1;33m(\u001b[0m\u001b[0mKeyError\u001b[0m\u001b[1;33m,\u001b[0m \u001b[0mIndexError\u001b[0m\u001b[1;33m)\u001b[0m\u001b[1;33m:\u001b[0m\u001b[1;33m\u001b[0m\u001b[0m\n\u001b[0;32m   1366\u001b[0m                 \u001b[1;32mpass\u001b[0m\u001b[1;33m\u001b[0m\u001b[0m\n\u001b[1;32m-> 1367\u001b[1;33m             \u001b[1;32mreturn\u001b[0m \u001b[0mself\u001b[0m\u001b[1;33m.\u001b[0m\u001b[0m_getitem_tuple\u001b[0m\u001b[1;33m(\u001b[0m\u001b[0mkey\u001b[0m\u001b[1;33m)\u001b[0m\u001b[1;33m\u001b[0m\u001b[0m\n\u001b[0m\u001b[0;32m   1368\u001b[0m         \u001b[1;32melse\u001b[0m\u001b[1;33m:\u001b[0m\u001b[1;33m\u001b[0m\u001b[0m\n\u001b[0;32m   1369\u001b[0m             \u001b[1;31m# we by definition only have the 0th axis\u001b[0m\u001b[1;33m\u001b[0m\u001b[1;33m\u001b[0m\u001b[0m\n",
            "\u001b[1;32mC:\\ProgramData\\Anaconda3\\lib\\site-packages\\pandas\\core\\indexing.py\u001b[0m in \u001b[0;36m_getitem_tuple\u001b[1;34m(self, tup)\u001b[0m\n\u001b[0;32m    856\u001b[0m     \u001b[1;32mdef\u001b[0m \u001b[0m_getitem_tuple\u001b[0m\u001b[1;33m(\u001b[0m\u001b[0mself\u001b[0m\u001b[1;33m,\u001b[0m \u001b[0mtup\u001b[0m\u001b[1;33m)\u001b[0m\u001b[1;33m:\u001b[0m\u001b[1;33m\u001b[0m\u001b[0m\n\u001b[0;32m    857\u001b[0m         \u001b[1;32mtry\u001b[0m\u001b[1;33m:\u001b[0m\u001b[1;33m\u001b[0m\u001b[0m\n\u001b[1;32m--> 858\u001b[1;33m             \u001b[1;32mreturn\u001b[0m \u001b[0mself\u001b[0m\u001b[1;33m.\u001b[0m\u001b[0m_getitem_lowerdim\u001b[0m\u001b[1;33m(\u001b[0m\u001b[0mtup\u001b[0m\u001b[1;33m)\u001b[0m\u001b[1;33m\u001b[0m\u001b[0m\n\u001b[0m\u001b[0;32m    859\u001b[0m         \u001b[1;32mexcept\u001b[0m \u001b[0mIndexingError\u001b[0m\u001b[1;33m:\u001b[0m\u001b[1;33m\u001b[0m\u001b[0m\n\u001b[0;32m    860\u001b[0m             \u001b[1;32mpass\u001b[0m\u001b[1;33m\u001b[0m\u001b[0m\n",
            "\u001b[1;32mC:\\ProgramData\\Anaconda3\\lib\\site-packages\\pandas\\core\\indexing.py\u001b[0m in \u001b[0;36m_getitem_lowerdim\u001b[1;34m(self, tup)\u001b[0m\n\u001b[0;32m   1018\u001b[0m                     \u001b[1;32mreturn\u001b[0m \u001b[0msection\u001b[0m\u001b[1;33m\u001b[0m\u001b[0m\n\u001b[0;32m   1019\u001b[0m                 \u001b[1;31m# This is an elided recursive call to iloc/loc/etc'\u001b[0m\u001b[1;33m\u001b[0m\u001b[1;33m\u001b[0m\u001b[0m\n\u001b[1;32m-> 1020\u001b[1;33m                 \u001b[1;32mreturn\u001b[0m \u001b[0mgetattr\u001b[0m\u001b[1;33m(\u001b[0m\u001b[0msection\u001b[0m\u001b[1;33m,\u001b[0m \u001b[0mself\u001b[0m\u001b[1;33m.\u001b[0m\u001b[0mname\u001b[0m\u001b[1;33m)\u001b[0m\u001b[1;33m[\u001b[0m\u001b[0mnew_key\u001b[0m\u001b[1;33m]\u001b[0m\u001b[1;33m\u001b[0m\u001b[0m\n\u001b[0m\u001b[0;32m   1021\u001b[0m \u001b[1;33m\u001b[0m\u001b[0m\n\u001b[0;32m   1022\u001b[0m         \u001b[1;32mraise\u001b[0m \u001b[0mIndexingError\u001b[0m\u001b[1;33m(\u001b[0m\u001b[1;34m'not applicable'\u001b[0m\u001b[1;33m)\u001b[0m\u001b[1;33m\u001b[0m\u001b[0m\n",
            "\u001b[1;32mC:\\ProgramData\\Anaconda3\\lib\\site-packages\\pandas\\core\\indexing.py\u001b[0m in \u001b[0;36m__getitem__\u001b[1;34m(self, key)\u001b[0m\n\u001b[0;32m   1365\u001b[0m             \u001b[1;32mexcept\u001b[0m \u001b[1;33m(\u001b[0m\u001b[0mKeyError\u001b[0m\u001b[1;33m,\u001b[0m \u001b[0mIndexError\u001b[0m\u001b[1;33m)\u001b[0m\u001b[1;33m:\u001b[0m\u001b[1;33m\u001b[0m\u001b[0m\n\u001b[0;32m   1366\u001b[0m                 \u001b[1;32mpass\u001b[0m\u001b[1;33m\u001b[0m\u001b[0m\n\u001b[1;32m-> 1367\u001b[1;33m             \u001b[1;32mreturn\u001b[0m \u001b[0mself\u001b[0m\u001b[1;33m.\u001b[0m\u001b[0m_getitem_tuple\u001b[0m\u001b[1;33m(\u001b[0m\u001b[0mkey\u001b[0m\u001b[1;33m)\u001b[0m\u001b[1;33m\u001b[0m\u001b[0m\n\u001b[0m\u001b[0;32m   1368\u001b[0m         \u001b[1;32melse\u001b[0m\u001b[1;33m:\u001b[0m\u001b[1;33m\u001b[0m\u001b[0m\n\u001b[0;32m   1369\u001b[0m             \u001b[1;31m# we by definition only have the 0th axis\u001b[0m\u001b[1;33m\u001b[0m\u001b[1;33m\u001b[0m\u001b[0m\n",
            "\u001b[1;32mC:\\ProgramData\\Anaconda3\\lib\\site-packages\\pandas\\core\\indexing.py\u001b[0m in \u001b[0;36m_getitem_tuple\u001b[1;34m(self, tup)\u001b[0m\n\u001b[0;32m    856\u001b[0m     \u001b[1;32mdef\u001b[0m \u001b[0m_getitem_tuple\u001b[0m\u001b[1;33m(\u001b[0m\u001b[0mself\u001b[0m\u001b[1;33m,\u001b[0m \u001b[0mtup\u001b[0m\u001b[1;33m)\u001b[0m\u001b[1;33m:\u001b[0m\u001b[1;33m\u001b[0m\u001b[0m\n\u001b[0;32m    857\u001b[0m         \u001b[1;32mtry\u001b[0m\u001b[1;33m:\u001b[0m\u001b[1;33m\u001b[0m\u001b[0m\n\u001b[1;32m--> 858\u001b[1;33m             \u001b[1;32mreturn\u001b[0m \u001b[0mself\u001b[0m\u001b[1;33m.\u001b[0m\u001b[0m_getitem_lowerdim\u001b[0m\u001b[1;33m(\u001b[0m\u001b[0mtup\u001b[0m\u001b[1;33m)\u001b[0m\u001b[1;33m\u001b[0m\u001b[0m\n\u001b[0m\u001b[0;32m    859\u001b[0m         \u001b[1;32mexcept\u001b[0m \u001b[0mIndexingError\u001b[0m\u001b[1;33m:\u001b[0m\u001b[1;33m\u001b[0m\u001b[0m\n\u001b[0;32m    860\u001b[0m             \u001b[1;32mpass\u001b[0m\u001b[1;33m\u001b[0m\u001b[0m\n",
            "\u001b[1;32mC:\\ProgramData\\Anaconda3\\lib\\site-packages\\pandas\\core\\indexing.py\u001b[0m in \u001b[0;36m_getitem_lowerdim\u001b[1;34m(self, tup)\u001b[0m\n\u001b[0;32m    989\u001b[0m         \u001b[1;32mfor\u001b[0m \u001b[0mi\u001b[0m\u001b[1;33m,\u001b[0m \u001b[0mkey\u001b[0m \u001b[1;32min\u001b[0m \u001b[0menumerate\u001b[0m\u001b[1;33m(\u001b[0m\u001b[0mtup\u001b[0m\u001b[1;33m)\u001b[0m\u001b[1;33m:\u001b[0m\u001b[1;33m\u001b[0m\u001b[0m\n\u001b[0;32m    990\u001b[0m             \u001b[1;32mif\u001b[0m \u001b[0mis_label_like\u001b[0m\u001b[1;33m(\u001b[0m\u001b[0mkey\u001b[0m\u001b[1;33m)\u001b[0m \u001b[1;32mor\u001b[0m \u001b[0misinstance\u001b[0m\u001b[1;33m(\u001b[0m\u001b[0mkey\u001b[0m\u001b[1;33m,\u001b[0m \u001b[0mtuple\u001b[0m\u001b[1;33m)\u001b[0m\u001b[1;33m:\u001b[0m\u001b[1;33m\u001b[0m\u001b[0m\n\u001b[1;32m--> 991\u001b[1;33m                 \u001b[0msection\u001b[0m \u001b[1;33m=\u001b[0m \u001b[0mself\u001b[0m\u001b[1;33m.\u001b[0m\u001b[0m_getitem_axis\u001b[0m\u001b[1;33m(\u001b[0m\u001b[0mkey\u001b[0m\u001b[1;33m,\u001b[0m \u001b[0maxis\u001b[0m\u001b[1;33m=\u001b[0m\u001b[0mi\u001b[0m\u001b[1;33m)\u001b[0m\u001b[1;33m\u001b[0m\u001b[0m\n\u001b[0m\u001b[0;32m    992\u001b[0m \u001b[1;33m\u001b[0m\u001b[0m\n\u001b[0;32m    993\u001b[0m                 \u001b[1;31m# we have yielded a scalar ?\u001b[0m\u001b[1;33m\u001b[0m\u001b[1;33m\u001b[0m\u001b[0m\n",
            "\u001b[1;32mC:\\ProgramData\\Anaconda3\\lib\\site-packages\\pandas\\core\\indexing.py\u001b[0m in \u001b[0;36m_getitem_axis\u001b[1;34m(self, key, axis)\u001b[0m\n\u001b[0;32m   1624\u001b[0m \u001b[1;33m\u001b[0m\u001b[0m\n\u001b[0;32m   1625\u001b[0m         \u001b[1;31m# fall thru to straight lookup\u001b[0m\u001b[1;33m\u001b[0m\u001b[1;33m\u001b[0m\u001b[0m\n\u001b[1;32m-> 1626\u001b[1;33m         \u001b[0mself\u001b[0m\u001b[1;33m.\u001b[0m\u001b[0m_has_valid_type\u001b[0m\u001b[1;33m(\u001b[0m\u001b[0mkey\u001b[0m\u001b[1;33m,\u001b[0m \u001b[0maxis\u001b[0m\u001b[1;33m)\u001b[0m\u001b[1;33m\u001b[0m\u001b[0m\n\u001b[0m\u001b[0;32m   1627\u001b[0m         \u001b[1;32mreturn\u001b[0m \u001b[0mself\u001b[0m\u001b[1;33m.\u001b[0m\u001b[0m_get_label\u001b[0m\u001b[1;33m(\u001b[0m\u001b[0mkey\u001b[0m\u001b[1;33m,\u001b[0m \u001b[0maxis\u001b[0m\u001b[1;33m=\u001b[0m\u001b[0maxis\u001b[0m\u001b[1;33m)\u001b[0m\u001b[1;33m\u001b[0m\u001b[0m\n\u001b[0;32m   1628\u001b[0m \u001b[1;33m\u001b[0m\u001b[0m\n",
            "\u001b[1;32mC:\\ProgramData\\Anaconda3\\lib\\site-packages\\pandas\\core\\indexing.py\u001b[0m in \u001b[0;36m_has_valid_type\u001b[1;34m(self, key, axis)\u001b[0m\n\u001b[0;32m   1502\u001b[0m \u001b[1;33m\u001b[0m\u001b[0m\n\u001b[0;32m   1503\u001b[0m             \u001b[1;32mtry\u001b[0m\u001b[1;33m:\u001b[0m\u001b[1;33m\u001b[0m\u001b[0m\n\u001b[1;32m-> 1504\u001b[1;33m                 \u001b[0mkey\u001b[0m \u001b[1;33m=\u001b[0m \u001b[0mself\u001b[0m\u001b[1;33m.\u001b[0m\u001b[0m_convert_scalar_indexer\u001b[0m\u001b[1;33m(\u001b[0m\u001b[0mkey\u001b[0m\u001b[1;33m,\u001b[0m \u001b[0maxis\u001b[0m\u001b[1;33m)\u001b[0m\u001b[1;33m\u001b[0m\u001b[0m\n\u001b[0m\u001b[0;32m   1505\u001b[0m                 \u001b[1;32mif\u001b[0m \u001b[1;32mnot\u001b[0m \u001b[0max\u001b[0m\u001b[1;33m.\u001b[0m\u001b[0mcontains\u001b[0m\u001b[1;33m(\u001b[0m\u001b[0mkey\u001b[0m\u001b[1;33m)\u001b[0m\u001b[1;33m:\u001b[0m\u001b[1;33m\u001b[0m\u001b[0m\n\u001b[0;32m   1506\u001b[0m                     \u001b[0merror\u001b[0m\u001b[1;33m(\u001b[0m\u001b[1;33m)\u001b[0m\u001b[1;33m\u001b[0m\u001b[0m\n",
            "\u001b[1;32mC:\\ProgramData\\Anaconda3\\lib\\site-packages\\pandas\\core\\indexing.py\u001b[0m in \u001b[0;36m_convert_scalar_indexer\u001b[1;34m(self, key, axis)\u001b[0m\n\u001b[0;32m    254\u001b[0m         \u001b[0max\u001b[0m \u001b[1;33m=\u001b[0m \u001b[0mself\u001b[0m\u001b[1;33m.\u001b[0m\u001b[0mobj\u001b[0m\u001b[1;33m.\u001b[0m\u001b[0m_get_axis\u001b[0m\u001b[1;33m(\u001b[0m\u001b[0mmin\u001b[0m\u001b[1;33m(\u001b[0m\u001b[0maxis\u001b[0m\u001b[1;33m,\u001b[0m \u001b[0mself\u001b[0m\u001b[1;33m.\u001b[0m\u001b[0mndim\u001b[0m \u001b[1;33m-\u001b[0m \u001b[1;36m1\u001b[0m\u001b[1;33m)\u001b[0m\u001b[1;33m)\u001b[0m\u001b[1;33m\u001b[0m\u001b[0m\n\u001b[0;32m    255\u001b[0m         \u001b[1;31m# a scalar\u001b[0m\u001b[1;33m\u001b[0m\u001b[1;33m\u001b[0m\u001b[0m\n\u001b[1;32m--> 256\u001b[1;33m         \u001b[1;32mreturn\u001b[0m \u001b[0max\u001b[0m\u001b[1;33m.\u001b[0m\u001b[0m_convert_scalar_indexer\u001b[0m\u001b[1;33m(\u001b[0m\u001b[0mkey\u001b[0m\u001b[1;33m,\u001b[0m \u001b[0mkind\u001b[0m\u001b[1;33m=\u001b[0m\u001b[0mself\u001b[0m\u001b[1;33m.\u001b[0m\u001b[0mname\u001b[0m\u001b[1;33m)\u001b[0m\u001b[1;33m\u001b[0m\u001b[0m\n\u001b[0m\u001b[0;32m    257\u001b[0m \u001b[1;33m\u001b[0m\u001b[0m\n\u001b[0;32m    258\u001b[0m     \u001b[1;32mdef\u001b[0m \u001b[0m_convert_slice_indexer\u001b[0m\u001b[1;33m(\u001b[0m\u001b[0mself\u001b[0m\u001b[1;33m,\u001b[0m \u001b[0mkey\u001b[0m\u001b[1;33m,\u001b[0m \u001b[0maxis\u001b[0m\u001b[1;33m)\u001b[0m\u001b[1;33m:\u001b[0m\u001b[1;33m\u001b[0m\u001b[0m\n",
            "\u001b[1;32mC:\\ProgramData\\Anaconda3\\lib\\site-packages\\pandas\\core\\indexes\\base.py\u001b[0m in \u001b[0;36m_convert_scalar_indexer\u001b[1;34m(self, key, kind)\u001b[0m\n\u001b[0;32m   1390\u001b[0m             \u001b[1;32melif\u001b[0m \u001b[0mkind\u001b[0m \u001b[1;32min\u001b[0m \u001b[1;33m[\u001b[0m\u001b[1;34m'loc'\u001b[0m\u001b[1;33m]\u001b[0m \u001b[1;32mand\u001b[0m \u001b[0mis_integer\u001b[0m\u001b[1;33m(\u001b[0m\u001b[0mkey\u001b[0m\u001b[1;33m)\u001b[0m\u001b[1;33m:\u001b[0m\u001b[1;33m\u001b[0m\u001b[0m\n\u001b[0;32m   1391\u001b[0m                 \u001b[1;32mif\u001b[0m \u001b[1;32mnot\u001b[0m \u001b[0mself\u001b[0m\u001b[1;33m.\u001b[0m\u001b[0mholds_integer\u001b[0m\u001b[1;33m(\u001b[0m\u001b[1;33m)\u001b[0m\u001b[1;33m:\u001b[0m\u001b[1;33m\u001b[0m\u001b[0m\n\u001b[1;32m-> 1392\u001b[1;33m                     \u001b[1;32mreturn\u001b[0m \u001b[0mself\u001b[0m\u001b[1;33m.\u001b[0m\u001b[0m_invalid_indexer\u001b[0m\u001b[1;33m(\u001b[0m\u001b[1;34m'label'\u001b[0m\u001b[1;33m,\u001b[0m \u001b[0mkey\u001b[0m\u001b[1;33m)\u001b[0m\u001b[1;33m\u001b[0m\u001b[0m\n\u001b[0m\u001b[0;32m   1393\u001b[0m \u001b[1;33m\u001b[0m\u001b[0m\n\u001b[0;32m   1394\u001b[0m         \u001b[1;32mreturn\u001b[0m \u001b[0mkey\u001b[0m\u001b[1;33m\u001b[0m\u001b[0m\n",
            "\u001b[1;32mC:\\ProgramData\\Anaconda3\\lib\\site-packages\\pandas\\core\\indexes\\base.py\u001b[0m in \u001b[0;36m_invalid_indexer\u001b[1;34m(self, form, key)\u001b[0m\n\u001b[0;32m   1574\u001b[0m                         \"indexers [{key}] of {kind}\".format(\n\u001b[0;32m   1575\u001b[0m                             \u001b[0mform\u001b[0m\u001b[1;33m=\u001b[0m\u001b[0mform\u001b[0m\u001b[1;33m,\u001b[0m \u001b[0mklass\u001b[0m\u001b[1;33m=\u001b[0m\u001b[0mtype\u001b[0m\u001b[1;33m(\u001b[0m\u001b[0mself\u001b[0m\u001b[1;33m)\u001b[0m\u001b[1;33m,\u001b[0m \u001b[0mkey\u001b[0m\u001b[1;33m=\u001b[0m\u001b[0mkey\u001b[0m\u001b[1;33m,\u001b[0m\u001b[1;33m\u001b[0m\u001b[0m\n\u001b[1;32m-> 1576\u001b[1;33m                             kind=type(key)))\n\u001b[0m\u001b[0;32m   1577\u001b[0m \u001b[1;33m\u001b[0m\u001b[0m\n\u001b[0;32m   1578\u001b[0m     \u001b[1;32mdef\u001b[0m \u001b[0mget_duplicates\u001b[0m\u001b[1;33m(\u001b[0m\u001b[0mself\u001b[0m\u001b[1;33m)\u001b[0m\u001b[1;33m:\u001b[0m\u001b[1;33m\u001b[0m\u001b[0m\n",
            "\u001b[1;31mTypeError\u001b[0m: cannot do label indexing on <class 'pandas.core.indexes.base.Index'> with these indexers [2016] of <class 'int'>"
          ]
        }
      ]
    },
    {
      "cell_type": "code",
      "metadata": {
        "id": "L7ilOBRDRiqp",
        "outputId": "d67b3861-9dd8-4f66-d9e2-023040be6f10"
      },
      "source": [
        "#df.loc[10006:10008, ['Jan_Units','2016']]\n",
        "\n",
        "#df.loc[10006]['2016']\n",
        "#df.2016['10006']\n",
        "df"
      ],
      "execution_count": null,
      "outputs": [
        {
          "output_type": "execute_result",
          "data": {
            "text/html": [
              "<div>\n",
              "<style scoped>\n",
              "    .dataframe tbody tr th:only-of-type {\n",
              "        vertical-align: middle;\n",
              "    }\n",
              "\n",
              "    .dataframe tbody tr th {\n",
              "        vertical-align: top;\n",
              "    }\n",
              "\n",
              "    .dataframe thead th {\n",
              "        text-align: right;\n",
              "    }\n",
              "</style>\n",
              "<table border=\"1\" class=\"dataframe\">\n",
              "  <thead>\n",
              "    <tr style=\"text-align: right;\">\n",
              "      <th></th>\n",
              "      <th></th>\n",
              "      <th>2016</th>\n",
              "      <th>2017</th>\n",
              "      <th>Percent_Growth</th>\n",
              "      <th>Jan_Units</th>\n",
              "      <th>Month</th>\n",
              "      <th>Day</th>\n",
              "      <th>Year</th>\n",
              "      <th>Active</th>\n",
              "    </tr>\n",
              "    <tr>\n",
              "      <th>Customer_Number</th>\n",
              "      <th>Customer_Name</th>\n",
              "      <th></th>\n",
              "      <th></th>\n",
              "      <th></th>\n",
              "      <th></th>\n",
              "      <th></th>\n",
              "      <th></th>\n",
              "      <th></th>\n",
              "      <th></th>\n",
              "    </tr>\n",
              "  </thead>\n",
              "  <tbody>\n",
              "    <tr>\n",
              "      <th>10001</th>\n",
              "      <th>Quest Industries</th>\n",
              "      <td>$125,000.00</td>\n",
              "      <td>$162,500.00</td>\n",
              "      <td>30.00%</td>\n",
              "      <td>500</td>\n",
              "      <td>1</td>\n",
              "      <td>10</td>\n",
              "      <td>2015</td>\n",
              "      <td>Y</td>\n",
              "    </tr>\n",
              "    <tr>\n",
              "      <th>10002</th>\n",
              "      <th>kara Industries</th>\n",
              "      <td>$125,000.00</td>\n",
              "      <td>$162,500.00</td>\n",
              "      <td>60.00%</td>\n",
              "      <td>500</td>\n",
              "      <td>1</td>\n",
              "      <td>10</td>\n",
              "      <td>2015</td>\n",
              "      <td>Y</td>\n",
              "    </tr>\n",
              "    <tr>\n",
              "      <th>10003</th>\n",
              "      <th>Dabu Industries</th>\n",
              "      <td>$154,000.00</td>\n",
              "      <td>$642,500.00</td>\n",
              "      <td>50.00%</td>\n",
              "      <td>9</td>\n",
              "      <td>1</td>\n",
              "      <td>10</td>\n",
              "      <td>2015</td>\n",
              "      <td>N</td>\n",
              "    </tr>\n",
              "    <tr>\n",
              "      <th>10004</th>\n",
              "      <th>Hero Industries</th>\n",
              "      <td>$165,000.00</td>\n",
              "      <td>$642,500.00</td>\n",
              "      <td>80.00%</td>\n",
              "      <td>600</td>\n",
              "      <td>1</td>\n",
              "      <td>11</td>\n",
              "      <td>2015</td>\n",
              "      <td>N</td>\n",
              "    </tr>\n",
              "    <tr>\n",
              "      <th>10005</th>\n",
              "      <th>XML Co</th>\n",
              "      <td>$125,000.00</td>\n",
              "      <td>$542,900.00</td>\n",
              "      <td>60.00%</td>\n",
              "      <td>800</td>\n",
              "      <td>2</td>\n",
              "      <td>11</td>\n",
              "      <td>2015</td>\n",
              "      <td>Y</td>\n",
              "    </tr>\n",
              "    <tr>\n",
              "      <th>10006</th>\n",
              "      <th>Uber Limited</th>\n",
              "      <td>$154,000.00</td>\n",
              "      <td>$456,870.00</td>\n",
              "      <td>50.00%</td>\n",
              "      <td>100</td>\n",
              "      <td>2</td>\n",
              "      <td>12</td>\n",
              "      <td>2015</td>\n",
              "      <td>Y</td>\n",
              "    </tr>\n",
              "    <tr>\n",
              "      <th>10007</th>\n",
              "      <th>Zara Pvt Ltd</th>\n",
              "      <td>$125,000.00</td>\n",
              "      <td>$129,000.00</td>\n",
              "      <td>16.00%</td>\n",
              "      <td>200</td>\n",
              "      <td>2</td>\n",
              "      <td>11</td>\n",
              "      <td>2015</td>\n",
              "      <td>Y</td>\n",
              "    </tr>\n",
              "    <tr>\n",
              "      <th>10008</th>\n",
              "      <th>Samsung</th>\n",
              "      <td>$154,000.00</td>\n",
              "      <td>$444,320.00</td>\n",
              "      <td>40.00%</td>\n",
              "      <td>300</td>\n",
              "      <td>1</td>\n",
              "      <td>12</td>\n",
              "      <td>2015</td>\n",
              "      <td>Y</td>\n",
              "    </tr>\n",
              "    <tr>\n",
              "      <th>10009</th>\n",
              "      <th>Airtel</th>\n",
              "      <td>$169,000.00</td>\n",
              "      <td>$435,000.00</td>\n",
              "      <td>60.00%</td>\n",
              "      <td>500</td>\n",
              "      <td>1</td>\n",
              "      <td>11</td>\n",
              "      <td>2015</td>\n",
              "      <td>Y</td>\n",
              "    </tr>\n",
              "  </tbody>\n",
              "</table>\n",
              "</div>"
            ],
            "text/plain": [
              "                                          2016          2017 Percent_Growth  \\\n",
              "Customer_Number Customer_Name                                                 \n",
              "10001           Quest Industries  $125,000.00   $162,500.00          30.00%   \n",
              "10002           kara Industries   $125,000.00   $162,500.00          60.00%   \n",
              "10003           Dabu Industries   $154,000.00   $642,500.00          50.00%   \n",
              "10004           Hero Industries   $165,000.00   $642,500.00          80.00%   \n",
              "10005           XML Co            $125,000.00   $542,900.00          60.00%   \n",
              "10006           Uber Limited      $154,000.00   $456,870.00          50.00%   \n",
              "10007           Zara Pvt Ltd      $125,000.00   $129,000.00          16.00%   \n",
              "10008           Samsung           $154,000.00   $444,320.00          40.00%   \n",
              "10009           Airtel            $169,000.00   $435,000.00          60.00%   \n",
              "\n",
              "                                 Jan_Units  Month  Day  Year Active  \n",
              "Customer_Number Customer_Name                                        \n",
              "10001           Quest Industries       500      1   10  2015      Y  \n",
              "10002           kara Industries        500      1   10  2015      Y  \n",
              "10003           Dabu Industries          9      1   10  2015      N  \n",
              "10004           Hero Industries        600      1   11  2015      N  \n",
              "10005           XML Co                 800      2   11  2015      Y  \n",
              "10006           Uber Limited           100      2   12  2015      Y  \n",
              "10007           Zara Pvt Ltd           200      2   11  2015      Y  \n",
              "10008           Samsung                300      1   12  2015      Y  \n",
              "10009           Airtel                 500      1   11  2015      Y  "
            ]
          },
          "metadata": {
            "tags": []
          },
          "execution_count": 49
        }
      ]
    },
    {
      "cell_type": "code",
      "metadata": {
        "id": "uQVPIQR3Riqp"
      },
      "source": [
        "type(df['2016'])"
      ],
      "execution_count": null,
      "outputs": []
    },
    {
      "cell_type": "code",
      "metadata": {
        "id": "3qhw0gT2Riqq",
        "outputId": "f622dce7-aed5-422d-dc58-853469de361a"
      },
      "source": [
        "#df['2016']+df['2017']\n",
        "\n",
        "for i in range(8):\n",
        "    a=(df.iloc[i]['2016'])\n",
        "    a=a.replace(\"$\",\"\")\n",
        "    print(a)\n",
        "    \n",
        "def removedollar(val):\n",
        "    val=val.replace(\"$\",\"\").replace(\",\",\"\")\n",
        "    return float(val)\n",
        "\n",
        "df['2016'] = df['2016'].apply(removedollar)\n",
        "\n",
        "\n",
        "df"
      ],
      "execution_count": null,
      "outputs": [
        {
          "output_type": "stream",
          "text": [
            "125,000.00 \n",
            "125,000.00 \n",
            "154,000.00 \n",
            "165,000.00 \n",
            "125,000.00 \n",
            "154,000.00 \n",
            "125,000.00 \n",
            "154,000.00 \n"
          ],
          "name": "stdout"
        },
        {
          "output_type": "execute_result",
          "data": {
            "text/html": [
              "<div>\n",
              "<style scoped>\n",
              "    .dataframe tbody tr th:only-of-type {\n",
              "        vertical-align: middle;\n",
              "    }\n",
              "\n",
              "    .dataframe tbody tr th {\n",
              "        vertical-align: top;\n",
              "    }\n",
              "\n",
              "    .dataframe thead th {\n",
              "        text-align: right;\n",
              "    }\n",
              "</style>\n",
              "<table border=\"1\" class=\"dataframe\">\n",
              "  <thead>\n",
              "    <tr style=\"text-align: right;\">\n",
              "      <th></th>\n",
              "      <th></th>\n",
              "      <th>2016</th>\n",
              "      <th>2017</th>\n",
              "      <th>Percent_Growth</th>\n",
              "      <th>Jan_Units</th>\n",
              "      <th>Month</th>\n",
              "      <th>Day</th>\n",
              "      <th>Year</th>\n",
              "      <th>Active</th>\n",
              "    </tr>\n",
              "    <tr>\n",
              "      <th>Customer_Number</th>\n",
              "      <th>Customer_Name</th>\n",
              "      <th></th>\n",
              "      <th></th>\n",
              "      <th></th>\n",
              "      <th></th>\n",
              "      <th></th>\n",
              "      <th></th>\n",
              "      <th></th>\n",
              "      <th></th>\n",
              "    </tr>\n",
              "  </thead>\n",
              "  <tbody>\n",
              "    <tr>\n",
              "      <th>10001</th>\n",
              "      <th>Quest Industries</th>\n",
              "      <td>125000.0</td>\n",
              "      <td>$162,500.00</td>\n",
              "      <td>30.00%</td>\n",
              "      <td>500</td>\n",
              "      <td>1</td>\n",
              "      <td>10</td>\n",
              "      <td>2015</td>\n",
              "      <td>Y</td>\n",
              "    </tr>\n",
              "    <tr>\n",
              "      <th>10002</th>\n",
              "      <th>kara Industries</th>\n",
              "      <td>125000.0</td>\n",
              "      <td>$162,500.00</td>\n",
              "      <td>60.00%</td>\n",
              "      <td>500</td>\n",
              "      <td>1</td>\n",
              "      <td>10</td>\n",
              "      <td>2015</td>\n",
              "      <td>Y</td>\n",
              "    </tr>\n",
              "    <tr>\n",
              "      <th>10003</th>\n",
              "      <th>Dabu Industries</th>\n",
              "      <td>154000.0</td>\n",
              "      <td>$642,500.00</td>\n",
              "      <td>50.00%</td>\n",
              "      <td>closed</td>\n",
              "      <td>1</td>\n",
              "      <td>10</td>\n",
              "      <td>2015</td>\n",
              "      <td>N</td>\n",
              "    </tr>\n",
              "    <tr>\n",
              "      <th>10004</th>\n",
              "      <th>Hero Industries</th>\n",
              "      <td>165000.0</td>\n",
              "      <td>$642,500.00</td>\n",
              "      <td>80.00%</td>\n",
              "      <td>600</td>\n",
              "      <td>1</td>\n",
              "      <td>11</td>\n",
              "      <td>2015</td>\n",
              "      <td>N</td>\n",
              "    </tr>\n",
              "    <tr>\n",
              "      <th>10005</th>\n",
              "      <th>XML Co</th>\n",
              "      <td>125000.0</td>\n",
              "      <td>$542,900.00</td>\n",
              "      <td>60.00%</td>\n",
              "      <td>800</td>\n",
              "      <td>2</td>\n",
              "      <td>11</td>\n",
              "      <td>2015</td>\n",
              "      <td>Y</td>\n",
              "    </tr>\n",
              "    <tr>\n",
              "      <th>10006</th>\n",
              "      <th>Uber Limited</th>\n",
              "      <td>154000.0</td>\n",
              "      <td>$456,870.00</td>\n",
              "      <td>50.00%</td>\n",
              "      <td>100</td>\n",
              "      <td>2</td>\n",
              "      <td>12</td>\n",
              "      <td>2015</td>\n",
              "      <td>Y</td>\n",
              "    </tr>\n",
              "    <tr>\n",
              "      <th>10007</th>\n",
              "      <th>Zara Pvt Ltd</th>\n",
              "      <td>125000.0</td>\n",
              "      <td>$129,000.00</td>\n",
              "      <td>16.00%</td>\n",
              "      <td>200</td>\n",
              "      <td>2</td>\n",
              "      <td>11</td>\n",
              "      <td>2015</td>\n",
              "      <td>Y</td>\n",
              "    </tr>\n",
              "    <tr>\n",
              "      <th>10008</th>\n",
              "      <th>Samsung</th>\n",
              "      <td>154000.0</td>\n",
              "      <td>$444,320.00</td>\n",
              "      <td>40.00%</td>\n",
              "      <td>300</td>\n",
              "      <td>1</td>\n",
              "      <td>12</td>\n",
              "      <td>2015</td>\n",
              "      <td>Y</td>\n",
              "    </tr>\n",
              "    <tr>\n",
              "      <th>10009</th>\n",
              "      <th>Airtel</th>\n",
              "      <td>169000.0</td>\n",
              "      <td>$435,000.00</td>\n",
              "      <td>60.00%</td>\n",
              "      <td>500</td>\n",
              "      <td>1</td>\n",
              "      <td>11</td>\n",
              "      <td>2015</td>\n",
              "      <td>Y</td>\n",
              "    </tr>\n",
              "  </tbody>\n",
              "</table>\n",
              "</div>"
            ],
            "text/plain": [
              "                                      2016          2017 Percent_Growth  \\\n",
              "Customer_Number Customer_Name                                             \n",
              "10001           Quest Industries  125000.0  $162,500.00          30.00%   \n",
              "10002           kara Industries   125000.0  $162,500.00          60.00%   \n",
              "10003           Dabu Industries   154000.0  $642,500.00          50.00%   \n",
              "10004           Hero Industries   165000.0  $642,500.00          80.00%   \n",
              "10005           XML Co            125000.0  $542,900.00          60.00%   \n",
              "10006           Uber Limited      154000.0  $456,870.00          50.00%   \n",
              "10007           Zara Pvt Ltd      125000.0  $129,000.00          16.00%   \n",
              "10008           Samsung           154000.0  $444,320.00          40.00%   \n",
              "10009           Airtel            169000.0  $435,000.00          60.00%   \n",
              "\n",
              "                                 Jan_Units  Month  Day  Year Active  \n",
              "Customer_Number Customer_Name                                        \n",
              "10001           Quest Industries       500      1   10  2015      Y  \n",
              "10002           kara Industries        500      1   10  2015      Y  \n",
              "10003           Dabu Industries     closed      1   10  2015      N  \n",
              "10004           Hero Industries        600      1   11  2015      N  \n",
              "10005           XML Co                 800      2   11  2015      Y  \n",
              "10006           Uber Limited           100      2   12  2015      Y  \n",
              "10007           Zara Pvt Ltd           200      2   11  2015      Y  \n",
              "10008           Samsung                300      1   12  2015      Y  \n",
              "10009           Airtel                 500      1   11  2015      Y  "
            ]
          },
          "metadata": {
            "tags": []
          },
          "execution_count": 159
        }
      ]
    },
    {
      "cell_type": "code",
      "metadata": {
        "id": "D_E2v-EiRiqq",
        "outputId": "4e3f6a28-0d30-49e3-b262-556ccd7c5d0e"
      },
      "source": [
        "df.iloc[0]['Percent_Growth']=df.iloc[0]['Percent_Growth'].replace('%', '')\n",
        "df.iloc[0]['Percent_Growth']   "
      ],
      "execution_count": null,
      "outputs": [
        {
          "output_type": "stream",
          "text": [
            "C:\\ProgramData\\Anaconda3\\lib\\site-packages\\ipykernel_launcher.py:1: SettingWithCopyWarning: \n",
            "A value is trying to be set on a copy of a slice from a DataFrame\n",
            "\n",
            "See the caveats in the documentation: http://pandas.pydata.org/pandas-docs/stable/indexing.html#indexing-view-versus-copy\n",
            "  \"\"\"Entry point for launching an IPython kernel.\n"
          ],
          "name": "stderr"
        },
        {
          "output_type": "execute_result",
          "data": {
            "text/plain": [
              "'30.00%'"
            ]
          },
          "metadata": {
            "tags": []
          },
          "execution_count": 162
        }
      ]
    },
    {
      "cell_type": "code",
      "metadata": {
        "id": "XuNWSqmDRiqr"
      },
      "source": [
        "def remove(value):\n",
        "    value = value.replace(\"%\", \"\")\n",
        "    return float(value)\n",
        "\n",
        "#INTERNALLY IT IS A LOOP\n",
        "df['Percent_Growth'] = df['Percent_Growth'].apply(remove)"
      ],
      "execution_count": null,
      "outputs": []
    },
    {
      "cell_type": "code",
      "metadata": {
        "id": "1ApW3iluRiqr"
      },
      "source": [
        "df['Percent_Growth']"
      ],
      "execution_count": null,
      "outputs": []
    },
    {
      "cell_type": "code",
      "metadata": {
        "id": "h_DlfGtkRiqr"
      },
      "source": [
        "def removepercent(val):\n",
        "    val= val.replace(\"%\",\"\")\n",
        "    return float(val)\n",
        "    \n",
        "df['Percent_Growth']= df['Percent_Growth'].apply(removepercent)"
      ],
      "execution_count": null,
      "outputs": []
    },
    {
      "cell_type": "code",
      "metadata": {
        "id": "obblfBT6Riqr",
        "outputId": "dda75bd8-464b-4cd0-db57-530792345de7"
      },
      "source": [
        "def convertdollar(val):\n",
        "    val= val.replace(\"$\",\"\").replace(\",\",\"\")\n",
        "    return float(val)\n",
        "   \n",
        "df['2016']= df['2016'].apply(convertdollar)\n"
      ],
      "execution_count": null,
      "outputs": [
        {
          "output_type": "error",
          "ename": "AttributeError",
          "evalue": "'float' object has no attribute 'replace'",
          "traceback": [
            "\u001b[1;31m---------------------------------------------------------------------------\u001b[0m",
            "\u001b[1;31mAttributeError\u001b[0m                            Traceback (most recent call last)",
            "\u001b[1;32m<ipython-input-8-cbbbb2db3ac6>\u001b[0m in \u001b[0;36m<module>\u001b[1;34m()\u001b[0m\n\u001b[0;32m      3\u001b[0m     \u001b[1;32mreturn\u001b[0m \u001b[0mfloat\u001b[0m\u001b[1;33m(\u001b[0m\u001b[0mval\u001b[0m\u001b[1;33m)\u001b[0m\u001b[1;33m\u001b[0m\u001b[0m\n\u001b[0;32m      4\u001b[0m \u001b[1;33m\u001b[0m\u001b[0m\n\u001b[1;32m----> 5\u001b[1;33m \u001b[0mdf\u001b[0m\u001b[1;33m[\u001b[0m\u001b[1;34m'2016'\u001b[0m\u001b[1;33m]\u001b[0m\u001b[1;33m=\u001b[0m \u001b[0mdf\u001b[0m\u001b[1;33m[\u001b[0m\u001b[1;34m'2016'\u001b[0m\u001b[1;33m]\u001b[0m\u001b[1;33m.\u001b[0m\u001b[0mapply\u001b[0m\u001b[1;33m(\u001b[0m\u001b[0mconvertdollar\u001b[0m\u001b[1;33m)\u001b[0m\u001b[1;33m\u001b[0m\u001b[0m\n\u001b[0m",
            "\u001b[1;32mC:\\ProgramData\\Anaconda3\\lib\\site-packages\\pandas\\core\\series.py\u001b[0m in \u001b[0;36mapply\u001b[1;34m(self, func, convert_dtype, args, **kwds)\u001b[0m\n\u001b[0;32m   2549\u001b[0m             \u001b[1;32melse\u001b[0m\u001b[1;33m:\u001b[0m\u001b[1;33m\u001b[0m\u001b[0m\n\u001b[0;32m   2550\u001b[0m                 \u001b[0mvalues\u001b[0m \u001b[1;33m=\u001b[0m \u001b[0mself\u001b[0m\u001b[1;33m.\u001b[0m\u001b[0masobject\u001b[0m\u001b[1;33m\u001b[0m\u001b[0m\n\u001b[1;32m-> 2551\u001b[1;33m                 \u001b[0mmapped\u001b[0m \u001b[1;33m=\u001b[0m \u001b[0mlib\u001b[0m\u001b[1;33m.\u001b[0m\u001b[0mmap_infer\u001b[0m\u001b[1;33m(\u001b[0m\u001b[0mvalues\u001b[0m\u001b[1;33m,\u001b[0m \u001b[0mf\u001b[0m\u001b[1;33m,\u001b[0m \u001b[0mconvert\u001b[0m\u001b[1;33m=\u001b[0m\u001b[0mconvert_dtype\u001b[0m\u001b[1;33m)\u001b[0m\u001b[1;33m\u001b[0m\u001b[0m\n\u001b[0m\u001b[0;32m   2552\u001b[0m \u001b[1;33m\u001b[0m\u001b[0m\n\u001b[0;32m   2553\u001b[0m         \u001b[1;32mif\u001b[0m \u001b[0mlen\u001b[0m\u001b[1;33m(\u001b[0m\u001b[0mmapped\u001b[0m\u001b[1;33m)\u001b[0m \u001b[1;32mand\u001b[0m \u001b[0misinstance\u001b[0m\u001b[1;33m(\u001b[0m\u001b[0mmapped\u001b[0m\u001b[1;33m[\u001b[0m\u001b[1;36m0\u001b[0m\u001b[1;33m]\u001b[0m\u001b[1;33m,\u001b[0m \u001b[0mSeries\u001b[0m\u001b[1;33m)\u001b[0m\u001b[1;33m:\u001b[0m\u001b[1;33m\u001b[0m\u001b[0m\n",
            "\u001b[1;32mpandas/_libs/src/inference.pyx\u001b[0m in \u001b[0;36mpandas._libs.lib.map_infer\u001b[1;34m()\u001b[0m\n",
            "\u001b[1;32m<ipython-input-8-cbbbb2db3ac6>\u001b[0m in \u001b[0;36mconvertdollar\u001b[1;34m(val)\u001b[0m\n\u001b[0;32m      1\u001b[0m \u001b[1;32mdef\u001b[0m \u001b[0mconvertdollar\u001b[0m\u001b[1;33m(\u001b[0m\u001b[0mval\u001b[0m\u001b[1;33m)\u001b[0m\u001b[1;33m:\u001b[0m\u001b[1;33m\u001b[0m\u001b[0m\n\u001b[1;32m----> 2\u001b[1;33m     \u001b[0mval\u001b[0m\u001b[1;33m=\u001b[0m \u001b[0mval\u001b[0m\u001b[1;33m.\u001b[0m\u001b[0mreplace\u001b[0m\u001b[1;33m(\u001b[0m\u001b[1;34m\"$\"\u001b[0m\u001b[1;33m,\u001b[0m\u001b[1;34m\"\"\u001b[0m\u001b[1;33m)\u001b[0m\u001b[1;33m.\u001b[0m\u001b[0mreplace\u001b[0m\u001b[1;33m(\u001b[0m\u001b[1;34m\",\"\u001b[0m\u001b[1;33m,\u001b[0m\u001b[1;34m\"\"\u001b[0m\u001b[1;33m)\u001b[0m\u001b[1;33m\u001b[0m\u001b[0m\n\u001b[0m\u001b[0;32m      3\u001b[0m     \u001b[1;32mreturn\u001b[0m \u001b[0mfloat\u001b[0m\u001b[1;33m(\u001b[0m\u001b[0mval\u001b[0m\u001b[1;33m)\u001b[0m\u001b[1;33m\u001b[0m\u001b[0m\n\u001b[0;32m      4\u001b[0m \u001b[1;33m\u001b[0m\u001b[0m\n\u001b[0;32m      5\u001b[0m \u001b[0mdf\u001b[0m\u001b[1;33m[\u001b[0m\u001b[1;34m'2016'\u001b[0m\u001b[1;33m]\u001b[0m\u001b[1;33m=\u001b[0m \u001b[0mdf\u001b[0m\u001b[1;33m[\u001b[0m\u001b[1;34m'2016'\u001b[0m\u001b[1;33m]\u001b[0m\u001b[1;33m.\u001b[0m\u001b[0mapply\u001b[0m\u001b[1;33m(\u001b[0m\u001b[0mconvertdollar\u001b[0m\u001b[1;33m)\u001b[0m\u001b[1;33m\u001b[0m\u001b[0m\n",
            "\u001b[1;31mAttributeError\u001b[0m: 'float' object has no attribute 'replace'"
          ]
        }
      ]
    },
    {
      "cell_type": "code",
      "metadata": {
        "id": "TRR1cAlfRiqs"
      },
      "source": [
        "df['2017']= df['2017'].apply(convertdollar)"
      ],
      "execution_count": null,
      "outputs": []
    },
    {
      "cell_type": "code",
      "metadata": {
        "id": "GqY9B8ubRiqs",
        "outputId": "3a643112-a763-40cd-cdc7-f96da876fd40"
      },
      "source": [
        "df.dtypes"
      ],
      "execution_count": null,
      "outputs": [
        {
          "output_type": "execute_result",
          "data": {
            "text/plain": [
              "Customer_Name      object\n",
              "2016              float64\n",
              "2017              float64\n",
              "Percent_Growth    float64\n",
              "Jan_Units          object\n",
              "Month               int64\n",
              "Day                 int64\n",
              "Year                int64\n",
              "Active             object\n",
              "dtype: object"
            ]
          },
          "metadata": {
            "tags": []
          },
          "execution_count": 14
        }
      ]
    },
    {
      "cell_type": "code",
      "metadata": {
        "id": "UVBiJRMIRiqt"
      },
      "source": [
        "df[['2016','2017']].sum()\n",
        "df['Percent_Growth']\n"
      ],
      "execution_count": null,
      "outputs": []
    },
    {
      "cell_type": "code",
      "metadata": {
        "id": "UPARrEptRiqt",
        "outputId": "be9a6400-14f2-4ea3-f332-b7586828037a"
      },
      "source": [
        "df1=df.copy()\n",
        "#df1['2016']> 152000\n",
        "df1.Month[df1.Year > 2009]+=5\n",
        "df1"
      ],
      "execution_count": null,
      "outputs": [
        {
          "output_type": "stream",
          "text": [
            "C:\\ProgramData\\Anaconda3\\lib\\site-packages\\ipykernel_launcher.py:3: SettingWithCopyWarning: \n",
            "A value is trying to be set on a copy of a slice from a DataFrame\n",
            "\n",
            "See the caveats in the documentation: http://pandas.pydata.org/pandas-docs/stable/indexing.html#indexing-view-versus-copy\n",
            "  This is separate from the ipykernel package so we can avoid doing imports until\n"
          ],
          "name": "stderr"
        },
        {
          "output_type": "execute_result",
          "data": {
            "text/html": [
              "<div>\n",
              "<style scoped>\n",
              "    .dataframe tbody tr th:only-of-type {\n",
              "        vertical-align: middle;\n",
              "    }\n",
              "\n",
              "    .dataframe tbody tr th {\n",
              "        vertical-align: top;\n",
              "    }\n",
              "\n",
              "    .dataframe thead th {\n",
              "        text-align: right;\n",
              "    }\n",
              "</style>\n",
              "<table border=\"1\" class=\"dataframe\">\n",
              "  <thead>\n",
              "    <tr style=\"text-align: right;\">\n",
              "      <th></th>\n",
              "      <th></th>\n",
              "      <th>2016</th>\n",
              "      <th>2017</th>\n",
              "      <th>Percent_Growth</th>\n",
              "      <th>Jan_Units</th>\n",
              "      <th>Month</th>\n",
              "      <th>Day</th>\n",
              "      <th>Year</th>\n",
              "      <th>Active</th>\n",
              "      <th>Supply_Date</th>\n",
              "      <th>totalsales</th>\n",
              "      <th>Start_date</th>\n",
              "    </tr>\n",
              "    <tr>\n",
              "      <th>Customer_Number</th>\n",
              "      <th>Customer_Name</th>\n",
              "      <th></th>\n",
              "      <th></th>\n",
              "      <th></th>\n",
              "      <th></th>\n",
              "      <th></th>\n",
              "      <th></th>\n",
              "      <th></th>\n",
              "      <th></th>\n",
              "      <th></th>\n",
              "      <th></th>\n",
              "      <th></th>\n",
              "    </tr>\n",
              "  </thead>\n",
              "  <tbody>\n",
              "    <tr>\n",
              "      <th>10001</th>\n",
              "      <th>Quest Industries</th>\n",
              "      <td>$125,000.00</td>\n",
              "      <td>$162,500.00</td>\n",
              "      <td>30.00%</td>\n",
              "      <td>500</td>\n",
              "      <td>6</td>\n",
              "      <td>10</td>\n",
              "      <td>2015</td>\n",
              "      <td>Y</td>\n",
              "      <td>2015-01-10</td>\n",
              "      <td>$125,000.00 $162,500.00</td>\n",
              "      <td>2015-01-10</td>\n",
              "    </tr>\n",
              "    <tr>\n",
              "      <th>10002</th>\n",
              "      <th>kara Industries</th>\n",
              "      <td>$125,000.00</td>\n",
              "      <td>$162,500.00</td>\n",
              "      <td>60.00%</td>\n",
              "      <td>500</td>\n",
              "      <td>6</td>\n",
              "      <td>10</td>\n",
              "      <td>2015</td>\n",
              "      <td>Y</td>\n",
              "      <td>2015-01-10</td>\n",
              "      <td>$125,000.00 $162,500.00</td>\n",
              "      <td>2015-01-10</td>\n",
              "    </tr>\n",
              "    <tr>\n",
              "      <th>10003</th>\n",
              "      <th>Dabu Industries</th>\n",
              "      <td>$154,000.00</td>\n",
              "      <td>$642,500.00</td>\n",
              "      <td>50.00%</td>\n",
              "      <td>closed</td>\n",
              "      <td>6</td>\n",
              "      <td>10</td>\n",
              "      <td>2015</td>\n",
              "      <td>N</td>\n",
              "      <td>2015-01-10</td>\n",
              "      <td>$154,000.00 $642,500.00</td>\n",
              "      <td>2015-01-10</td>\n",
              "    </tr>\n",
              "    <tr>\n",
              "      <th>10004</th>\n",
              "      <th>Hero Industries</th>\n",
              "      <td>$165,000.00</td>\n",
              "      <td>$642,500.00</td>\n",
              "      <td>80.00%</td>\n",
              "      <td>600</td>\n",
              "      <td>6</td>\n",
              "      <td>11</td>\n",
              "      <td>2015</td>\n",
              "      <td>N</td>\n",
              "      <td>2015-01-11</td>\n",
              "      <td>$165,000.00 $642,500.00</td>\n",
              "      <td>2015-01-11</td>\n",
              "    </tr>\n",
              "    <tr>\n",
              "      <th>10005</th>\n",
              "      <th>XML Co</th>\n",
              "      <td>$125,000.00</td>\n",
              "      <td>$542,900.00</td>\n",
              "      <td>60.00%</td>\n",
              "      <td>800</td>\n",
              "      <td>7</td>\n",
              "      <td>11</td>\n",
              "      <td>2015</td>\n",
              "      <td>Y</td>\n",
              "      <td>2015-02-11</td>\n",
              "      <td>$125,000.00 $542,900.00</td>\n",
              "      <td>2015-02-11</td>\n",
              "    </tr>\n",
              "    <tr>\n",
              "      <th>10006</th>\n",
              "      <th>Uber Limited</th>\n",
              "      <td>$154,000.00</td>\n",
              "      <td>$456,870.00</td>\n",
              "      <td>50.00%</td>\n",
              "      <td>100</td>\n",
              "      <td>7</td>\n",
              "      <td>12</td>\n",
              "      <td>2015</td>\n",
              "      <td>Y</td>\n",
              "      <td>2015-02-12</td>\n",
              "      <td>$154,000.00 $456,870.00</td>\n",
              "      <td>2015-02-12</td>\n",
              "    </tr>\n",
              "    <tr>\n",
              "      <th>10007</th>\n",
              "      <th>Zara Pvt Ltd</th>\n",
              "      <td>$125,000.00</td>\n",
              "      <td>$129,000.00</td>\n",
              "      <td>16.00%</td>\n",
              "      <td>200</td>\n",
              "      <td>7</td>\n",
              "      <td>11</td>\n",
              "      <td>2015</td>\n",
              "      <td>Y</td>\n",
              "      <td>2015-02-11</td>\n",
              "      <td>$125,000.00 $129,000.00</td>\n",
              "      <td>2015-02-11</td>\n",
              "    </tr>\n",
              "    <tr>\n",
              "      <th>10008</th>\n",
              "      <th>Samsung</th>\n",
              "      <td>$154,000.00</td>\n",
              "      <td>$444,320.00</td>\n",
              "      <td>40.00%</td>\n",
              "      <td>300</td>\n",
              "      <td>6</td>\n",
              "      <td>12</td>\n",
              "      <td>2015</td>\n",
              "      <td>Y</td>\n",
              "      <td>2015-01-12</td>\n",
              "      <td>$154,000.00 $444,320.00</td>\n",
              "      <td>2015-01-12</td>\n",
              "    </tr>\n",
              "    <tr>\n",
              "      <th>10009</th>\n",
              "      <th>Airtel</th>\n",
              "      <td>$169,000.00</td>\n",
              "      <td>$435,000.00</td>\n",
              "      <td>60.00%</td>\n",
              "      <td>500</td>\n",
              "      <td>6</td>\n",
              "      <td>11</td>\n",
              "      <td>2015</td>\n",
              "      <td>Y</td>\n",
              "      <td>2015-01-11</td>\n",
              "      <td>$169,000.00 $435,000.00</td>\n",
              "      <td>2015-01-11</td>\n",
              "    </tr>\n",
              "  </tbody>\n",
              "</table>\n",
              "</div>"
            ],
            "text/plain": [
              "                                          2016          2017 Percent_Growth  \\\n",
              "Customer_Number Customer_Name                                                 \n",
              "10001           Quest Industries  $125,000.00   $162,500.00          30.00%   \n",
              "10002           kara Industries   $125,000.00   $162,500.00          60.00%   \n",
              "10003           Dabu Industries   $154,000.00   $642,500.00          50.00%   \n",
              "10004           Hero Industries   $165,000.00   $642,500.00          80.00%   \n",
              "10005           XML Co            $125,000.00   $542,900.00          60.00%   \n",
              "10006           Uber Limited      $154,000.00   $456,870.00          50.00%   \n",
              "10007           Zara Pvt Ltd      $125,000.00   $129,000.00          16.00%   \n",
              "10008           Samsung           $154,000.00   $444,320.00          40.00%   \n",
              "10009           Airtel            $169,000.00   $435,000.00          60.00%   \n",
              "\n",
              "                                 Jan_Units  Month  Day  Year Active  \\\n",
              "Customer_Number Customer_Name                                         \n",
              "10001           Quest Industries       500      6   10  2015      Y   \n",
              "10002           kara Industries        500      6   10  2015      Y   \n",
              "10003           Dabu Industries     closed      6   10  2015      N   \n",
              "10004           Hero Industries        600      6   11  2015      N   \n",
              "10005           XML Co                 800      7   11  2015      Y   \n",
              "10006           Uber Limited           100      7   12  2015      Y   \n",
              "10007           Zara Pvt Ltd           200      7   11  2015      Y   \n",
              "10008           Samsung                300      6   12  2015      Y   \n",
              "10009           Airtel                 500      6   11  2015      Y   \n",
              "\n",
              "                                 Supply_Date                totalsales  \\\n",
              "Customer_Number Customer_Name                                            \n",
              "10001           Quest Industries  2015-01-10  $125,000.00 $162,500.00    \n",
              "10002           kara Industries   2015-01-10  $125,000.00 $162,500.00    \n",
              "10003           Dabu Industries   2015-01-10  $154,000.00 $642,500.00    \n",
              "10004           Hero Industries   2015-01-11  $165,000.00 $642,500.00    \n",
              "10005           XML Co            2015-02-11  $125,000.00 $542,900.00    \n",
              "10006           Uber Limited      2015-02-12  $154,000.00 $456,870.00    \n",
              "10007           Zara Pvt Ltd      2015-02-11  $125,000.00 $129,000.00    \n",
              "10008           Samsung           2015-01-12  $154,000.00 $444,320.00    \n",
              "10009           Airtel            2015-01-11  $169,000.00 $435,000.00    \n",
              "\n",
              "                                 Start_date  \n",
              "Customer_Number Customer_Name                \n",
              "10001           Quest Industries 2015-01-10  \n",
              "10002           kara Industries  2015-01-10  \n",
              "10003           Dabu Industries  2015-01-10  \n",
              "10004           Hero Industries  2015-01-11  \n",
              "10005           XML Co           2015-02-11  \n",
              "10006           Uber Limited     2015-02-12  \n",
              "10007           Zara Pvt Ltd     2015-02-11  \n",
              "10008           Samsung          2015-01-12  \n",
              "10009           Airtel           2015-01-11  "
            ]
          },
          "metadata": {
            "tags": []
          },
          "execution_count": 169
        }
      ]
    },
    {
      "cell_type": "code",
      "metadata": {
        "id": "NiMMMJ3nRiqu"
      },
      "source": [
        "df[['2016']]\n",
        "#df['2016']\n",
        "\n",
        "     2016\n",
        "0\t125000.0\n",
        "1\t125000.0\n",
        "2\t154000.0\n",
        "\n",
        "0    125000.0\n",
        "1    125000.0\n",
        "2    154000.0\n",
        "3    165000.0\n",
        "4    125000.0"
      ],
      "execution_count": null,
      "outputs": []
    },
    {
      "cell_type": "code",
      "metadata": {
        "id": "Oca5Vzi7Riqv"
      },
      "source": [
        "df[\"shipping_date\"]=pd.to_datetime(   df[['Day', \"Year\", \"Month\"]])\n",
        "df"
      ],
      "execution_count": null,
      "outputs": []
    },
    {
      "cell_type": "code",
      "metadata": {
        "id": "nEZYTXiGRiqw"
      },
      "source": [
        "df['2017'] = df['2017'].apply(removedollar)"
      ],
      "execution_count": null,
      "outputs": []
    },
    {
      "cell_type": "code",
      "metadata": {
        "id": "Y7ftwNNWRiqw"
      },
      "source": [
        "a='1098'\n",
        "type(a)\n",
        "b='646'\n",
        "\n",
        "int(a)+int(b)"
      ],
      "execution_count": null,
      "outputs": []
    },
    {
      "cell_type": "code",
      "metadata": {
        "id": "h5aKUdiPRiqw"
      },
      "source": [
        "date=df[['Day', 'Month','Year']]\n",
        "date\n",
        "\n",
        "df['shipping date']=pd.to_datetime(df[['Day', 'Month', 'Year']])\n",
        "df"
      ],
      "execution_count": null,
      "outputs": []
    },
    {
      "cell_type": "code",
      "metadata": {
        "id": "XEQBkyBERiqx"
      },
      "source": [
        "df1=df.dropna()\n",
        "df1\n",
        "\n",
        "df['2016'] + df['2017']\n",
        "\n",
        "def convertnumeric(  ):\n",
        "    \n",
        "    \n",
        "    \n",
        "     df['2016'].apply(convertnumeric)\n"
      ],
      "execution_count": null,
      "outputs": []
    },
    {
      "cell_type": "code",
      "metadata": {
        "id": "JmkbSJBvRiqy"
      },
      "source": [
        "df.dtypes\n",
        "\n"
      ],
      "execution_count": null,
      "outputs": []
    },
    {
      "cell_type": "code",
      "metadata": {
        "id": "4VHbb8rDRiqy"
      },
      "source": [
        "#because object is  a string\n",
        "df['2016']   +   df['2017']\n"
      ],
      "execution_count": null,
      "outputs": []
    },
    {
      "cell_type": "code",
      "metadata": {
        "id": "hysP3xFsRiqz"
      },
      "source": [
        "df.info()"
      ],
      "execution_count": null,
      "outputs": []
    },
    {
      "cell_type": "code",
      "metadata": {
        "id": "JIJj6WL4Riqz"
      },
      "source": [
        "df['Customer_Number']"
      ],
      "execution_count": null,
      "outputs": []
    },
    {
      "cell_type": "code",
      "metadata": {
        "id": "WV3uNeGPRiqz"
      },
      "source": [
        "df.dtypes\n",
        "\n",
        "astype"
      ],
      "execution_count": null,
      "outputs": []
    },
    {
      "cell_type": "code",
      "metadata": {
        "id": "QGo0bwR6Riq0"
      },
      "source": [
        "df.dtypes"
      ],
      "execution_count": null,
      "outputs": []
    },
    {
      "cell_type": "code",
      "metadata": {
        "id": "Bz0WOW93Riq0"
      },
      "source": [
        "df['Day'] = df['Day'].astype('int8')\n",
        "df['Year'] = df['Year'].astype('int8')\n",
        "df['Month'] = df['Month'].astype('int8')\n",
        "df.dtypes"
      ],
      "execution_count": null,
      "outputs": []
    },
    {
      "cell_type": "code",
      "metadata": {
        "id": "rUya2X7YRiq1"
      },
      "source": [
        "def remove_dollar(s):\n",
        "    new_val = s.replace(',','').replace('$', '')\n",
        "    print(new_val)\n",
        "    return float(new_val) \n"
      ],
      "execution_count": null,
      "outputs": []
    },
    {
      "cell_type": "code",
      "metadata": {
        "id": "uh1XvRehRiq1"
      },
      "source": [
        "df['Customer_Number']= df['Customer_Number'].astype('int')\n",
        "#To actually change use:\n",
        "\n",
        "\n",
        "df.dtypes"
      ],
      "execution_count": null,
      "outputs": []
    },
    {
      "cell_type": "code",
      "metadata": {
        "id": "Zhgp1sF_Riq2"
      },
      "source": [
        "df['Customer_Number']  =   df['Customer_Number'].astype('int')\n",
        "df['2016']\n",
        "\n",
        "df['2016'].astype('float')"
      ],
      "execution_count": null,
      "outputs": []
    },
    {
      "cell_type": "code",
      "metadata": {
        "id": "ewwa08BORiq2"
      },
      "source": [
        "#df['Jan_Units'].astype('int')\n",
        "#the last value is 'closed'"
      ],
      "execution_count": null,
      "outputs": []
    },
    {
      "cell_type": "code",
      "metadata": {
        "id": "3lDVsTyfRiq3"
      },
      "source": [
        "df['Active'].astype('bool')\n"
      ],
      "execution_count": null,
      "outputs": []
    },
    {
      "cell_type": "code",
      "metadata": {
        "id": "84q4WoCbRiq3"
      },
      "source": [
        "df.head(2)"
      ],
      "execution_count": null,
      "outputs": []
    },
    {
      "cell_type": "code",
      "metadata": {
        "id": "LcioUPgIRiq3"
      },
      "source": [
        "df"
      ],
      "execution_count": null,
      "outputs": []
    },
    {
      "cell_type": "code",
      "metadata": {
        "id": "zLfWa6h7Riq4"
      },
      "source": [
        "df.loc[3:4,'2016']\n",
        "\n",
        " \n",
        "\n",
        "df.loc[4,'Jan_Units']=900\n",
        "df.loc[4,'Jan_Units']\n",
        "df.loc[2,'Jan_Units']=0"
      ],
      "execution_count": null,
      "outputs": []
    },
    {
      "cell_type": "code",
      "metadata": {
        "id": "76jTdXc-Riq4"
      },
      "source": [
        "df"
      ],
      "execution_count": null,
      "outputs": []
    },
    {
      "cell_type": "code",
      "metadata": {
        "id": "YHIvMfJJRiq5"
      },
      "source": [
        "#Write functions in Pandas\n",
        "\n",
        "def remove_currency(val1):\n",
        "    new_val = val1.replace(',','').replace('$', '')\n",
        "    return float(new_val)    \n",
        "    \n",
        "df['2016'] = df['2016'].apply(remove_currency)\n",
        "\n",
        "\n",
        "df['2017']=df['2017'].apply(remove_currency)\n"
      ],
      "execution_count": null,
      "outputs": []
    },
    {
      "cell_type": "code",
      "metadata": {
        "id": "exExvy1QRiq5"
      },
      "source": [
        "df"
      ],
      "execution_count": null,
      "outputs": []
    },
    {
      "cell_type": "code",
      "metadata": {
        "id": "oWZtDZRjRiq5"
      },
      "source": [
        "df.dtypes\n",
        "df['2016']+df['2017']\n",
        "#df[::-2]\n",
        "#df.dtype"
      ],
      "execution_count": null,
      "outputs": []
    },
    {
      "cell_type": "code",
      "metadata": {
        "id": "xReGZaG-Riq6"
      },
      "source": [
        "df['Jan_Units'].value_counts()\n",
        "\n",
        "\n"
      ],
      "execution_count": null,
      "outputs": []
    },
    {
      "cell_type": "code",
      "metadata": {
        "id": "0Wrb0ggeRiq6"
      },
      "source": [
        ""
      ],
      "execution_count": null,
      "outputs": []
    },
    {
      "cell_type": "code",
      "metadata": {
        "id": "tI6-4CQVRiq6"
      },
      "source": [
        "df['2016']+df['2017']\n",
        "df.dtypes"
      ],
      "execution_count": null,
      "outputs": []
    },
    {
      "cell_type": "code",
      "metadata": {
        "id": "DCXdbhjORiq6"
      },
      "source": [
        "df\n",
        "#df['Percent_Growth']\n",
        "df['2016']+df['2017']"
      ],
      "execution_count": null,
      "outputs": []
    },
    {
      "cell_type": "code",
      "metadata": {
        "id": "3UeXfMp8Riq7"
      },
      "source": [
        ""
      ],
      "execution_count": null,
      "outputs": []
    },
    {
      "cell_type": "code",
      "metadata": {
        "id": "0BHsXNdPRiq7"
      },
      "source": [
        ""
      ],
      "execution_count": null,
      "outputs": []
    },
    {
      "cell_type": "code",
      "metadata": {
        "id": "_agBunAXRiq7"
      },
      "source": [
        "def convert_percent(val):   \n",
        "    \"\"\"\n",
        "    Convert the percentage string to an actual floating point percent\n",
        "    - Remove %\n",
        "    - Divide by 100 to make decimal\n",
        "    \"\"\"\n",
        "    new_val = val.replace('%', '')\n",
        "    return float(new_val) / 100\n",
        "\n",
        "df['Percent_Growth'] = df['Percent_Growth'].apply(convert_percent)"
      ],
      "execution_count": null,
      "outputs": []
    },
    {
      "cell_type": "code",
      "metadata": {
        "id": "W3Hn4dYzRiq7"
      },
      "source": [
        "df.dtypes\n"
      ],
      "execution_count": null,
      "outputs": []
    },
    {
      "cell_type": "code",
      "metadata": {
        "id": "ZoixMk3NRiq8"
      },
      "source": [
        "def remove_percentage(val):\n",
        "    nw_val = val.replace('%','')\n",
        "    return float(nw_val)/100\n",
        "\n",
        "df['Percent_Growth'] = df['Percent_Growth'].apply(remove_percentage)\n",
        "df"
      ],
      "execution_count": null,
      "outputs": []
    },
    {
      "cell_type": "code",
      "metadata": {
        "id": "ne2w9jQCRiq8"
      },
      "source": [
        "df[\"n2\"]=100\n",
        "df['2016+2017'] = df['2016']+df['2017']"
      ],
      "execution_count": null,
      "outputs": []
    },
    {
      "cell_type": "code",
      "metadata": {
        "id": "VnfuXaEpRiq8",
        "outputId": "3487e3d0-3ddd-4a34-ed41-7ea4841fda56"
      },
      "source": [
        "df"
      ],
      "execution_count": null,
      "outputs": [
        {
          "output_type": "execute_result",
          "data": {
            "text/html": [
              "<div>\n",
              "<style scoped>\n",
              "    .dataframe tbody tr th:only-of-type {\n",
              "        vertical-align: middle;\n",
              "    }\n",
              "\n",
              "    .dataframe tbody tr th {\n",
              "        vertical-align: top;\n",
              "    }\n",
              "\n",
              "    .dataframe thead th {\n",
              "        text-align: right;\n",
              "    }\n",
              "</style>\n",
              "<table border=\"1\" class=\"dataframe\">\n",
              "  <thead>\n",
              "    <tr style=\"text-align: right;\">\n",
              "      <th></th>\n",
              "      <th></th>\n",
              "      <th>2016</th>\n",
              "      <th>2017</th>\n",
              "      <th>Percent_Growth</th>\n",
              "      <th>Jan_Units</th>\n",
              "      <th>Month</th>\n",
              "      <th>Day</th>\n",
              "      <th>Year</th>\n",
              "      <th>Active</th>\n",
              "      <th>Supply_Date</th>\n",
              "      <th>totalsales</th>\n",
              "      <th>Start_date</th>\n",
              "      <th>n2</th>\n",
              "      <th>2016+2017</th>\n",
              "    </tr>\n",
              "    <tr>\n",
              "      <th>Customer_Number</th>\n",
              "      <th>Customer_Name</th>\n",
              "      <th></th>\n",
              "      <th></th>\n",
              "      <th></th>\n",
              "      <th></th>\n",
              "      <th></th>\n",
              "      <th></th>\n",
              "      <th></th>\n",
              "      <th></th>\n",
              "      <th></th>\n",
              "      <th></th>\n",
              "      <th></th>\n",
              "      <th></th>\n",
              "      <th></th>\n",
              "    </tr>\n",
              "  </thead>\n",
              "  <tbody>\n",
              "    <tr>\n",
              "      <th>10001</th>\n",
              "      <th>Quest Industries</th>\n",
              "      <td>$125,000.00</td>\n",
              "      <td>$162,500.00</td>\n",
              "      <td>30.00%</td>\n",
              "      <td>500</td>\n",
              "      <td>1</td>\n",
              "      <td>10</td>\n",
              "      <td>2015</td>\n",
              "      <td>Y</td>\n",
              "      <td>2015-01-10</td>\n",
              "      <td>$125,000.00 $162,500.00</td>\n",
              "      <td>2015-01-10</td>\n",
              "      <td>100</td>\n",
              "      <td>$125,000.00 $162,500.00</td>\n",
              "    </tr>\n",
              "    <tr>\n",
              "      <th>10002</th>\n",
              "      <th>kara Industries</th>\n",
              "      <td>$125,000.00</td>\n",
              "      <td>$162,500.00</td>\n",
              "      <td>60.00%</td>\n",
              "      <td>500</td>\n",
              "      <td>1</td>\n",
              "      <td>10</td>\n",
              "      <td>2015</td>\n",
              "      <td>Y</td>\n",
              "      <td>2015-01-10</td>\n",
              "      <td>$125,000.00 $162,500.00</td>\n",
              "      <td>2015-01-10</td>\n",
              "      <td>100</td>\n",
              "      <td>$125,000.00 $162,500.00</td>\n",
              "    </tr>\n",
              "    <tr>\n",
              "      <th>10003</th>\n",
              "      <th>Dabu Industries</th>\n",
              "      <td>$154,000.00</td>\n",
              "      <td>$642,500.00</td>\n",
              "      <td>50.00%</td>\n",
              "      <td>closed</td>\n",
              "      <td>1</td>\n",
              "      <td>10</td>\n",
              "      <td>2015</td>\n",
              "      <td>N</td>\n",
              "      <td>2015-01-10</td>\n",
              "      <td>$154,000.00 $642,500.00</td>\n",
              "      <td>2015-01-10</td>\n",
              "      <td>100</td>\n",
              "      <td>$154,000.00 $642,500.00</td>\n",
              "    </tr>\n",
              "    <tr>\n",
              "      <th>10004</th>\n",
              "      <th>Hero Industries</th>\n",
              "      <td>$165,000.00</td>\n",
              "      <td>$642,500.00</td>\n",
              "      <td>80.00%</td>\n",
              "      <td>600</td>\n",
              "      <td>1</td>\n",
              "      <td>11</td>\n",
              "      <td>2015</td>\n",
              "      <td>N</td>\n",
              "      <td>2015-01-11</td>\n",
              "      <td>$165,000.00 $642,500.00</td>\n",
              "      <td>2015-01-11</td>\n",
              "      <td>100</td>\n",
              "      <td>$165,000.00 $642,500.00</td>\n",
              "    </tr>\n",
              "    <tr>\n",
              "      <th>10005</th>\n",
              "      <th>XML Co</th>\n",
              "      <td>$125,000.00</td>\n",
              "      <td>$542,900.00</td>\n",
              "      <td>60.00%</td>\n",
              "      <td>800</td>\n",
              "      <td>2</td>\n",
              "      <td>11</td>\n",
              "      <td>2015</td>\n",
              "      <td>Y</td>\n",
              "      <td>2015-02-11</td>\n",
              "      <td>$125,000.00 $542,900.00</td>\n",
              "      <td>2015-02-11</td>\n",
              "      <td>100</td>\n",
              "      <td>$125,000.00 $542,900.00</td>\n",
              "    </tr>\n",
              "    <tr>\n",
              "      <th>10006</th>\n",
              "      <th>Uber Limited</th>\n",
              "      <td>$154,000.00</td>\n",
              "      <td>$456,870.00</td>\n",
              "      <td>50.00%</td>\n",
              "      <td>100</td>\n",
              "      <td>2</td>\n",
              "      <td>12</td>\n",
              "      <td>2015</td>\n",
              "      <td>Y</td>\n",
              "      <td>2015-02-12</td>\n",
              "      <td>$154,000.00 $456,870.00</td>\n",
              "      <td>2015-02-12</td>\n",
              "      <td>100</td>\n",
              "      <td>$154,000.00 $456,870.00</td>\n",
              "    </tr>\n",
              "    <tr>\n",
              "      <th>10007</th>\n",
              "      <th>Zara Pvt Ltd</th>\n",
              "      <td>$125,000.00</td>\n",
              "      <td>$129,000.00</td>\n",
              "      <td>16.00%</td>\n",
              "      <td>200</td>\n",
              "      <td>2</td>\n",
              "      <td>11</td>\n",
              "      <td>2015</td>\n",
              "      <td>Y</td>\n",
              "      <td>2015-02-11</td>\n",
              "      <td>$125,000.00 $129,000.00</td>\n",
              "      <td>2015-02-11</td>\n",
              "      <td>100</td>\n",
              "      <td>$125,000.00 $129,000.00</td>\n",
              "    </tr>\n",
              "    <tr>\n",
              "      <th>10008</th>\n",
              "      <th>Samsung</th>\n",
              "      <td>$154,000.00</td>\n",
              "      <td>$444,320.00</td>\n",
              "      <td>40.00%</td>\n",
              "      <td>300</td>\n",
              "      <td>1</td>\n",
              "      <td>12</td>\n",
              "      <td>2015</td>\n",
              "      <td>Y</td>\n",
              "      <td>2015-01-12</td>\n",
              "      <td>$154,000.00 $444,320.00</td>\n",
              "      <td>2015-01-12</td>\n",
              "      <td>100</td>\n",
              "      <td>$154,000.00 $444,320.00</td>\n",
              "    </tr>\n",
              "    <tr>\n",
              "      <th>10009</th>\n",
              "      <th>Airtel</th>\n",
              "      <td>$169,000.00</td>\n",
              "      <td>$435,000.00</td>\n",
              "      <td>60.00%</td>\n",
              "      <td>500</td>\n",
              "      <td>1</td>\n",
              "      <td>11</td>\n",
              "      <td>2015</td>\n",
              "      <td>Y</td>\n",
              "      <td>2015-01-11</td>\n",
              "      <td>$169,000.00 $435,000.00</td>\n",
              "      <td>2015-01-11</td>\n",
              "      <td>100</td>\n",
              "      <td>$169,000.00 $435,000.00</td>\n",
              "    </tr>\n",
              "  </tbody>\n",
              "</table>\n",
              "</div>"
            ],
            "text/plain": [
              "                                          2016          2017 Percent_Growth  \\\n",
              "Customer_Number Customer_Name                                                 \n",
              "10001           Quest Industries  $125,000.00   $162,500.00          30.00%   \n",
              "10002           kara Industries   $125,000.00   $162,500.00          60.00%   \n",
              "10003           Dabu Industries   $154,000.00   $642,500.00          50.00%   \n",
              "10004           Hero Industries   $165,000.00   $642,500.00          80.00%   \n",
              "10005           XML Co            $125,000.00   $542,900.00          60.00%   \n",
              "10006           Uber Limited      $154,000.00   $456,870.00          50.00%   \n",
              "10007           Zara Pvt Ltd      $125,000.00   $129,000.00          16.00%   \n",
              "10008           Samsung           $154,000.00   $444,320.00          40.00%   \n",
              "10009           Airtel            $169,000.00   $435,000.00          60.00%   \n",
              "\n",
              "                                 Jan_Units  Month  Day  Year Active  \\\n",
              "Customer_Number Customer_Name                                         \n",
              "10001           Quest Industries       500      1   10  2015      Y   \n",
              "10002           kara Industries        500      1   10  2015      Y   \n",
              "10003           Dabu Industries     closed      1   10  2015      N   \n",
              "10004           Hero Industries        600      1   11  2015      N   \n",
              "10005           XML Co                 800      2   11  2015      Y   \n",
              "10006           Uber Limited           100      2   12  2015      Y   \n",
              "10007           Zara Pvt Ltd           200      2   11  2015      Y   \n",
              "10008           Samsung                300      1   12  2015      Y   \n",
              "10009           Airtel                 500      1   11  2015      Y   \n",
              "\n",
              "                                 Supply_Date                totalsales  \\\n",
              "Customer_Number Customer_Name                                            \n",
              "10001           Quest Industries  2015-01-10  $125,000.00 $162,500.00    \n",
              "10002           kara Industries   2015-01-10  $125,000.00 $162,500.00    \n",
              "10003           Dabu Industries   2015-01-10  $154,000.00 $642,500.00    \n",
              "10004           Hero Industries   2015-01-11  $165,000.00 $642,500.00    \n",
              "10005           XML Co            2015-02-11  $125,000.00 $542,900.00    \n",
              "10006           Uber Limited      2015-02-12  $154,000.00 $456,870.00    \n",
              "10007           Zara Pvt Ltd      2015-02-11  $125,000.00 $129,000.00    \n",
              "10008           Samsung           2015-01-12  $154,000.00 $444,320.00    \n",
              "10009           Airtel            2015-01-11  $169,000.00 $435,000.00    \n",
              "\n",
              "                                 Start_date   n2                 2016+2017  \n",
              "Customer_Number Customer_Name                                               \n",
              "10001           Quest Industries 2015-01-10  100  $125,000.00 $162,500.00   \n",
              "10002           kara Industries  2015-01-10  100  $125,000.00 $162,500.00   \n",
              "10003           Dabu Industries  2015-01-10  100  $154,000.00 $642,500.00   \n",
              "10004           Hero Industries  2015-01-11  100  $165,000.00 $642,500.00   \n",
              "10005           XML Co           2015-02-11  100  $125,000.00 $542,900.00   \n",
              "10006           Uber Limited     2015-02-12  100  $154,000.00 $456,870.00   \n",
              "10007           Zara Pvt Ltd     2015-02-11  100  $125,000.00 $129,000.00   \n",
              "10008           Samsung          2015-01-12  100  $154,000.00 $444,320.00   \n",
              "10009           Airtel           2015-01-11  100  $169,000.00 $435,000.00   "
            ]
          },
          "metadata": {
            "tags": []
          },
          "execution_count": 172
        }
      ]
    },
    {
      "cell_type": "code",
      "metadata": {
        "id": "CKlfxX9yRiq9"
      },
      "source": [
        "def jan_increase(units):\n",
        "    if units != 'closed':\n",
        "        newunits = units + 10\n",
        "        return float(newunits)\n",
        "    \n",
        "\n",
        "df['Jan_Units'] = df['Jan_Units'].apply(jan_increase)"
      ],
      "execution_count": null,
      "outputs": []
    },
    {
      "cell_type": "code",
      "metadata": {
        "id": "2bUAwtFfRiq9",
        "outputId": "8facc52f-c8bd-4f65-b41c-b15b6fb95af8"
      },
      "source": [
        "a=df['Month']\n",
        "a\n",
        "df['Supply_Date']=pd.to_datetime (df[['Month','Day', 'Year']])\n",
        "df['totalsales']= df['2016']+df['2017']\n",
        "k=df[['totalsales', '2016', '2017']].std()\n",
        "k"
      ],
      "execution_count": null,
      "outputs": [
        {
          "output_type": "execute_result",
          "data": {
            "text/plain": [
              "Series([], dtype: float64)"
            ]
          },
          "metadata": {
            "tags": []
          },
          "execution_count": 164
        }
      ]
    },
    {
      "cell_type": "code",
      "metadata": {
        "id": "WVwi8eZ3Riq-"
      },
      "source": [
        "import numpy as np\n",
        "a=df[['Month']]\n",
        "df['newcol']=np.arange(20,38,2)\n",
        "df"
      ],
      "execution_count": null,
      "outputs": []
    },
    {
      "cell_type": "code",
      "metadata": {
        "id": "sCxbR3qNRiq-"
      },
      "source": [
        "pd.to_datetime(df[['Month','Day', 'Year']])"
      ],
      "execution_count": null,
      "outputs": []
    },
    {
      "cell_type": "code",
      "metadata": {
        "id": "XRwpiWq9Riq-"
      },
      "source": [
        "df['newdate'] =  pd.to_datetime(df[['Month','Day', 'Year']])\n",
        "df"
      ],
      "execution_count": null,
      "outputs": []
    },
    {
      "cell_type": "code",
      "metadata": {
        "id": "v7Ha1HLTRiq_",
        "outputId": "6dce03a8-3a03-4780-c2e7-660641d68ec0"
      },
      "source": [
        "df[\"Customer_Name\"]"
      ],
      "execution_count": null,
      "outputs": [
        {
          "output_type": "error",
          "ename": "KeyError",
          "evalue": "'Customer_Name'",
          "traceback": [
            "\u001b[1;31m---------------------------------------------------------------------------\u001b[0m",
            "\u001b[1;31mKeyError\u001b[0m                                  Traceback (most recent call last)",
            "\u001b[1;32mC:\\ProgramData\\Anaconda3\\lib\\site-packages\\pandas\\core\\indexes\\base.py\u001b[0m in \u001b[0;36mget_loc\u001b[1;34m(self, key, method, tolerance)\u001b[0m\n\u001b[0;32m   2524\u001b[0m             \u001b[1;32mtry\u001b[0m\u001b[1;33m:\u001b[0m\u001b[1;33m\u001b[0m\u001b[0m\n\u001b[1;32m-> 2525\u001b[1;33m                 \u001b[1;32mreturn\u001b[0m \u001b[0mself\u001b[0m\u001b[1;33m.\u001b[0m\u001b[0m_engine\u001b[0m\u001b[1;33m.\u001b[0m\u001b[0mget_loc\u001b[0m\u001b[1;33m(\u001b[0m\u001b[0mkey\u001b[0m\u001b[1;33m)\u001b[0m\u001b[1;33m\u001b[0m\u001b[0m\n\u001b[0m\u001b[0;32m   2526\u001b[0m             \u001b[1;32mexcept\u001b[0m \u001b[0mKeyError\u001b[0m\u001b[1;33m:\u001b[0m\u001b[1;33m\u001b[0m\u001b[0m\n",
            "\u001b[1;32mpandas/_libs/index.pyx\u001b[0m in \u001b[0;36mpandas._libs.index.IndexEngine.get_loc\u001b[1;34m()\u001b[0m\n",
            "\u001b[1;32mpandas/_libs/index.pyx\u001b[0m in \u001b[0;36mpandas._libs.index.IndexEngine.get_loc\u001b[1;34m()\u001b[0m\n",
            "\u001b[1;32mpandas/_libs/hashtable_class_helper.pxi\u001b[0m in \u001b[0;36mpandas._libs.hashtable.PyObjectHashTable.get_item\u001b[1;34m()\u001b[0m\n",
            "\u001b[1;32mpandas/_libs/hashtable_class_helper.pxi\u001b[0m in \u001b[0;36mpandas._libs.hashtable.PyObjectHashTable.get_item\u001b[1;34m()\u001b[0m\n",
            "\u001b[1;31mKeyError\u001b[0m: 'Customer_Name'",
            "\nDuring handling of the above exception, another exception occurred:\n",
            "\u001b[1;31mKeyError\u001b[0m                                  Traceback (most recent call last)",
            "\u001b[1;32m<ipython-input-170-64581b5727b3>\u001b[0m in \u001b[0;36m<module>\u001b[1;34m()\u001b[0m\n\u001b[1;32m----> 1\u001b[1;33m \u001b[0mdf\u001b[0m\u001b[1;33m[\u001b[0m\u001b[1;34m\"Customer_Name\"\u001b[0m\u001b[1;33m]\u001b[0m\u001b[1;33m\u001b[0m\u001b[0m\n\u001b[0m",
            "\u001b[1;32mC:\\ProgramData\\Anaconda3\\lib\\site-packages\\pandas\\core\\frame.py\u001b[0m in \u001b[0;36m__getitem__\u001b[1;34m(self, key)\u001b[0m\n\u001b[0;32m   2137\u001b[0m             \u001b[1;32mreturn\u001b[0m \u001b[0mself\u001b[0m\u001b[1;33m.\u001b[0m\u001b[0m_getitem_multilevel\u001b[0m\u001b[1;33m(\u001b[0m\u001b[0mkey\u001b[0m\u001b[1;33m)\u001b[0m\u001b[1;33m\u001b[0m\u001b[0m\n\u001b[0;32m   2138\u001b[0m         \u001b[1;32melse\u001b[0m\u001b[1;33m:\u001b[0m\u001b[1;33m\u001b[0m\u001b[0m\n\u001b[1;32m-> 2139\u001b[1;33m             \u001b[1;32mreturn\u001b[0m \u001b[0mself\u001b[0m\u001b[1;33m.\u001b[0m\u001b[0m_getitem_column\u001b[0m\u001b[1;33m(\u001b[0m\u001b[0mkey\u001b[0m\u001b[1;33m)\u001b[0m\u001b[1;33m\u001b[0m\u001b[0m\n\u001b[0m\u001b[0;32m   2140\u001b[0m \u001b[1;33m\u001b[0m\u001b[0m\n\u001b[0;32m   2141\u001b[0m     \u001b[1;32mdef\u001b[0m \u001b[0m_getitem_column\u001b[0m\u001b[1;33m(\u001b[0m\u001b[0mself\u001b[0m\u001b[1;33m,\u001b[0m \u001b[0mkey\u001b[0m\u001b[1;33m)\u001b[0m\u001b[1;33m:\u001b[0m\u001b[1;33m\u001b[0m\u001b[0m\n",
            "\u001b[1;32mC:\\ProgramData\\Anaconda3\\lib\\site-packages\\pandas\\core\\frame.py\u001b[0m in \u001b[0;36m_getitem_column\u001b[1;34m(self, key)\u001b[0m\n\u001b[0;32m   2144\u001b[0m         \u001b[1;31m# get column\u001b[0m\u001b[1;33m\u001b[0m\u001b[1;33m\u001b[0m\u001b[0m\n\u001b[0;32m   2145\u001b[0m         \u001b[1;32mif\u001b[0m \u001b[0mself\u001b[0m\u001b[1;33m.\u001b[0m\u001b[0mcolumns\u001b[0m\u001b[1;33m.\u001b[0m\u001b[0mis_unique\u001b[0m\u001b[1;33m:\u001b[0m\u001b[1;33m\u001b[0m\u001b[0m\n\u001b[1;32m-> 2146\u001b[1;33m             \u001b[1;32mreturn\u001b[0m \u001b[0mself\u001b[0m\u001b[1;33m.\u001b[0m\u001b[0m_get_item_cache\u001b[0m\u001b[1;33m(\u001b[0m\u001b[0mkey\u001b[0m\u001b[1;33m)\u001b[0m\u001b[1;33m\u001b[0m\u001b[0m\n\u001b[0m\u001b[0;32m   2147\u001b[0m \u001b[1;33m\u001b[0m\u001b[0m\n\u001b[0;32m   2148\u001b[0m         \u001b[1;31m# duplicate columns & possible reduce dimensionality\u001b[0m\u001b[1;33m\u001b[0m\u001b[1;33m\u001b[0m\u001b[0m\n",
            "\u001b[1;32mC:\\ProgramData\\Anaconda3\\lib\\site-packages\\pandas\\core\\generic.py\u001b[0m in \u001b[0;36m_get_item_cache\u001b[1;34m(self, item)\u001b[0m\n\u001b[0;32m   1840\u001b[0m         \u001b[0mres\u001b[0m \u001b[1;33m=\u001b[0m \u001b[0mcache\u001b[0m\u001b[1;33m.\u001b[0m\u001b[0mget\u001b[0m\u001b[1;33m(\u001b[0m\u001b[0mitem\u001b[0m\u001b[1;33m)\u001b[0m\u001b[1;33m\u001b[0m\u001b[0m\n\u001b[0;32m   1841\u001b[0m         \u001b[1;32mif\u001b[0m \u001b[0mres\u001b[0m \u001b[1;32mis\u001b[0m \u001b[1;32mNone\u001b[0m\u001b[1;33m:\u001b[0m\u001b[1;33m\u001b[0m\u001b[0m\n\u001b[1;32m-> 1842\u001b[1;33m             \u001b[0mvalues\u001b[0m \u001b[1;33m=\u001b[0m \u001b[0mself\u001b[0m\u001b[1;33m.\u001b[0m\u001b[0m_data\u001b[0m\u001b[1;33m.\u001b[0m\u001b[0mget\u001b[0m\u001b[1;33m(\u001b[0m\u001b[0mitem\u001b[0m\u001b[1;33m)\u001b[0m\u001b[1;33m\u001b[0m\u001b[0m\n\u001b[0m\u001b[0;32m   1843\u001b[0m             \u001b[0mres\u001b[0m \u001b[1;33m=\u001b[0m \u001b[0mself\u001b[0m\u001b[1;33m.\u001b[0m\u001b[0m_box_item_values\u001b[0m\u001b[1;33m(\u001b[0m\u001b[0mitem\u001b[0m\u001b[1;33m,\u001b[0m \u001b[0mvalues\u001b[0m\u001b[1;33m)\u001b[0m\u001b[1;33m\u001b[0m\u001b[0m\n\u001b[0;32m   1844\u001b[0m             \u001b[0mcache\u001b[0m\u001b[1;33m[\u001b[0m\u001b[0mitem\u001b[0m\u001b[1;33m]\u001b[0m \u001b[1;33m=\u001b[0m \u001b[0mres\u001b[0m\u001b[1;33m\u001b[0m\u001b[0m\n",
            "\u001b[1;32mC:\\ProgramData\\Anaconda3\\lib\\site-packages\\pandas\\core\\internals.py\u001b[0m in \u001b[0;36mget\u001b[1;34m(self, item, fastpath)\u001b[0m\n\u001b[0;32m   3841\u001b[0m \u001b[1;33m\u001b[0m\u001b[0m\n\u001b[0;32m   3842\u001b[0m             \u001b[1;32mif\u001b[0m \u001b[1;32mnot\u001b[0m \u001b[0misna\u001b[0m\u001b[1;33m(\u001b[0m\u001b[0mitem\u001b[0m\u001b[1;33m)\u001b[0m\u001b[1;33m:\u001b[0m\u001b[1;33m\u001b[0m\u001b[0m\n\u001b[1;32m-> 3843\u001b[1;33m                 \u001b[0mloc\u001b[0m \u001b[1;33m=\u001b[0m \u001b[0mself\u001b[0m\u001b[1;33m.\u001b[0m\u001b[0mitems\u001b[0m\u001b[1;33m.\u001b[0m\u001b[0mget_loc\u001b[0m\u001b[1;33m(\u001b[0m\u001b[0mitem\u001b[0m\u001b[1;33m)\u001b[0m\u001b[1;33m\u001b[0m\u001b[0m\n\u001b[0m\u001b[0;32m   3844\u001b[0m             \u001b[1;32melse\u001b[0m\u001b[1;33m:\u001b[0m\u001b[1;33m\u001b[0m\u001b[0m\n\u001b[0;32m   3845\u001b[0m                 \u001b[0mindexer\u001b[0m \u001b[1;33m=\u001b[0m \u001b[0mnp\u001b[0m\u001b[1;33m.\u001b[0m\u001b[0marange\u001b[0m\u001b[1;33m(\u001b[0m\u001b[0mlen\u001b[0m\u001b[1;33m(\u001b[0m\u001b[0mself\u001b[0m\u001b[1;33m.\u001b[0m\u001b[0mitems\u001b[0m\u001b[1;33m)\u001b[0m\u001b[1;33m)\u001b[0m\u001b[1;33m[\u001b[0m\u001b[0misna\u001b[0m\u001b[1;33m(\u001b[0m\u001b[0mself\u001b[0m\u001b[1;33m.\u001b[0m\u001b[0mitems\u001b[0m\u001b[1;33m)\u001b[0m\u001b[1;33m]\u001b[0m\u001b[1;33m\u001b[0m\u001b[0m\n",
            "\u001b[1;32mC:\\ProgramData\\Anaconda3\\lib\\site-packages\\pandas\\core\\indexes\\base.py\u001b[0m in \u001b[0;36mget_loc\u001b[1;34m(self, key, method, tolerance)\u001b[0m\n\u001b[0;32m   2525\u001b[0m                 \u001b[1;32mreturn\u001b[0m \u001b[0mself\u001b[0m\u001b[1;33m.\u001b[0m\u001b[0m_engine\u001b[0m\u001b[1;33m.\u001b[0m\u001b[0mget_loc\u001b[0m\u001b[1;33m(\u001b[0m\u001b[0mkey\u001b[0m\u001b[1;33m)\u001b[0m\u001b[1;33m\u001b[0m\u001b[0m\n\u001b[0;32m   2526\u001b[0m             \u001b[1;32mexcept\u001b[0m \u001b[0mKeyError\u001b[0m\u001b[1;33m:\u001b[0m\u001b[1;33m\u001b[0m\u001b[0m\n\u001b[1;32m-> 2527\u001b[1;33m                 \u001b[1;32mreturn\u001b[0m \u001b[0mself\u001b[0m\u001b[1;33m.\u001b[0m\u001b[0m_engine\u001b[0m\u001b[1;33m.\u001b[0m\u001b[0mget_loc\u001b[0m\u001b[1;33m(\u001b[0m\u001b[0mself\u001b[0m\u001b[1;33m.\u001b[0m\u001b[0m_maybe_cast_indexer\u001b[0m\u001b[1;33m(\u001b[0m\u001b[0mkey\u001b[0m\u001b[1;33m)\u001b[0m\u001b[1;33m)\u001b[0m\u001b[1;33m\u001b[0m\u001b[0m\n\u001b[0m\u001b[0;32m   2528\u001b[0m \u001b[1;33m\u001b[0m\u001b[0m\n\u001b[0;32m   2529\u001b[0m         \u001b[0mindexer\u001b[0m \u001b[1;33m=\u001b[0m \u001b[0mself\u001b[0m\u001b[1;33m.\u001b[0m\u001b[0mget_indexer\u001b[0m\u001b[1;33m(\u001b[0m\u001b[1;33m[\u001b[0m\u001b[0mkey\u001b[0m\u001b[1;33m]\u001b[0m\u001b[1;33m,\u001b[0m \u001b[0mmethod\u001b[0m\u001b[1;33m=\u001b[0m\u001b[0mmethod\u001b[0m\u001b[1;33m,\u001b[0m \u001b[0mtolerance\u001b[0m\u001b[1;33m=\u001b[0m\u001b[0mtolerance\u001b[0m\u001b[1;33m)\u001b[0m\u001b[1;33m\u001b[0m\u001b[0m\n",
            "\u001b[1;32mpandas/_libs/index.pyx\u001b[0m in \u001b[0;36mpandas._libs.index.IndexEngine.get_loc\u001b[1;34m()\u001b[0m\n",
            "\u001b[1;32mpandas/_libs/index.pyx\u001b[0m in \u001b[0;36mpandas._libs.index.IndexEngine.get_loc\u001b[1;34m()\u001b[0m\n",
            "\u001b[1;32mpandas/_libs/hashtable_class_helper.pxi\u001b[0m in \u001b[0;36mpandas._libs.hashtable.PyObjectHashTable.get_item\u001b[1;34m()\u001b[0m\n",
            "\u001b[1;32mpandas/_libs/hashtable_class_helper.pxi\u001b[0m in \u001b[0;36mpandas._libs.hashtable.PyObjectHashTable.get_item\u001b[1;34m()\u001b[0m\n",
            "\u001b[1;31mKeyError\u001b[0m: 'Customer_Name'"
          ]
        }
      ]
    },
    {
      "cell_type": "code",
      "metadata": {
        "id": "XQzcw-n6Riq_",
        "outputId": "f547973c-b20c-41ba-8f43-f5e906d1fd1e"
      },
      "source": [
        "df[['Month','Day','Year']]\n",
        "df[\"Start_date\"]= pd.to_datetime(df[['Month', 'Day', 'Year']])\n",
        "newdf_startdt=df[df['Start_date'] > '2015-01-10']\n",
        "newdf_samsung=df[df['Customer_Name'] == 'Samsung' & df['2016'] > 2000]\n",
        "newdf_samsung\n",
        "#df.drop([\"Start_date\"],axis=1)\n",
        "\n",
        "#df.drop([\"Start_date\"],axis=1, inplace=True)\n",
        "\n",
        "#df\n",
        "#        data.drop([\"Team\", \"Weight\"], axis = 1, inplace = True) \n"
      ],
      "execution_count": null,
      "outputs": [
        {
          "output_type": "error",
          "ename": "KeyError",
          "evalue": "'Customer_Name'",
          "traceback": [
            "\u001b[1;31m---------------------------------------------------------------------------\u001b[0m",
            "\u001b[1;31mKeyError\u001b[0m                                  Traceback (most recent call last)",
            "\u001b[1;32mC:\\ProgramData\\Anaconda3\\lib\\site-packages\\pandas\\core\\indexes\\base.py\u001b[0m in \u001b[0;36mget_loc\u001b[1;34m(self, key, method, tolerance)\u001b[0m\n\u001b[0;32m   2524\u001b[0m             \u001b[1;32mtry\u001b[0m\u001b[1;33m:\u001b[0m\u001b[1;33m\u001b[0m\u001b[0m\n\u001b[1;32m-> 2525\u001b[1;33m                 \u001b[1;32mreturn\u001b[0m \u001b[0mself\u001b[0m\u001b[1;33m.\u001b[0m\u001b[0m_engine\u001b[0m\u001b[1;33m.\u001b[0m\u001b[0mget_loc\u001b[0m\u001b[1;33m(\u001b[0m\u001b[0mkey\u001b[0m\u001b[1;33m)\u001b[0m\u001b[1;33m\u001b[0m\u001b[0m\n\u001b[0m\u001b[0;32m   2526\u001b[0m             \u001b[1;32mexcept\u001b[0m \u001b[0mKeyError\u001b[0m\u001b[1;33m:\u001b[0m\u001b[1;33m\u001b[0m\u001b[0m\n",
            "\u001b[1;32mpandas/_libs/index.pyx\u001b[0m in \u001b[0;36mpandas._libs.index.IndexEngine.get_loc\u001b[1;34m()\u001b[0m\n",
            "\u001b[1;32mpandas/_libs/index.pyx\u001b[0m in \u001b[0;36mpandas._libs.index.IndexEngine.get_loc\u001b[1;34m()\u001b[0m\n",
            "\u001b[1;32mpandas/_libs/hashtable_class_helper.pxi\u001b[0m in \u001b[0;36mpandas._libs.hashtable.PyObjectHashTable.get_item\u001b[1;34m()\u001b[0m\n",
            "\u001b[1;32mpandas/_libs/hashtable_class_helper.pxi\u001b[0m in \u001b[0;36mpandas._libs.hashtable.PyObjectHashTable.get_item\u001b[1;34m()\u001b[0m\n",
            "\u001b[1;31mKeyError\u001b[0m: 'Customer_Name'",
            "\nDuring handling of the above exception, another exception occurred:\n",
            "\u001b[1;31mKeyError\u001b[0m                                  Traceback (most recent call last)",
            "\u001b[1;32m<ipython-input-166-2dead12ea5cb>\u001b[0m in \u001b[0;36m<module>\u001b[1;34m()\u001b[0m\n\u001b[0;32m      2\u001b[0m \u001b[0mdf\u001b[0m\u001b[1;33m[\u001b[0m\u001b[1;34m\"Start_date\"\u001b[0m\u001b[1;33m]\u001b[0m\u001b[1;33m=\u001b[0m \u001b[0mpd\u001b[0m\u001b[1;33m.\u001b[0m\u001b[0mto_datetime\u001b[0m\u001b[1;33m(\u001b[0m\u001b[0mdf\u001b[0m\u001b[1;33m[\u001b[0m\u001b[1;33m[\u001b[0m\u001b[1;34m'Month'\u001b[0m\u001b[1;33m,\u001b[0m \u001b[1;34m'Day'\u001b[0m\u001b[1;33m,\u001b[0m \u001b[1;34m'Year'\u001b[0m\u001b[1;33m]\u001b[0m\u001b[1;33m]\u001b[0m\u001b[1;33m)\u001b[0m\u001b[1;33m\u001b[0m\u001b[0m\n\u001b[0;32m      3\u001b[0m \u001b[0mnewdf_startdt\u001b[0m\u001b[1;33m=\u001b[0m\u001b[0mdf\u001b[0m\u001b[1;33m[\u001b[0m\u001b[0mdf\u001b[0m\u001b[1;33m[\u001b[0m\u001b[1;34m'Start_date'\u001b[0m\u001b[1;33m]\u001b[0m \u001b[1;33m>\u001b[0m \u001b[1;34m'2015-01-10'\u001b[0m\u001b[1;33m]\u001b[0m\u001b[1;33m\u001b[0m\u001b[0m\n\u001b[1;32m----> 4\u001b[1;33m \u001b[0mnewdf_samsung\u001b[0m\u001b[1;33m=\u001b[0m\u001b[0mdf\u001b[0m\u001b[1;33m[\u001b[0m\u001b[0mdf\u001b[0m\u001b[1;33m[\u001b[0m\u001b[1;34m'Customer_Name'\u001b[0m\u001b[1;33m]\u001b[0m \u001b[1;33m==\u001b[0m \u001b[1;34m'Samsung'\u001b[0m \u001b[1;33m&\u001b[0m \u001b[0mdf\u001b[0m\u001b[1;33m[\u001b[0m\u001b[1;34m'2016'\u001b[0m\u001b[1;33m]\u001b[0m \u001b[1;33m>\u001b[0m \u001b[1;36m2000\u001b[0m\u001b[1;33m]\u001b[0m\u001b[1;33m\u001b[0m\u001b[0m\n\u001b[0m\u001b[0;32m      5\u001b[0m \u001b[0mnewdf_samsung\u001b[0m\u001b[1;33m\u001b[0m\u001b[0m\n\u001b[0;32m      6\u001b[0m \u001b[1;31m#df.drop([\"Start_date\"],axis=1)\u001b[0m\u001b[1;33m\u001b[0m\u001b[1;33m\u001b[0m\u001b[0m\n",
            "\u001b[1;32mC:\\ProgramData\\Anaconda3\\lib\\site-packages\\pandas\\core\\frame.py\u001b[0m in \u001b[0;36m__getitem__\u001b[1;34m(self, key)\u001b[0m\n\u001b[0;32m   2137\u001b[0m             \u001b[1;32mreturn\u001b[0m \u001b[0mself\u001b[0m\u001b[1;33m.\u001b[0m\u001b[0m_getitem_multilevel\u001b[0m\u001b[1;33m(\u001b[0m\u001b[0mkey\u001b[0m\u001b[1;33m)\u001b[0m\u001b[1;33m\u001b[0m\u001b[0m\n\u001b[0;32m   2138\u001b[0m         \u001b[1;32melse\u001b[0m\u001b[1;33m:\u001b[0m\u001b[1;33m\u001b[0m\u001b[0m\n\u001b[1;32m-> 2139\u001b[1;33m             \u001b[1;32mreturn\u001b[0m \u001b[0mself\u001b[0m\u001b[1;33m.\u001b[0m\u001b[0m_getitem_column\u001b[0m\u001b[1;33m(\u001b[0m\u001b[0mkey\u001b[0m\u001b[1;33m)\u001b[0m\u001b[1;33m\u001b[0m\u001b[0m\n\u001b[0m\u001b[0;32m   2140\u001b[0m \u001b[1;33m\u001b[0m\u001b[0m\n\u001b[0;32m   2141\u001b[0m     \u001b[1;32mdef\u001b[0m \u001b[0m_getitem_column\u001b[0m\u001b[1;33m(\u001b[0m\u001b[0mself\u001b[0m\u001b[1;33m,\u001b[0m \u001b[0mkey\u001b[0m\u001b[1;33m)\u001b[0m\u001b[1;33m:\u001b[0m\u001b[1;33m\u001b[0m\u001b[0m\n",
            "\u001b[1;32mC:\\ProgramData\\Anaconda3\\lib\\site-packages\\pandas\\core\\frame.py\u001b[0m in \u001b[0;36m_getitem_column\u001b[1;34m(self, key)\u001b[0m\n\u001b[0;32m   2144\u001b[0m         \u001b[1;31m# get column\u001b[0m\u001b[1;33m\u001b[0m\u001b[1;33m\u001b[0m\u001b[0m\n\u001b[0;32m   2145\u001b[0m         \u001b[1;32mif\u001b[0m \u001b[0mself\u001b[0m\u001b[1;33m.\u001b[0m\u001b[0mcolumns\u001b[0m\u001b[1;33m.\u001b[0m\u001b[0mis_unique\u001b[0m\u001b[1;33m:\u001b[0m\u001b[1;33m\u001b[0m\u001b[0m\n\u001b[1;32m-> 2146\u001b[1;33m             \u001b[1;32mreturn\u001b[0m \u001b[0mself\u001b[0m\u001b[1;33m.\u001b[0m\u001b[0m_get_item_cache\u001b[0m\u001b[1;33m(\u001b[0m\u001b[0mkey\u001b[0m\u001b[1;33m)\u001b[0m\u001b[1;33m\u001b[0m\u001b[0m\n\u001b[0m\u001b[0;32m   2147\u001b[0m \u001b[1;33m\u001b[0m\u001b[0m\n\u001b[0;32m   2148\u001b[0m         \u001b[1;31m# duplicate columns & possible reduce dimensionality\u001b[0m\u001b[1;33m\u001b[0m\u001b[1;33m\u001b[0m\u001b[0m\n",
            "\u001b[1;32mC:\\ProgramData\\Anaconda3\\lib\\site-packages\\pandas\\core\\generic.py\u001b[0m in \u001b[0;36m_get_item_cache\u001b[1;34m(self, item)\u001b[0m\n\u001b[0;32m   1840\u001b[0m         \u001b[0mres\u001b[0m \u001b[1;33m=\u001b[0m \u001b[0mcache\u001b[0m\u001b[1;33m.\u001b[0m\u001b[0mget\u001b[0m\u001b[1;33m(\u001b[0m\u001b[0mitem\u001b[0m\u001b[1;33m)\u001b[0m\u001b[1;33m\u001b[0m\u001b[0m\n\u001b[0;32m   1841\u001b[0m         \u001b[1;32mif\u001b[0m \u001b[0mres\u001b[0m \u001b[1;32mis\u001b[0m \u001b[1;32mNone\u001b[0m\u001b[1;33m:\u001b[0m\u001b[1;33m\u001b[0m\u001b[0m\n\u001b[1;32m-> 1842\u001b[1;33m             \u001b[0mvalues\u001b[0m \u001b[1;33m=\u001b[0m \u001b[0mself\u001b[0m\u001b[1;33m.\u001b[0m\u001b[0m_data\u001b[0m\u001b[1;33m.\u001b[0m\u001b[0mget\u001b[0m\u001b[1;33m(\u001b[0m\u001b[0mitem\u001b[0m\u001b[1;33m)\u001b[0m\u001b[1;33m\u001b[0m\u001b[0m\n\u001b[0m\u001b[0;32m   1843\u001b[0m             \u001b[0mres\u001b[0m \u001b[1;33m=\u001b[0m \u001b[0mself\u001b[0m\u001b[1;33m.\u001b[0m\u001b[0m_box_item_values\u001b[0m\u001b[1;33m(\u001b[0m\u001b[0mitem\u001b[0m\u001b[1;33m,\u001b[0m \u001b[0mvalues\u001b[0m\u001b[1;33m)\u001b[0m\u001b[1;33m\u001b[0m\u001b[0m\n\u001b[0;32m   1844\u001b[0m             \u001b[0mcache\u001b[0m\u001b[1;33m[\u001b[0m\u001b[0mitem\u001b[0m\u001b[1;33m]\u001b[0m \u001b[1;33m=\u001b[0m \u001b[0mres\u001b[0m\u001b[1;33m\u001b[0m\u001b[0m\n",
            "\u001b[1;32mC:\\ProgramData\\Anaconda3\\lib\\site-packages\\pandas\\core\\internals.py\u001b[0m in \u001b[0;36mget\u001b[1;34m(self, item, fastpath)\u001b[0m\n\u001b[0;32m   3841\u001b[0m \u001b[1;33m\u001b[0m\u001b[0m\n\u001b[0;32m   3842\u001b[0m             \u001b[1;32mif\u001b[0m \u001b[1;32mnot\u001b[0m \u001b[0misna\u001b[0m\u001b[1;33m(\u001b[0m\u001b[0mitem\u001b[0m\u001b[1;33m)\u001b[0m\u001b[1;33m:\u001b[0m\u001b[1;33m\u001b[0m\u001b[0m\n\u001b[1;32m-> 3843\u001b[1;33m                 \u001b[0mloc\u001b[0m \u001b[1;33m=\u001b[0m \u001b[0mself\u001b[0m\u001b[1;33m.\u001b[0m\u001b[0mitems\u001b[0m\u001b[1;33m.\u001b[0m\u001b[0mget_loc\u001b[0m\u001b[1;33m(\u001b[0m\u001b[0mitem\u001b[0m\u001b[1;33m)\u001b[0m\u001b[1;33m\u001b[0m\u001b[0m\n\u001b[0m\u001b[0;32m   3844\u001b[0m             \u001b[1;32melse\u001b[0m\u001b[1;33m:\u001b[0m\u001b[1;33m\u001b[0m\u001b[0m\n\u001b[0;32m   3845\u001b[0m                 \u001b[0mindexer\u001b[0m \u001b[1;33m=\u001b[0m \u001b[0mnp\u001b[0m\u001b[1;33m.\u001b[0m\u001b[0marange\u001b[0m\u001b[1;33m(\u001b[0m\u001b[0mlen\u001b[0m\u001b[1;33m(\u001b[0m\u001b[0mself\u001b[0m\u001b[1;33m.\u001b[0m\u001b[0mitems\u001b[0m\u001b[1;33m)\u001b[0m\u001b[1;33m)\u001b[0m\u001b[1;33m[\u001b[0m\u001b[0misna\u001b[0m\u001b[1;33m(\u001b[0m\u001b[0mself\u001b[0m\u001b[1;33m.\u001b[0m\u001b[0mitems\u001b[0m\u001b[1;33m)\u001b[0m\u001b[1;33m]\u001b[0m\u001b[1;33m\u001b[0m\u001b[0m\n",
            "\u001b[1;32mC:\\ProgramData\\Anaconda3\\lib\\site-packages\\pandas\\core\\indexes\\base.py\u001b[0m in \u001b[0;36mget_loc\u001b[1;34m(self, key, method, tolerance)\u001b[0m\n\u001b[0;32m   2525\u001b[0m                 \u001b[1;32mreturn\u001b[0m \u001b[0mself\u001b[0m\u001b[1;33m.\u001b[0m\u001b[0m_engine\u001b[0m\u001b[1;33m.\u001b[0m\u001b[0mget_loc\u001b[0m\u001b[1;33m(\u001b[0m\u001b[0mkey\u001b[0m\u001b[1;33m)\u001b[0m\u001b[1;33m\u001b[0m\u001b[0m\n\u001b[0;32m   2526\u001b[0m             \u001b[1;32mexcept\u001b[0m \u001b[0mKeyError\u001b[0m\u001b[1;33m:\u001b[0m\u001b[1;33m\u001b[0m\u001b[0m\n\u001b[1;32m-> 2527\u001b[1;33m                 \u001b[1;32mreturn\u001b[0m \u001b[0mself\u001b[0m\u001b[1;33m.\u001b[0m\u001b[0m_engine\u001b[0m\u001b[1;33m.\u001b[0m\u001b[0mget_loc\u001b[0m\u001b[1;33m(\u001b[0m\u001b[0mself\u001b[0m\u001b[1;33m.\u001b[0m\u001b[0m_maybe_cast_indexer\u001b[0m\u001b[1;33m(\u001b[0m\u001b[0mkey\u001b[0m\u001b[1;33m)\u001b[0m\u001b[1;33m)\u001b[0m\u001b[1;33m\u001b[0m\u001b[0m\n\u001b[0m\u001b[0;32m   2528\u001b[0m \u001b[1;33m\u001b[0m\u001b[0m\n\u001b[0;32m   2529\u001b[0m         \u001b[0mindexer\u001b[0m \u001b[1;33m=\u001b[0m \u001b[0mself\u001b[0m\u001b[1;33m.\u001b[0m\u001b[0mget_indexer\u001b[0m\u001b[1;33m(\u001b[0m\u001b[1;33m[\u001b[0m\u001b[0mkey\u001b[0m\u001b[1;33m]\u001b[0m\u001b[1;33m,\u001b[0m \u001b[0mmethod\u001b[0m\u001b[1;33m=\u001b[0m\u001b[0mmethod\u001b[0m\u001b[1;33m,\u001b[0m \u001b[0mtolerance\u001b[0m\u001b[1;33m=\u001b[0m\u001b[0mtolerance\u001b[0m\u001b[1;33m)\u001b[0m\u001b[1;33m\u001b[0m\u001b[0m\n",
            "\u001b[1;32mpandas/_libs/index.pyx\u001b[0m in \u001b[0;36mpandas._libs.index.IndexEngine.get_loc\u001b[1;34m()\u001b[0m\n",
            "\u001b[1;32mpandas/_libs/index.pyx\u001b[0m in \u001b[0;36mpandas._libs.index.IndexEngine.get_loc\u001b[1;34m()\u001b[0m\n",
            "\u001b[1;32mpandas/_libs/hashtable_class_helper.pxi\u001b[0m in \u001b[0;36mpandas._libs.hashtable.PyObjectHashTable.get_item\u001b[1;34m()\u001b[0m\n",
            "\u001b[1;32mpandas/_libs/hashtable_class_helper.pxi\u001b[0m in \u001b[0;36mpandas._libs.hashtable.PyObjectHashTable.get_item\u001b[1;34m()\u001b[0m\n",
            "\u001b[1;31mKeyError\u001b[0m: 'Customer_Name'"
          ]
        }
      ]
    },
    {
      "cell_type": "code",
      "metadata": {
        "id": "CtH0mxrJRirA"
      },
      "source": [
        "df['start_date'] = pd.to_datetime(df[   ['Month', 'Day', 'Year']     ])\n",
        "newdf = df[df['start_date'] >'2015-01-10']\n",
        "newdf"
      ],
      "execution_count": null,
      "outputs": []
    },
    {
      "cell_type": "code",
      "metadata": {
        "id": "nyYB2o9sRirA"
      },
      "source": [
        "\n",
        "df.dtypes"
      ],
      "execution_count": null,
      "outputs": []
    },
    {
      "cell_type": "code",
      "metadata": {
        "id": "O3_yXviMRirA"
      },
      "source": [
        "df.head(2)\n"
      ],
      "execution_count": null,
      "outputs": []
    },
    {
      "cell_type": "code",
      "metadata": {
        "id": "Ewql316bRirA"
      },
      "source": [
        "df.head(3)"
      ],
      "execution_count": null,
      "outputs": []
    },
    {
      "cell_type": "code",
      "metadata": {
        "id": "2yDdsuvsRirB"
      },
      "source": [
        "df['Customer_Name']"
      ],
      "execution_count": null,
      "outputs": []
    },
    {
      "cell_type": "code",
      "metadata": {
        "id": "piPEQnlQRirB"
      },
      "source": [
        "import pandas as pd\n",
        "ser= pd.Series([11,33,44,55])\n",
        "print(ser)\n",
        "print(ser[1])\n"
      ],
      "execution_count": null,
      "outputs": []
    },
    {
      "cell_type": "code",
      "metadata": {
        "id": "2A4wAyqZRirB"
      },
      "source": [
        "year=[2001,2002,2003,2004,2005]\n",
        "obj = pd.DataFrame([[40, 70, -50, 30],\n",
        "                    [20,30,40,50],\n",
        "                    [11,12,13,14],\n",
        "                    [4,5,6,7],\n",
        "                    [56,6,7,8]], index=year)\n",
        "print(obj)\n",
        "type(obj)\n",
        "obj.iloc[3]"
      ],
      "execution_count": null,
      "outputs": []
    },
    {
      "cell_type": "code",
      "metadata": {
        "id": "ezHytd3GRirB"
      },
      "source": [
        ""
      ],
      "execution_count": null,
      "outputs": []
    }
  ]
}